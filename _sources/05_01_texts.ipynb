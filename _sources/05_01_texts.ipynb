{
 "cells": [
  {
   "cell_type": "markdown",
   "id": "legendary-nicholas",
   "metadata": {},
   "source": [
    "# <center>Working with Textual Data</center>"
   ]
  },
  {
   "cell_type": "markdown",
   "id": "legal-sociology",
   "metadata": {},
   "source": [
    "<center>Dr. W.J.B. Mattingly</center>\n",
    "\n",
    "<center>Smithsonian Data Science Lab and United States Holocaust Memorial Museum</center>\n",
    "\n",
    "<center>January 2022</center>"
   ]
  },
  {
   "cell_type": "markdown",
   "id": "loved-holiday",
   "metadata": {},
   "source": [
    "## Covered in this Chapter"
   ]
  },
  {
   "cell_type": "markdown",
   "id": "increasing-fifteen",
   "metadata": {},
   "source": [
    "1) Text Files<br>\n",
    "2) The With Operator<br>\n",
    "3) How to Open Text Files in Python<br>\n",
    "4) How to Read from Text Files in Python<br>\n",
    "5) How to Write to Text Files in Python<br>"
   ]
  },
  {
   "cell_type": "markdown",
   "id": "prepared-superior",
   "metadata": {},
   "source": [
    "## Introduction"
   ]
  },
  {
   "cell_type": "markdown",
   "id": "further-application",
   "metadata": {},
   "source": [
    "Up until now, we have strictly worked with data that we have produced within our own code. Rarely will you ever copy-and-paste data into a Python script. Instead, you will need to interact with external data. Further, you will often need to save data in some way. This chapter is the first of two that walk you through how to interact with external data. We will be working with textual data in this chapter, while in the following chapter we will work with JSON, or JavaScript Object Notation data. In Part 07, Chapter 02, we will work with tabular data."
   ]
  },
  {
   "cell_type": "markdown",
   "id": "social-letter",
   "metadata": {},
   "source": [
    "## The With Operator"
   ]
  },
  {
   "cell_type": "markdown",
   "id": "adjacent-input",
   "metadata": {},
   "source": [
    "The with operator in Python is an essential command that allows for you to do something in memory for so long as the operator is open. This is really important when opening text files. There are several ways to open text files in Python, but I am only showing you this method because it is the most Pythonic. Other methods require you to close the text file in code. If you do not, it will remain open in memory. If you are working with 10,000 text files (I have done this before), and forget to add a close command in your code while iterating over all 10,000 files, your computer will run out of memory and crash. The with operator avoids this problem entirely.\n",
    "\n",
    "Let's see what it looks like in action and then we will break down what is happening."
   ]
  },
  {
   "cell_type": "code",
   "execution_count": 3,
   "id": "threatened-right",
   "metadata": {},
   "outputs": [
    {
     "name": "stdout",
     "output_type": "stream",
     "text": [
      "This is a sample of a text\n",
      "This is another line of the same sample text\n",
      "This is a third line.\n"
     ]
    }
   ],
   "source": [
    "with open ('data/sample.txt', \"r\") as f:\n",
    "    data = f.read()\n",
    "print (data)"
   ]
  },
  {
   "cell_type": "markdown",
   "id": "novel-sphere",
   "metadata": {},
   "source": []
  },
  {
   "cell_type": "code",
   "execution_count": 4,
   "id": "descending-dollar",
   "metadata": {},
   "outputs": [
    {
     "name": "stdout",
     "output_type": "stream",
     "text": [
      "['This is a sample of a text', 'This is another line of the same sample text', 'This is a third line.']\n"
     ]
    }
   ],
   "source": [
    "print (data.splitlines())"
   ]
  },
  {
   "cell_type": "markdown",
   "id": "concerned-communist",
   "metadata": {},
   "source": []
  },
  {
   "cell_type": "markdown",
   "id": "prostate-westminster",
   "metadata": {},
   "source": []
  },
  {
   "cell_type": "code",
   "execution_count": 5,
   "id": "electronic-paris",
   "metadata": {},
   "outputs": [],
   "source": [
    "new_string = \"This is a new string.\"\n",
    "with open (\"data/sample2.txt\", \"w\") as f:\n",
    "    f.write(new_string)"
   ]
  },
  {
   "cell_type": "markdown",
   "id": "sorted-butterfly",
   "metadata": {},
   "source": []
  },
  {
   "cell_type": "code",
   "execution_count": null,
   "id": "dependent-boxing",
   "metadata": {},
   "outputs": [],
   "source": []
  },
  {
   "cell_type": "markdown",
   "id": "rubber-lambda",
   "metadata": {},
   "source": []
  },
  {
   "cell_type": "code",
   "execution_count": null,
   "id": "south-slave",
   "metadata": {},
   "outputs": [],
   "source": []
  },
  {
   "cell_type": "code",
   "execution_count": null,
   "id": "ranging-system",
   "metadata": {},
   "outputs": [],
   "source": []
  },
  {
   "cell_type": "code",
   "execution_count": null,
   "id": "perfect-relief",
   "metadata": {},
   "outputs": [],
   "source": []
  }
 ],
 "metadata": {
  "kernelspec": {
   "display_name": "Python 3",
   "language": "python",
   "name": "python3"
  },
  "language_info": {
   "codemirror_mode": {
    "name": "ipython",
    "version": 3
   },
   "file_extension": ".py",
   "mimetype": "text/x-python",
   "name": "python",
   "nbconvert_exporter": "python",
   "pygments_lexer": "ipython3",
   "version": "3.9.2"
  }
 },
 "nbformat": 4,
 "nbformat_minor": 5
}
