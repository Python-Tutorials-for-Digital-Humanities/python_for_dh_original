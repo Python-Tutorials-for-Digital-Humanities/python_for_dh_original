{
 "cells": [
  {
   "cell_type": "markdown",
   "id": "lesser-flavor",
   "metadata": {},
   "source": [
    "# <center>Introduction to Python</center>"
   ]
  },
  {
   "cell_type": "markdown",
   "id": "radio-journey",
   "metadata": {},
   "source": [
    "<center>Dr. W.J.B. Mattingly</center>\n",
    "\n",
    "<center>Smithsonian Data Science Lab and United States Holocaust Memorial Museum</center>\n",
    "\n",
    "<center>August 2021</center>"
   ]
  },
  {
   "cell_type": "markdown",
   "id": "attractive-latitude",
   "metadata": {},
   "source": [
    "## Covered in this Chapter"
   ]
  },
  {
   "cell_type": "markdown",
   "id": "regulation-antigua",
   "metadata": {},
   "source": [
    "1) Why should historians, or humanists in general, learn to code?<br>\n",
    "2) Why use Python specifically?<br>\n",
    "3) What is covered in this textbook?<br>"
   ]
  },
  {
   "cell_type": "markdown",
   "id": "assisted-landing",
   "metadata": {},
   "source": [
    "## About this Textbook"
   ]
  },
  {
   "cell_type": "markdown",
   "id": "active-weekend",
   "metadata": {},
   "source": [
    "If you are reading this textbook, then you, like me, are probably a humanist interested in coding. If you are here, then it is likely true that you have already been presented with or heard about the benefits of coding. Nevertheless, I will begin this textbook with the presumption that you need convincing. It is my hope that by the end of this chapter, you will not only have a clear understanding of the utility of coding, but its direct applications to humanities-based inquiry. You will also learn about Python specifically and where it sits within the realm of coding languages. This chapter will not argue that Python is the best programming language, rather it will present the strengths and weaknesses of it compared to others available. I will conclude this chapter with a brief outline of this textbook, so that you will have a clear picture of where we are going and, most importantly, why.\n",
    "\n",
    "If you have no coding experience, please do not worry. I presume no knowledge on the part of the reader about computers or programming. This textbook is meant to serve both as a primary and a refresher. As you progress through this textbook, you will notice video links. These videos are meant to serve as video-based lectures that cover the material in greater detail. While text is a well-suited medium for educating others, with programming it is sometimes important to watch live coding. More importantly, a person learning to code should engage with the language itself. This particular textbook is coded in JupyterBook. A good way to think about JupyterBook is as a regular electronic textbook that allows me, the author, to execute code so that you, the reader, can see the results. It also allows you, the reader, to download the book and execute the commands locally. I will be explaining all of this as we progress through the textbook."
   ]
  },
  {
   "cell_type": "markdown",
   "id": "general-jacksonville",
   "metadata": {},
   "source": [
    "## Why Should Humanists Learn to Code?"
   ]
  },
  {
   "cell_type": "markdown",
   "id": "tough-board",
   "metadata": {},
   "source": [
    "As a humanist who had a rather traditional education, I know all too well the skepticism that is placed on digital approaches to humanist inquiry. This skepticism, believe it or not, is well earned and should not be scoffed at. Learning to code will mean that you, as a humanist, can do things that other humanist who cannot code will not be able to do. You will be able to analyze thousands of texts in minutes. You will be able to find relevant images among 300,000. You will be able to clean texts so that you can perform more complex searches. All of these benefits, however, come at a cost. You must, by default, surrender some tasks to a machine and this means that the tasks you are performing will not be 100% accurate. As a result, you may miss certain key pieces of information. If you decide to learn to code as a humanist, you must become familiar and comfortable with these concepts.\n",
    "\n",
    "In computer science and data science, this caveat is well-understood and accepted. In the humanities, however, it is and should be met with skepticism. Humanists are researchers who pride themselves in close reading of texts. In some cases, a historian writing a PhD may spend years with only a handful of documents. So how then do wee handle this seemingly paradoxical position. The answer is understanding and not ignoring the weaknesses coding presents in a research workflow. In understanding that weakness, you as a humanist must make it known to your audience that your methods are not 100% accurate, but you have taken steps necessary to ensure as high an accuracy as possible. Further, should you use coding to engage in other adventures, such as machine learning, you should be reluctant to rest conclusions strongly on the results of your computational approaches unless you are well-acquainted with the mathematics and statistics behind them.\n",
    "\n",
    "With this scaring warning out of the way, let us then consider the benefits of coding. We, as humans, are fundamentally flawed. We must sleep, eat, socialize, enjoy relationships with loved ones; essentially, we must live our lives. We are mortal beings who will die. Our time is one of our greatest commodities. All of these things mean that we cannot opperate 24/7 on a single task for 365 days a year. Furthermore, we are terrible at performing repetitive tasks. We, as humans, make mistakes."
   ]
  },
  {
   "cell_type": "markdown",
   "id": "finnish-geography",
   "metadata": {},
   "source": []
  },
  {
   "cell_type": "code",
   "execution_count": null,
   "id": "matched-preserve",
   "metadata": {},
   "outputs": [],
   "source": []
  },
  {
   "cell_type": "markdown",
   "id": "earned-september",
   "metadata": {},
   "source": []
  },
  {
   "cell_type": "markdown",
   "id": "governing-philippines",
   "metadata": {},
   "source": [
    "## Finding Strings that Don't Contain Feature"
   ]
  },
  {
   "cell_type": "markdown",
   "id": "occupational-boring",
   "metadata": {},
   "source": []
  },
  {
   "cell_type": "code",
   "execution_count": null,
   "id": "rolled-mumbai",
   "metadata": {},
   "outputs": [],
   "source": []
  },
  {
   "cell_type": "markdown",
   "id": "civilian-springfield",
   "metadata": {},
   "source": [
    "## Using RegEx with Pandas"
   ]
  },
  {
   "cell_type": "markdown",
   "id": "stuffed-preparation",
   "metadata": {},
   "source": []
  },
  {
   "cell_type": "code",
   "execution_count": null,
   "id": "adjusted-easter",
   "metadata": {},
   "outputs": [],
   "source": []
  },
  {
   "cell_type": "markdown",
   "id": "decimal-formation",
   "metadata": {},
   "source": []
  },
  {
   "cell_type": "code",
   "execution_count": null,
   "id": "behavioral-gross",
   "metadata": {},
   "outputs": [],
   "source": []
  },
  {
   "cell_type": "markdown",
   "id": "first-purpose",
   "metadata": {},
   "source": []
  },
  {
   "cell_type": "code",
   "execution_count": null,
   "id": "respective-plant",
   "metadata": {},
   "outputs": [],
   "source": []
  },
  {
   "cell_type": "code",
   "execution_count": null,
   "id": "registered-society",
   "metadata": {},
   "outputs": [],
   "source": []
  },
  {
   "cell_type": "code",
   "execution_count": null,
   "id": "allied-nylon",
   "metadata": {},
   "outputs": [],
   "source": []
  }
 ],
 "metadata": {
  "kernelspec": {
   "display_name": "Python 3",
   "language": "python",
   "name": "python3"
  },
  "language_info": {
   "codemirror_mode": {
    "name": "ipython",
    "version": 3
   },
   "file_extension": ".py",
   "mimetype": "text/x-python",
   "name": "python",
   "nbconvert_exporter": "python",
   "pygments_lexer": "ipython3",
   "version": "3.9.2"
  }
 },
 "nbformat": 4,
 "nbformat_minor": 5
}
