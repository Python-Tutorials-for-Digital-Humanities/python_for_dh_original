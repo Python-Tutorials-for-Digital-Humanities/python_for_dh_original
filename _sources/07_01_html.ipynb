{
 "cells": [
  {
   "cell_type": "markdown",
   "id": "210870de-b1d8-4c75-b2c9-57877c87ce70",
   "metadata": {},
   "source": [
    "# <center>Introduction to HTML</center>"
   ]
  },
  {
   "cell_type": "markdown",
   "id": "dd329bb4-e37c-46f7-8070-39db66828e93",
   "metadata": {},
   "source": [
    "<center>Dr. W.J.B. Mattingly</center>\n",
    "\n",
    "<center>Smithsonian Data Science Lab and United States Holocaust Memorial Museum</center>\n",
    "\n",
    "<center>January 2022</center>"
   ]
  },
  {
   "cell_type": "markdown",
   "id": "f5834ea6-9a8f-4b45-ac83-8a18b032ca63",
   "metadata": {},
   "source": [
    "## Covered in this Chapter"
   ]
  },
  {
   "cell_type": "markdown",
   "id": "efe324d8-1ffb-46dd-9c95-fa360105da26",
   "metadata": {},
   "source": [
    "1) HTML<br>\n",
    "2) Tags<br>\n",
    "3) Attributes<br>"
   ]
  },
  {
   "cell_type": "markdown",
   "id": "3ba0a7db-3563-4542-b312-a0b6acb6020e",
   "metadata": {},
   "source": [
    "## Introduction"
   ]
  },
  {
   "cell_type": "markdown",
   "id": "0b59ad74-ec41-4b3b-8465-218e4ef0ff49",
   "metadata": {},
   "source": [
    "In part 7 of this textbook, we will learn about web scraping, one of the more vital skills of a digital humanist. <b>Web scraping</b> is process by which we automate the calling to a server (which hosts a website) and parsing the HTML file. <b>HTML</b> stands for HyperText Markup Language. It is the way in which websites are structured. When we web scrape a website, we write rules for extracting pieces of information from it based on how that data is structured within the HTML. To be competent at web scraping, therefore, one must be able to understand and parse HTML.\n",
    "\n",
    "In this chapter, we will break down HTML and you will learn the most common tags, such as div, p, strong, and span. You will also learn about attributes within these tags, such as href, class, and id. It is vital that you understand this before moving onto the next chapter in which we learn how to web scrape with Python."
   ]
  },
  {
   "cell_type": "markdown",
   "id": "38b63b13-214f-45af-8cea-1ee9e9d02482",
   "metadata": {},
   "source": [
    "## Diving into HTML"
   ]
  },
  {
   "cell_type": "markdown",
   "id": "aebb20af-21b9-4a0e-aa31-6c74c1deb04b",
   "metadata": {},
   "source": [
    "So why is HTML useful? HTML, like other markup languages, such as XML "
   ]
  },
  {
   "cell_type": "code",
   "execution_count": null,
   "id": "4aba14ab-a604-4cab-a11f-899b889b3ae5",
   "metadata": {},
   "outputs": [],
   "source": []
  },
  {
   "cell_type": "code",
   "execution_count": null,
   "id": "09427df8-c038-4a2b-bbfd-2416c54d848d",
   "metadata": {},
   "outputs": [],
   "source": []
  },
  {
   "cell_type": "code",
   "execution_count": null,
   "id": "0e05e8c2-d521-40b2-97cf-eca02963e58f",
   "metadata": {},
   "outputs": [],
   "source": []
  },
  {
   "cell_type": "markdown",
   "id": "c8e93926-1d41-44da-b8fd-fab60365c583",
   "metadata": {},
   "source": []
  },
  {
   "cell_type": "code",
   "execution_count": null,
   "id": "ad44eed6-3734-4b64-8a30-cba306ca5a2e",
   "metadata": {},
   "outputs": [],
   "source": []
  },
  {
   "cell_type": "markdown",
   "id": "054e050d-b0e2-4d8f-8304-df6982a493bc",
   "metadata": {},
   "source": []
  },
  {
   "cell_type": "code",
   "execution_count": null,
   "id": "45a74892-142c-40dc-a38e-0b1fef0d0409",
   "metadata": {},
   "outputs": [],
   "source": []
  },
  {
   "cell_type": "markdown",
   "id": "ae29f889-0a01-4a66-a35b-31376286db25",
   "metadata": {},
   "source": []
  },
  {
   "cell_type": "code",
   "execution_count": null,
   "id": "80dfc807-6940-43c9-8a5b-8973bc964766",
   "metadata": {},
   "outputs": [],
   "source": []
  },
  {
   "cell_type": "code",
   "execution_count": null,
   "id": "894dfca9-0967-4812-9fa6-b52784a3a602",
   "metadata": {},
   "outputs": [],
   "source": []
  },
  {
   "cell_type": "code",
   "execution_count": null,
   "id": "f94ab090-2e74-40cf-bb87-277c9d161f63",
   "metadata": {},
   "outputs": [],
   "source": []
  }
 ],
 "metadata": {
  "kernelspec": {
   "display_name": "Python 3",
   "language": "python",
   "name": "python3"
  },
  "language_info": {
   "codemirror_mode": {
    "name": "ipython",
    "version": 3
   },
   "file_extension": ".py",
   "mimetype": "text/x-python",
   "name": "python",
   "nbconvert_exporter": "python",
   "pygments_lexer": "ipython3",
   "version": "3.8.5"
  }
 },
 "nbformat": 4,
 "nbformat_minor": 5
}
