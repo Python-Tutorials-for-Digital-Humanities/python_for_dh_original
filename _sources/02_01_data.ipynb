{
 "cells": [
  {
   "cell_type": "markdown",
   "id": "marked-cruise",
   "metadata": {},
   "source": [
    "# <center>Introduction to Data</center>"
   ]
  },
  {
   "cell_type": "markdown",
   "id": "christian-compatibility",
   "metadata": {},
   "source": [
    "<center>Dr. W.J.B. Mattingly</center>\n",
    "\n",
    "<center>Smithsonian Data Science Lab and United States Holocaust Memorial Museum</center>\n",
    "\n",
    "<center>January 2022</center>"
   ]
  },
  {
   "cell_type": "markdown",
   "id": "bibliographic-trunk",
   "metadata": {},
   "source": [
    "## Covered in this Chapter"
   ]
  },
  {
   "cell_type": "markdown",
   "id": "christian-savannah",
   "metadata": {},
   "source": [
    "1) What is Data?<br>\n",
    "2) Types of Python Data<br>\n",
    "3) Strings<br>\n",
    "4) Numbers (Integers and Floats)<br>\n",
    "5) Booleans<br>\n",
    "6) Manipulating Strings<br>\n",
    "7) Mathematical Operations<br>"
   ]
  },
  {
   "cell_type": "markdown",
   "id": "romance-aside",
   "metadata": {},
   "source": [
    "## Some Quick Notes about Terminology and Commands we will Use"
   ]
  },
  {
   "cell_type": "markdown",
   "id": "retained-booth",
   "metadata": {},
   "source": [
    "### Objects"
   ]
  },
  {
   "cell_type": "markdown",
   "id": "raising-catalog",
   "metadata": {},
   "source": [
    "When we import or create data within Python, we are essentially creating an object in memory with a variable. These two words, <b>object</b> and <b>variable</b> mean slightly different things and, but are often used interchangeably. We will not get into the complexities of their differences and why they exist in this textbook, but for now, view an object as something that is created by a Python script and stored in your computer's memory so that it can be used later in a program.\n",
    "\n",
    "Think of your <b>computer's memory</b> rather like your own brain. Imagine if you needed to remember what the word for \"hello\" in German. You may use your memory rather like a flashcard, where \"hello\" in English equates to \"hallo\" in German. In Python, we create objects in a similar way. The object would be the dictionary entry of \"hello: hallo\".created"
   ]
  },
  {
   "cell_type": "markdown",
   "id": "1de1f033-8442-481e-87f4-8e32dbed1c3d",
   "metadata": {},
   "source": [
    "### Variables"
   ]
  },
  {
   "cell_type": "markdown",
   "id": "7bfa1c70-52a9-409c-b1a0-7acfacc1ece3",
   "metadata": {},
   "source": [
    "In order to reference this dictionary entry in memory, we need a way to reference it. We do this with a variable. The variable is simply the name of the item in our script that will point to that object in memory. Variables make it so that we can have an easy-to-remember name to reference, call, and change that object in memory.\n",
    "\n",
    "Variables can be created by typing a unique word, followed by an = sign, followed by the specific data. As we will learn throughout this chapter, there are many types of data that are created differently. Let's create our first object before we begin. This will be a string, or a piece of text. (We will learn about these in more detail below.) In my case, I want to create the object author. I want author to be associated with my name in memory. In the cell, or block of code, below, let's do this."
   ]
  },
  {
   "cell_type": "code",
   "execution_count": 1,
   "id": "equal-vietnam",
   "metadata": {},
   "outputs": [],
   "source": [
    "author = \"William Mattingly\""
   ]
  },
  {
   "cell_type": "markdown",
   "id": "bright-stereo",
   "metadata": {},
   "source": [
    "### The Print Function"
   ]
  },
  {
   "cell_type": "markdown",
   "id": "intended-commissioner",
   "metadata": {},
   "source": [
    "Excellent! We have created our first object. Now, it is time to use that object. Below, we will learn about ways we can manipulate strings, but for now, let's simply see if that object exists in memory. We can do this with the print function.\n",
    "\n",
    "The print function will become your best friend in Python. It is, perhaps, the function I use most commonly. The reason for this is because the print function allows for you to easily debug, or identify problems and fix them, within your code. It allows us to print off objects that are stored in memory.\n",
    "\n",
    "To use the print function, we type the word print followed by an open parentheses. After the open parentheses, we place the object or that or piece of data that we want to print. After that, we close the function with the close parentheses. Let's try to print off our new object author to make sure it is in memory."
   ]
  },
  {
   "cell_type": "code",
   "execution_count": 2,
   "id": "reported-multiple",
   "metadata": {},
   "outputs": [
    {
     "name": "stdout",
     "output_type": "stream",
     "text": [
      "William Mattingly\n"
     ]
    }
   ],
   "source": [
    "print (author)"
   ]
  },
  {
   "cell_type": "markdown",
   "id": "given-undergraduate",
   "metadata": {},
   "source": [
    "Notice that when I execute the cell above, I see an output that relates to the object we created above. What would happen if I tried to print off that object, but I used a capital letter, rather than a lowercase one at the beginning, so Author, rather than author?"
   ]
  },
  {
   "cell_type": "markdown",
   "id": "adapted-chrome",
   "metadata": {},
   "source": [
    "### Case Sensitivity"
   ]
  },
  {
   "cell_type": "code",
   "execution_count": 3,
   "id": "defensive-presentation",
   "metadata": {},
   "outputs": [
    {
     "ename": "NameError",
     "evalue": "name 'Author' is not defined",
     "output_type": "error",
     "traceback": [
      "\u001b[0;31m---------------------------------------------------------------------------\u001b[0m",
      "\u001b[0;31mNameError\u001b[0m                                 Traceback (most recent call last)",
      "Input \u001b[0;32mIn [3]\u001b[0m, in \u001b[0;36m<cell line: 1>\u001b[0;34m()\u001b[0m\n\u001b[0;32m----> 1\u001b[0m \u001b[38;5;28mprint\u001b[39m (\u001b[43mAuthor\u001b[49m)\n",
      "\u001b[0;31mNameError\u001b[0m: name 'Author' is not defined"
     ]
    }
   ],
   "source": [
    "print (Author)"
   ]
  },
  {
   "cell_type": "markdown",
   "id": "racial-rochester",
   "metadata": {},
   "source": [
    "The scary looking block of text above indicates that we have produced an error in Python. This mistake teaches us two things. First, python is case sensitive. This means that if any object (or string) will need to be matched in not only letters, but also the case of those letters. Second, this mistake teaches us that we can only call objects that have been created and stored in memory."
   ]
  },
  {
   "cell_type": "markdown",
   "id": "trained-observation",
   "metadata": {},
   "source": [
    "## What is Data?"
   ]
  },
  {
   "cell_type": "markdown",
   "id": "southwest-binary",
   "metadata": {},
   "source": [
    "In Python there are seven key pieces of data and data structures with which we will be working:\n",
    "\n",
    "- strings (text)\n",
    "- integers (whole numbers)\n",
    "- floats (decimal numbers)\n",
    "- Booleans (True or False)\n",
    "- lists\n",
    "- tuples (lists that cannot be changed in memory)\n",
    "- dictionaries (key : value)\n",
    "\n",
    "In the next two chapters, we will explore each of these. While this chapter focuses on data: strings, integers, floats, and Booleans; the next chapter will focus on data structures: lists, tuples, and dictionaries.\n",
    "\n",
    "Data are pieces of information (the singular is datum)i.e., integers, floats, and strings. Data structures are objects that make data relational, i.e. lists, tuples, and dictionaries. Before you proceed to lesson three, you MUST have a basic understanding of the ways in which you create data in Python and the ways in which you make that data relational through data structures. Start to train your brain to recognize the Python syntax for these pieces of data and data structures discussed below."
   ]
  },
  {
   "cell_type": "markdown",
   "id": "selective-dutch",
   "metadata": {},
   "source": [
    "## Strings"
   ]
  },
  {
   "cell_type": "markdown",
   "id": "valid-karma",
   "metadata": {},
   "source": [
    "<b>Strings</b> are a sequence of characters. A good way to think about a string is as a text. We can create a string in python by designating a unique variable name and setting = to something within quotation marks, i.e. ” ” or ‘ ‘.\n",
    "\n",
    "The opening of a quotation mark indicates to Python that a string has begun and the closing of the same style of a quotation mark indicates the close of a string. It is important to use the same style of quotation mark for a string, either a double or a single. In the examples below, we have two string objects: a_string and b_string, the former corresponds to the string “Hello” and the latter corresponds to the string “Bye”.\n",
    "\n",
    "Let's take a look at a few examples of strings."
   ]
  },
  {
   "cell_type": "markdown",
   "id": "partial-found",
   "metadata": {},
   "source": [
    "### Examples of Strings"
   ]
  },
  {
   "cell_type": "code",
   "execution_count": 4,
   "id": "swiss-cardiff",
   "metadata": {},
   "outputs": [],
   "source": [
    "#Strings - any kind of text\n",
    "str1 = \"This is a string.\""
   ]
  },
  {
   "cell_type": "code",
   "execution_count": 5,
   "id": "exterior-camcorder",
   "metadata": {},
   "outputs": [
    {
     "name": "stdout",
     "output_type": "stream",
     "text": [
      "This is a string.\n"
     ]
    }
   ],
   "source": [
    "print (str1)"
   ]
  },
  {
   "cell_type": "code",
   "execution_count": 6,
   "id": "unique-hampton",
   "metadata": {},
   "outputs": [],
   "source": [
    "str2 = 'This is a string too.'"
   ]
  },
  {
   "cell_type": "code",
   "execution_count": 7,
   "id": "middle-hampshire",
   "metadata": {},
   "outputs": [
    {
     "name": "stdout",
     "output_type": "stream",
     "text": [
      "This is a string too.\n"
     ]
    }
   ],
   "source": [
    "print (str2)"
   ]
  },
  {
   "cell_type": "code",
   "execution_count": 8,
   "id": "sharp-nursery",
   "metadata": {},
   "outputs": [
    {
     "ename": "SyntaxError",
     "evalue": "invalid syntax (124381001.py, line 1)",
     "output_type": "error",
     "traceback": [
      "\u001b[0;36m  Input \u001b[0;32mIn [8]\u001b[0;36m\u001b[0m\n\u001b[0;31m    str3 = \"This is a \"bad\" example of a string\"\u001b[0m\n\u001b[0m                       ^\u001b[0m\n\u001b[0;31mSyntaxError\u001b[0m\u001b[0;31m:\u001b[0m invalid syntax\n"
     ]
    }
   ],
   "source": [
    "str3 = \"This is a \"bad\" example of a string\""
   ]
  },
  {
   "cell_type": "code",
   "execution_count": 9,
   "id": "varied-reset",
   "metadata": {},
   "outputs": [
    {
     "ename": "NameError",
     "evalue": "name 'str3' is not defined",
     "output_type": "error",
     "traceback": [
      "\u001b[0;31m---------------------------------------------------------------------------\u001b[0m",
      "\u001b[0;31mNameError\u001b[0m                                 Traceback (most recent call last)",
      "Input \u001b[0;32mIn [9]\u001b[0m, in \u001b[0;36m<cell line: 1>\u001b[0;34m()\u001b[0m\n\u001b[0;32m----> 1\u001b[0m \u001b[38;5;28mprint\u001b[39m (\u001b[43mstr3\u001b[49m)\n",
      "\u001b[0;31mNameError\u001b[0m: name 'str3' is not defined"
     ]
    }
   ],
   "source": [
    "print (str3)"
   ]
  },
  {
   "cell_type": "code",
   "execution_count": null,
   "id": "thermal-spokesman",
   "metadata": {},
   "outputs": [],
   "source": [
    "str4 = '''\n",
    "This is a verrry long string.\n",
    "\n",
    "'''"
   ]
  },
  {
   "cell_type": "code",
   "execution_count": null,
   "id": "interpreted-review",
   "metadata": {},
   "outputs": [],
   "source": [
    "print (str4)"
   ]
  },
  {
   "cell_type": "markdown",
   "id": "exotic-morrison",
   "metadata": {},
   "source": [
    "## Numbers (Integers and Floats)"
   ]
  },
  {
   "cell_type": "markdown",
   "id": "falling-relay",
   "metadata": {},
   "source": [
    "Numbers are represented in programming languages in two several ways. The two we will deal with are integers and floats.\n",
    "\n",
    "An <b>integer</b> is a digit that does not contain a decimal place, i.e. 1 or 2 or 3. This can be a number of any size, such as 100,001,200. A float, on the other hand, is a digit with a decimal place. So, while 1 is an integer, 1.0 is a float. Floats, like integers, can be of any size, but they necessarily have a decimal place, i.e. 200.0020002938. In python, you do not need any special characters to create an integer or float object. You simply need an equal sign. In the example below, we have two objects which are created with a single equal sign. These objects are titled an_integer and a_float with the former being an object that corresponds to the integer 1 and the latter being an object that corresponds to the float 1.1."
   ]
  },
  {
   "cell_type": "markdown",
   "id": "preceding-transfer",
   "metadata": {},
   "source": [
    "### Examples of Numbers"
   ]
  },
  {
   "cell_type": "code",
   "execution_count": null,
   "id": "olympic-slovenia",
   "metadata": {},
   "outputs": [],
   "source": [
    "int1 = 1"
   ]
  },
  {
   "cell_type": "code",
   "execution_count": null,
   "id": "cheap-register",
   "metadata": {},
   "outputs": [],
   "source": [
    "print (int1)"
   ]
  },
  {
   "cell_type": "code",
   "execution_count": null,
   "id": "southeast-membership",
   "metadata": {},
   "outputs": [],
   "source": [
    "float1 = 1.1"
   ]
  },
  {
   "cell_type": "code",
   "execution_count": null,
   "id": "later-vehicle",
   "metadata": {},
   "outputs": [],
   "source": [
    "print (float1)"
   ]
  },
  {
   "cell_type": "markdown",
   "id": "improving-egyptian",
   "metadata": {},
   "source": [
    "## Booleans"
   ]
  },
  {
   "cell_type": "markdown",
   "id": "married-topic",
   "metadata": {},
   "source": [
    "The term boolean comes from Boolean algebra, which is a type of mathematics that works in binary logic. Binary is the basis for all computers, save for the more nascent quantum computers. Binary is 0 or 1; off or on; true or false. A boolean object in programming languages is either True or False. True is 1, while False is 0. In Python we can express these concepts with capitalized T or F in True or False. Let's make one such object now."
   ]
  },
  {
   "cell_type": "markdown",
   "id": "connected-registrar",
   "metadata": {},
   "source": [
    "### Examples of Booleans"
   ]
  },
  {
   "cell_type": "code",
   "execution_count": null,
   "id": "funny-belize",
   "metadata": {},
   "outputs": [],
   "source": [
    "bool1 = True"
   ]
  },
  {
   "cell_type": "code",
   "execution_count": null,
   "id": "outdoor-canada",
   "metadata": {},
   "outputs": [],
   "source": [
    "print (bool1)"
   ]
  },
  {
   "cell_type": "code",
   "execution_count": null,
   "id": "junior-evidence",
   "metadata": {},
   "outputs": [],
   "source": [
    "bool2 = True"
   ]
  },
  {
   "cell_type": "code",
   "execution_count": null,
   "id": "stock-unemployment",
   "metadata": {},
   "outputs": [],
   "source": [
    "bool3 = False"
   ]
  },
  {
   "cell_type": "code",
   "execution_count": null,
   "id": "structural-percentage",
   "metadata": {},
   "outputs": [],
   "source": [
    "print (bool3)"
   ]
  },
  {
   "cell_type": "code",
   "execution_count": null,
   "id": "promising-exploration",
   "metadata": {},
   "outputs": [],
   "source": [
    "bool4 = False"
   ]
  },
  {
   "cell_type": "markdown",
   "id": "lyric-fleet",
   "metadata": {},
   "source": [
    "## Working with Strings as Data"
   ]
  },
  {
   "cell_type": "markdown",
   "id": "scheduled-thomas",
   "metadata": {},
   "source": [
    "Often when working within Python, you will not be simply creating data, you will be manipulating it and changing it. Because humanists frequently work with strings, I recommend spending a good deal of time practicing and memorizing the basic ways we work with strings in Python via the built-in methods.\n",
    "\n",
    "In order to interact with strings as pieces of data, we use <b>methods</b> and <b>functions</b>. The chief functions for interacting with strings on a basic level come standard with Python. This means that you do not need to install third-party libraries. Later in this textbook we will do more advanced things with strings using third-party libraries, such as Regex, but for now, we will simply work with the basic methods.\n",
    "\n",
    "Let's learn to manipulate strings now through code, but first we need to create a string. Let's call it str6."
   ]
  },
  {
   "cell_type": "code",
   "execution_count": null,
   "id": "latest-reading",
   "metadata": {},
   "outputs": [],
   "source": [
    "str6 = \"This is a new string.\""
   ]
  },
  {
   "cell_type": "markdown",
   "id": "intense-vampire",
   "metadata": {},
   "source": [
    "It is not a very clever name, but it will work for our purposes. Now, let's try to convert the entire string into all uppercase letters. We can do this with the method <b>.upper()</b>. Notice that the .upper() is coming after the string and within the () are no arguments. This is a way you can easily identify a method (as opposed to a function). We will learn more about these distinctions in the chapters on functions and classes."
   ]
  },
  {
   "cell_type": "code",
   "execution_count": null,
   "id": "stylish-roller",
   "metadata": {},
   "outputs": [],
   "source": [
    "print (str6.upper())"
   ]
  },
  {
   "cell_type": "markdown",
   "id": "computational-inspector",
   "metadata": {},
   "source": [
    "Noice that our string is now all uppercase. We can do the same thing with the <b>.lower()</b> method, but this method will make everything in the string lowercase."
   ]
  },
  {
   "cell_type": "code",
   "execution_count": null,
   "id": "medical-priority",
   "metadata": {},
   "outputs": [],
   "source": [
    "print (str6.lower())"
   ]
  },
  {
   "cell_type": "markdown",
   "id": "single-aging",
   "metadata": {},
   "source": [
    "On the surface, these methods may appear to only be useful in niche circumstances. While these methods are useful for making strings look the way you want them to look, they have far greater utility. Imagine if you wanted to search for a name, \"William\", in a string. What if the data you are examining is from emails, text messages, etc. William may be capitalized or not. This means that you would have to run two searches for William across a string. If, however, you lowercase the string before you search, you can simply search for \"william\" and you will find all hits. This is one of the things that happens on the back-end of most search engines to ensure that your search is not strictly case-sensitive. In Python, however, it is important to do this step of data cleaning before running searches over strings.\n",
    "\n",
    "Let's explore another method, <b>.capitalize()</b>. This method will allow you to capitalize a string."
   ]
  },
  {
   "cell_type": "code",
   "execution_count": null,
   "id": "discrete-peeing",
   "metadata": {},
   "outputs": [],
   "source": [
    "str7 = \"william\""
   ]
  },
  {
   "cell_type": "code",
   "execution_count": null,
   "id": "medieval-price",
   "metadata": {},
   "outputs": [],
   "source": [
    "print (str7.capitalize())"
   ]
  },
  {
   "cell_type": "markdown",
   "id": "diagnostic-eagle",
   "metadata": {},
   "source": [
    "I will use this in niche circumstances, particularly when I am performing data cleaning and need to ensure that all names or proper nouns in a dataset are cleaned and well-structured.\n",
    "\n",
    "Perhaps the most useful string method is .replace(). Notice in the cells below, replace takes a mandatory of two arguments, or things passed between the parentheses. Each is separated by a comma. The first argument is the substring or piece of the string that you want to replace and the second argument is what you want to replace it with. Why is this so useful? If you are using Python to analyze texts, those texts will, I promise, never be well-cleaned. They may have bad encoding, characters that will throw off searches, bad OCR, multiple line breaks, hyphenated characters, the list goes on. The <b>.replace()</b> method allows you to quickly and effectively clean textual data so that it can be standardized.\n",
    "\n",
    "Unlike the above methods, for .replace(), we need to put two things within the parentheses. These are known as arguments. This method requires two and they must be in order. The first is the thing that you want to replace and the second is the thing that you want to replace it with. These will be separated by a parentheses and both must be strings. It should, therefore, look something like this:\n",
    "\n",
    ".replace(\"the thing to replace\", \"the thing you want to replace it with\")\n",
    "\n",
    "In the example below, let's try and replace the period at the end of \"Mattingly.\""
   ]
  },
  {
   "cell_type": "code",
   "execution_count": null,
   "id": "competent-saturday",
   "metadata": {},
   "outputs": [],
   "source": [
    "str8 = \"My name is William Mattingly.\""
   ]
  },
  {
   "cell_type": "code",
   "execution_count": null,
   "id": "bacterial-milan",
   "metadata": {},
   "outputs": [],
   "source": [
    "print (str8.replace(\".\", \"\"))"
   ]
  },
  {
   "cell_type": "markdown",
   "id": "retained-giving",
   "metadata": {},
   "source": [
    "Excellent! Now, let's try and reprint off str8 and see what happens."
   ]
  },
  {
   "cell_type": "code",
   "execution_count": null,
   "id": "sudden-cooling",
   "metadata": {},
   "outputs": [],
   "source": [
    "print (str8)"
   ]
  },
  {
   "cell_type": "markdown",
   "id": "announced-chamber",
   "metadata": {},
   "source": [
    "Uh oh! Something is not right. Nothing has changed! Indeed, this is because strings are <b>immutable objects</b>. Immutable objects are objects that cannot be changed in memory. As we will see in the next chapter with lists, the other type of object is one that <i>can</i> be changed in memory. These are known as <b>mutable objects</b>. In order to change a string, therefore, you must recreate it in memory or create a new string object from it. Let's try and do that below."
   ]
  },
  {
   "cell_type": "code",
   "execution_count": null,
   "id": "occupied-politics",
   "metadata": {},
   "outputs": [],
   "source": [
    "str9 = str8.replace(\".\", \"\")"
   ]
  },
  {
   "cell_type": "code",
   "execution_count": null,
   "id": "satisfied-sphere",
   "metadata": {},
   "outputs": [],
   "source": [
    "print (str9)"
   ]
  },
  {
   "cell_type": "markdown",
   "id": "statistical-stroke",
   "metadata": {},
   "source": [
    "Excellent! Now we have a new string that has been cleaned, but let's say I am only interested in grabbing what comes after the phrase \"My name is\". I have a couple different methods to do this. I could use the .replace() method."
   ]
  },
  {
   "cell_type": "code",
   "execution_count": null,
   "id": "artificial-device",
   "metadata": {},
   "outputs": [],
   "source": [
    "str10 = str9.replace(\"My name is\", \"\")"
   ]
  },
  {
   "cell_type": "markdown",
   "id": "cognitive-practice",
   "metadata": {},
   "source": [
    "Everything looks good when we print it off below, but notice, there is a leading white space before the W. This is uncleaned data. We often want to remove leading or trailing whitespaces so that all data is consistent in our dataset. We can do this by using the .strip() method."
   ]
  },
  {
   "cell_type": "code",
   "execution_count": null,
   "id": "regulation-surfing",
   "metadata": {},
   "outputs": [],
   "source": [
    "print (str10)"
   ]
  },
  {
   "cell_type": "code",
   "execution_count": null,
   "id": "spare-marsh",
   "metadata": {},
   "outputs": [],
   "source": [
    "print (str10.strip())"
   ]
  },
  {
   "cell_type": "markdown",
   "id": "included-alexander",
   "metadata": {},
   "source": [
    "Now, our data is cleaned."
   ]
  },
  {
   "cell_type": "code",
   "execution_count": null,
   "id": "breathing-scoop",
   "metadata": {},
   "outputs": [],
   "source": [
    "print (str9)"
   ]
  },
  {
   "cell_type": "markdown",
   "id": "toxic-application",
   "metadata": {},
   "source": [
    "Strings have a lot of other useful methods that we will be learning about throughout this textbook, such as the split() method which returns a list of substrings that are split by the delimiter, which is the argument of the method. By default, split() will split your string at the whitespace."
   ]
  },
  {
   "cell_type": "code",
   "execution_count": null,
   "id": "wooden-cross",
   "metadata": {},
   "outputs": [],
   "source": [
    "print (str9.split())"
   ]
  },
  {
   "cell_type": "markdown",
   "id": "solar-separate",
   "metadata": {},
   "source": [
    "As we learn about lists in the next chapter, you will be able to use split to grab specific items from that list. Notice that in the output below, we have the same output as our method of replace and strip above. It is important to remember that in programming, there is rarely one right answer. Usually a problem can be solved many ways, but some are more efficient or easier to parse when another programmer tries to read your code."
   ]
  },
  {
   "cell_type": "code",
   "execution_count": null,
   "id": "behind-respondent",
   "metadata": {},
   "outputs": [],
   "source": [
    "print (str9.split(\"My name is \")[1])"
   ]
  },
  {
   "cell_type": "code",
   "execution_count": null,
   "id": "ancient-senator",
   "metadata": {},
   "outputs": [],
   "source": [
    "#Pythonic => the standard way to do something in Python"
   ]
  },
  {
   "cell_type": "markdown",
   "id": "committed-dollar",
   "metadata": {},
   "source": [
    "## Working with Numbers as Data"
   ]
  },
  {
   "cell_type": "markdown",
   "id": "rotary-compact",
   "metadata": {},
   "source": [
    "Now that you understand how strings work, let’s begin exploring another type of data: numbers. Numbers in Python exist in two chief forms:\n",
    "\n",
    "- integers\n",
    "- floats\n",
    "\n",
    "As noted above, integers are numbers without a decimal point, whereas floats are numbers with a decimal point. This is am important distinction that you MUST remember, especially when working with data imported from and exported to Excel.\n",
    "\n",
    "As digital humanists, you might be thinking to yourself, “I just work with text, why should I care so much about numbers?” The answer? Numbers allow us to perform quantitative analysis. What if you want to know the times a specific author wrote to a colleague or to which places he wrote most frequently, as was the case with the Republic of Letters project at Stanford? In order to perform that kind of analysis, you MUST have a command of how numbers work in Python, how to perform basic mathematical functions on those numbers, and how to interact with them. Further, numbers are essential to understand for performing more advanced functions in Python, such as Loops, explored in Chapter 03.01.\n",
    "\n",
    "The way in which you create a number object in Python is the to create an object name, use the equal sign and type the number. If your number has a decimal, Python will automatically consider it a float. If it does not, it will automatically consider it an integer."
   ]
  },
  {
   "cell_type": "code",
   "execution_count": null,
   "id": "funky-morning",
   "metadata": {},
   "outputs": [],
   "source": [
    "num1 = 1\n",
    "num2 = 2"
   ]
  },
  {
   "cell_type": "markdown",
   "id": "middle-article",
   "metadata": {},
   "source": [
    "Throughout your DH project, you will very likely need to manipulate numbers through mathematical operations. Here is a list of the common operations:\n",
    "\n",
    "1. Addition +\n",
    "2. Subtraction –\n",
    "3. Multiplication *\n",
    "4. Exponential Multiplication **\n",
    "5. Division /\n",
    "6. Modulo % #This will return the remainder, e.g. 2%7 will yield 1.\n",
    "7. Floor // #This will return the max number of times two numbers can be divided into each other, e.g. 2//7 will yield 3."
   ]
  },
  {
   "cell_type": "code",
   "execution_count": null,
   "id": "coral-universe",
   "metadata": {},
   "outputs": [],
   "source": [
    "print (num1+num2)"
   ]
  },
  {
   "cell_type": "code",
   "execution_count": null,
   "id": "violent-bradley",
   "metadata": {},
   "outputs": [],
   "source": [
    "print (num1-num2)"
   ]
  },
  {
   "cell_type": "code",
   "execution_count": null,
   "id": "radical-jenny",
   "metadata": {},
   "outputs": [],
   "source": [
    "print (num1*num2)"
   ]
  },
  {
   "cell_type": "code",
   "execution_count": null,
   "id": "hydraulic-render",
   "metadata": {},
   "outputs": [],
   "source": [
    "print (num1/num2)"
   ]
  },
  {
   "cell_type": "code",
   "execution_count": null,
   "id": "legal-funeral",
   "metadata": {},
   "outputs": [],
   "source": [
    "print (100*8)"
   ]
  },
  {
   "cell_type": "code",
   "execution_count": null,
   "id": "narrow-rescue",
   "metadata": {},
   "outputs": [],
   "source": [
    "print (num1/num2)"
   ]
  },
  {
   "cell_type": "code",
   "execution_count": null,
   "id": "human-baghdad",
   "metadata": {},
   "outputs": [],
   "source": [
    "print (num1//num2)"
   ]
  },
  {
   "cell_type": "code",
   "execution_count": null,
   "id": "pretty-tourist",
   "metadata": {},
   "outputs": [],
   "source": [
    "print (5/2)"
   ]
  },
  {
   "cell_type": "code",
   "execution_count": null,
   "id": "annual-somerset",
   "metadata": {},
   "outputs": [],
   "source": [
    "print (5//2)"
   ]
  },
  {
   "cell_type": "markdown",
   "id": "isolated-officer",
   "metadata": {},
   "source": [
    "In addition to this, you will very often in loops need to identify Comparison Operators (equal to, less than, etc). Here is a list of those:\n",
    "1. Equal to (==)\n",
    "2. Greater than (>)\n",
    "3. Less than (<)\n",
    "4. Less than or equal to (<=)\n",
    "5. Greater than or equal to (>=)\n",
    "6. Not equal to (!=)\n",
    "\n",
    "We will address these in greater detail in a later chapter as they are particularly useful when you work with loops."
   ]
  },
  {
   "cell_type": "markdown",
   "id": "reliable-catalog",
   "metadata": {},
   "source": [
    "## Conclusion"
   ]
  },
  {
   "cell_type": "markdown",
   "id": "designing-relation",
   "metadata": {},
   "source": [
    "This chapter has introduced you two some of the essential types of data: strings, integers, floats, and booleans. It has also introduced you to some of the key methods and operations that you can perform on strings and numbers. Before moving onto the next chapter, I recommend spending some time and testing out these methods on your own data. Try and manipulate an input text to locate and retrieve specific information.\n",
    "\n",
    "If you haven't yet installed Python, that's okay! There are free compilers online, including the one I have available at https://pythonhumanities.com/lesson-02-storing-data-in-python/. Once you feel comfortable with types of data and how to create and interact with them in Python, feel free to continue into the next chapter as we explore data structures."
   ]
  },
  {
   "cell_type": "markdown",
   "id": "93ce0ac6-253a-489d-ba14-d2b0963e1316",
   "metadata": {},
   "source": [
    "## Quiz"
   ]
  },
  {
   "cell_type": "code",
   "execution_count": null,
   "id": "528555be-0a24-40b7-b7c9-f39cb808c2b0",
   "metadata": {},
   "outputs": [],
   "source": [
    "from jupyterquiz import display_quiz\n",
    "import md2json"
   ]
  },
  {
   "cell_type": "code",
   "execution_count": null,
   "id": "6e9dae9f-dd6b-4ca3-a6dd-74f3b125174a",
   "metadata": {
    "tags": [
     "hide-input"
    ]
   },
   "outputs": [],
   "source": [
    "quiz = '''\n",
    "# What type of data is associated with text?\n",
    "mc\n",
    "* Strings\n",
    "-c t\n",
    "-f Correct! Strings are how we create text in Python.\n",
    "\n",
    "* Integers\n",
    "-c f\n",
    "-f While a type of data, Integers are not text\n",
    "\n",
    "* Floats\n",
    "-c f\n",
    "-f While a type of data, Floats are not text\n",
    "\n",
    "* Boolean\n",
    "-c f\n",
    "-f Booleans are not text.\n",
    "\n",
    "\n",
    "# How do we create strings?\n",
    "mc\n",
    "* With \"\"\n",
    "-c t\n",
    "-f Correct!\n",
    "\n",
    "* With ''\n",
    "-c t\n",
    "-f Correct!\n",
    "\n",
    "* With :\n",
    "-c f\n",
    "-f\n",
    "\n",
    "* With <>\n",
    "-c f\n",
    "-f\n",
    "\n",
    "# What are the two types of numbers?\n",
    "mc\n",
    "* Integers\n",
    "-c t\n",
    "-f\n",
    "\n",
    "* Floats\n",
    "-c t\n",
    "-f\n",
    "\n",
    "* Strings\n",
    "-c f\n",
    "-f\n",
    "\n",
    "* Booleans\n",
    "-c f\n",
    "-f\n",
    "\n",
    "# What are the type types of Booleans?\n",
    "mc\n",
    "* True\n",
    "-c t\n",
    "-f\n",
    "\n",
    "* False\n",
    "-c t\n",
    "-f\n",
    "\n",
    "* true\n",
    "-c f\n",
    "-f Close. Remember, case matters in Python.\n",
    "\n",
    "* false\n",
    "-c f\n",
    "-f Close. Remember, case matters in Python.\n",
    "'''"
   ]
  },
  {
   "cell_type": "code",
   "execution_count": null,
   "id": "3787d05b-fef6-4b97-96e3-372cdba0f24b",
   "metadata": {},
   "outputs": [],
   "source": []
  },
  {
   "cell_type": "code",
   "execution_count": null,
   "id": "53d344eb-b1f4-4dbd-8a2c-b9aacef3897d",
   "metadata": {},
   "outputs": [],
   "source": [
    "myquiz = convert(quiz)\n",
    "\n",
    "quiz = json.loads(myjson_quiz)\n",
    "myquiz = json.loads(myquiz)\n",
    "display_quiz(myquiz)"
   ]
  },
  {
   "cell_type": "code",
   "execution_count": null,
   "id": "ba5431cf-20bb-4c2d-b108-ff54bb6570f1",
   "metadata": {},
   "outputs": [],
   "source": []
  },
  {
   "cell_type": "code",
   "execution_count": null,
   "id": "9c809672-bf2a-4596-a13a-d61191254edc",
   "metadata": {},
   "outputs": [],
   "source": []
  }
 ],
 "metadata": {
  "kernelspec": {
   "display_name": "Python 3 (ipykernel)",
   "language": "python",
   "name": "python3"
  },
  "language_info": {
   "codemirror_mode": {
    "name": "ipython",
    "version": 3
   },
   "file_extension": ".py",
   "mimetype": "text/x-python",
   "name": "python",
   "nbconvert_exporter": "python",
   "pygments_lexer": "ipython3",
   "version": "3.9.7"
  }
 },
 "nbformat": 4,
 "nbformat_minor": 5
}
