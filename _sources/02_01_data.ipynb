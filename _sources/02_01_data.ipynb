{
 "cells": [
  {
   "cell_type": "markdown",
   "id": "measured-kuwait",
   "metadata": {},
   "source": [
    "# <center>Introduction to Data</center>"
   ]
  },
  {
   "cell_type": "markdown",
   "id": "remarkable-employment",
   "metadata": {},
   "source": [
    "<center>Dr. W.J.B. Mattingly</center>\n",
    "\n",
    "<center>Smithsonian Data Science Lab and United States Holocaust Memorial Museum</center>\n",
    "\n",
    "<center>January 2022</center>"
   ]
  },
  {
   "cell_type": "markdown",
   "id": "powerful-doctrine",
   "metadata": {},
   "source": [
    "## Covered in this Chapter"
   ]
  },
  {
   "cell_type": "markdown",
   "id": "atomic-russian",
   "metadata": {},
   "source": [
    "1) What is Data?<br>\n",
    "2) Types of Python Data<br>\n",
    "3) Strings<br>\n",
    "3) Numbers (Integers and Floats)<br>\n",
    "3) Booleans<br>\n",
    "3) Manipulating Strings<br>\n",
    "3) Mathematical Operations<br>"
   ]
  },
  {
   "cell_type": "markdown",
   "id": "discrete-metadata",
   "metadata": {},
   "source": [
    "## What is Data?"
   ]
  },
  {
   "cell_type": "markdown",
   "id": "whole-fiber",
   "metadata": {},
   "source": [
    "In the video, I noted that in Python there are six key pieces of data and data structures with which we will be working: integers, floats, strings, lists, tuples, and dictionaries. Data are pieces of information (the singular is datum)i.e., integers, floats, and strings. Data structures are objects that make data relational, i.e. lists, tuples, and dictionaries. Before you proceed to lesson three, you MUST have a basic understanding of the ways in which you create data in Python and the ways in which you make that data relational through data structures. Start to train your brain to recognize the Python syntax for these pieces of data and data structures discussed below."
   ]
  },
  {
   "cell_type": "markdown",
   "id": "foster-voice",
   "metadata": {},
   "source": [
    "## Strings"
   ]
  },
  {
   "cell_type": "markdown",
   "id": "confident-modification",
   "metadata": {},
   "source": [
    "Unlike integers and floats, strings are a sequence of characters. These can be digits or they can be letters or symbols, but what makes a string distinctly different from an integer or a float is the presence of quotation marks, i.e. ” ” or ‘ ‘. The opening of a quotation mark indicates to Python that a string has begun and the closing of the same style of a quotation mark indicates the close of a string. It is important to use the same style of quotation mark for a string, either a double or a single. In the examples below, we have two string objects: a_string and b_string, the former corresponds to the string “Hello” and the latter corresponds to the string “Bye”."
   ]
  },
  {
   "cell_type": "markdown",
   "id": "polished-position",
   "metadata": {},
   "source": [
    "### Examples of Strings"
   ]
  },
  {
   "cell_type": "code",
   "execution_count": 1,
   "id": "identified-compilation",
   "metadata": {},
   "outputs": [],
   "source": [
    "#Strings - any kind of text\n",
    "str1 = \"This is a string.\""
   ]
  },
  {
   "cell_type": "code",
   "execution_count": 2,
   "id": "honey-pittsburgh",
   "metadata": {},
   "outputs": [
    {
     "name": "stdout",
     "output_type": "stream",
     "text": [
      "This is a string.\n"
     ]
    }
   ],
   "source": [
    "print (str1)"
   ]
  },
  {
   "cell_type": "code",
   "execution_count": 3,
   "id": "monthly-sitting",
   "metadata": {},
   "outputs": [],
   "source": [
    "str2 = 'This is a string too.'"
   ]
  },
  {
   "cell_type": "code",
   "execution_count": 4,
   "id": "violent-salad",
   "metadata": {},
   "outputs": [
    {
     "name": "stdout",
     "output_type": "stream",
     "text": [
      "This is a string too.\n"
     ]
    }
   ],
   "source": [
    "print (str2)"
   ]
  },
  {
   "cell_type": "code",
   "execution_count": 11,
   "id": "responsible-gauge",
   "metadata": {},
   "outputs": [
    {
     "ename": "SyntaxError",
     "evalue": "invalid syntax (<ipython-input-11-34cf070f294b>, line 1)",
     "output_type": "error",
     "traceback": [
      "\u001b[1;36m  File \u001b[1;32m\"<ipython-input-11-34cf070f294b>\"\u001b[1;36m, line \u001b[1;32m1\u001b[0m\n\u001b[1;33m    str3 = \"This is a \"bad\" example of a string\"\u001b[0m\n\u001b[1;37m                       ^\u001b[0m\n\u001b[1;31mSyntaxError\u001b[0m\u001b[1;31m:\u001b[0m invalid syntax\n"
     ]
    }
   ],
   "source": [
    "str3 = \"This is a \"bad\" example of a string\""
   ]
  },
  {
   "cell_type": "code",
   "execution_count": 10,
   "id": "unusual-sussex",
   "metadata": {},
   "outputs": [
    {
     "name": "stdout",
     "output_type": "stream",
     "text": [
      "This is a \"bad\" example of a string\n"
     ]
    }
   ],
   "source": [
    "print (str3)"
   ]
  },
  {
   "cell_type": "code",
   "execution_count": 12,
   "id": "outstanding-leisure",
   "metadata": {},
   "outputs": [],
   "source": [
    "str4 = '''\n",
    "This is a verrry long string.\n",
    "\n",
    "'''"
   ]
  },
  {
   "cell_type": "code",
   "execution_count": 13,
   "id": "lasting-description",
   "metadata": {},
   "outputs": [
    {
     "name": "stdout",
     "output_type": "stream",
     "text": [
      "\n",
      "This is a verrry long string.\n",
      "\n",
      "\n"
     ]
    }
   ],
   "source": [
    "print (str4)"
   ]
  },
  {
   "cell_type": "markdown",
   "id": "ready-council",
   "metadata": {},
   "source": [
    "## Numbers (Integers and Floats)"
   ]
  },
  {
   "cell_type": "markdown",
   "id": "current-dividend",
   "metadata": {},
   "source": [
    "An <b>integer</b>, as noted in the video, is a digit that does not contain a decimal place, i.e. 1 or 2 or 3. This can be a number of any size, such as 100,001,200. A float, on the other hand, is a digit with a decimal place. So, while 1 is an integer, 1.0 is a float. Floats, like integers, can be of any size, but they necessarily have a decimal place, i.e. 200.0020002938. In python, you do not need any special characters to create an integer or float object. You simply need an equal sign. In the example below, we have two objects which are created with a single equal sign. These objects are titled an_integer and a_float with the former being an object that corresponds to the integer 1 and the latter being an object that corresponds to the float 1.1."
   ]
  },
  {
   "cell_type": "code",
   "execution_count": 14,
   "id": "right-tyler",
   "metadata": {},
   "outputs": [],
   "source": [
    "#Numbers\n",
    "#Integers 1, 2, 3\n",
    "#Floats => Decimals .01 1.02"
   ]
  },
  {
   "cell_type": "code",
   "execution_count": 15,
   "id": "recognized-hello",
   "metadata": {},
   "outputs": [],
   "source": [
    "int1 = 1"
   ]
  },
  {
   "cell_type": "code",
   "execution_count": 16,
   "id": "blocked-aside",
   "metadata": {},
   "outputs": [
    {
     "name": "stdout",
     "output_type": "stream",
     "text": [
      "1\n"
     ]
    }
   ],
   "source": [
    "print (int1)"
   ]
  },
  {
   "cell_type": "code",
   "execution_count": 17,
   "id": "parental-electricity",
   "metadata": {},
   "outputs": [],
   "source": [
    "float1 = 1.1"
   ]
  },
  {
   "cell_type": "code",
   "execution_count": 18,
   "id": "divided-simple",
   "metadata": {},
   "outputs": [
    {
     "name": "stdout",
     "output_type": "stream",
     "text": [
      "1.1\n"
     ]
    }
   ],
   "source": [
    "print (float1)"
   ]
  },
  {
   "cell_type": "markdown",
   "id": "seeing-accuracy",
   "metadata": {},
   "source": [
    "## Booleans"
   ]
  },
  {
   "cell_type": "markdown",
   "id": "assigned-anaheim",
   "metadata": {},
   "source": [
    "The term boolean comes from Boolean algebra, which is a type of mathematics that works in binary logic. Binary is the basis for all computers, save for the more nascent quantum computers. Binary is 0 or 1; off or on; true or false. A boolean object in programming languages is either True or False. True is 1, while False is 0. In Python we can express these concepts with capitalized T or F in True or False. Let's make one such object now."
   ]
  },
  {
   "cell_type": "code",
   "execution_count": 19,
   "id": "younger-compilation",
   "metadata": {},
   "outputs": [],
   "source": [
    "#Boolean => True or False\n",
    "bool1 = True"
   ]
  },
  {
   "cell_type": "code",
   "execution_count": 20,
   "id": "robust-reasoning",
   "metadata": {},
   "outputs": [
    {
     "name": "stdout",
     "output_type": "stream",
     "text": [
      "True\n"
     ]
    }
   ],
   "source": [
    "print (bool1)"
   ]
  },
  {
   "cell_type": "code",
   "execution_count": 22,
   "id": "positive-correlation",
   "metadata": {},
   "outputs": [],
   "source": [
    "bool2 = True"
   ]
  },
  {
   "cell_type": "code",
   "execution_count": 23,
   "id": "exotic-currency",
   "metadata": {},
   "outputs": [],
   "source": [
    "bool3 = False"
   ]
  },
  {
   "cell_type": "code",
   "execution_count": 24,
   "id": "foster-hearts",
   "metadata": {},
   "outputs": [
    {
     "name": "stdout",
     "output_type": "stream",
     "text": [
      "False\n"
     ]
    }
   ],
   "source": [
    "print (bool3)"
   ]
  },
  {
   "cell_type": "code",
   "execution_count": 26,
   "id": "tribal-appendix",
   "metadata": {},
   "outputs": [],
   "source": [
    "bool4 = False"
   ]
  },
  {
   "cell_type": "markdown",
   "id": "increasing-nightmare",
   "metadata": {},
   "source": [
    "## Working with Strings as Data"
   ]
  },
  {
   "cell_type": "markdown",
   "id": "incoming-importance",
   "metadata": {},
   "source": [
    "They are the key way in which we handle text data in Python. This means that for the digital humanist, strings will be fundamentally necessary to understand as they are the chief form of data we use.\n",
    "\n",
    "In order to interact with strings as pieces of data, we use methods and functions. The chief functions for interacting with strings on a basic level come standard with Python. This means that you do not need to install third-party libraries. Later in this textbook we will do more advanced things with strings using third-party libraries, such as Regex, but for now, we will simply work with the basic functions.\n",
    "\n",
    "Although I will discuss functions in greater detail in a later lesson, it is important to understand what a function is. A function is a block of code stored outside (or inside) your Python script. We call a function by using the function name and added an open and a close parentheses. Often when we call functions, we need to pass arguments. These are the pieces of data that the function will perform the operations on. The arguments are contained within the parentheses and delineated with commas. In some cases, there will be named arguments which require you to specify a specific argument.\n",
    "\n",
    "In the example below, we have an object, which is a string (a_string), and two different functions. The first function is the split function which will split a string. In the example we state the object upon which we want to perform the function. Next, we place a period to state the specific function that we want to run on the string. We have an open parentheses in which we have a single argument, a string (created by quotation marks). The specific string is a single comma. This means that we are telling Python to split the string any time it finds a comma. Remember though, strings are immutable. This means that in order to store the result of this function in memory, we need to create a new object. This new object is new_string which we create with an equal sign. Were we to print off new string, we would see a list of strings that would look like this: [“Hello”,”Bye”]. To run the code below, hit the play button."
   ]
  },
  {
   "cell_type": "code",
   "execution_count": 27,
   "id": "circular-orlando",
   "metadata": {},
   "outputs": [],
   "source": [
    "str6 = \"This is a new string.\""
   ]
  },
  {
   "cell_type": "code",
   "execution_count": 28,
   "id": "comic-decrease",
   "metadata": {},
   "outputs": [
    {
     "name": "stdout",
     "output_type": "stream",
     "text": [
      "THIS IS A NEW STRING.\n"
     ]
    }
   ],
   "source": [
    "print (str6.upper())"
   ]
  },
  {
   "cell_type": "code",
   "execution_count": 29,
   "id": "adjacent-spray",
   "metadata": {},
   "outputs": [
    {
     "name": "stdout",
     "output_type": "stream",
     "text": [
      "this is a new string.\n"
     ]
    }
   ],
   "source": [
    "print (str6.lower())"
   ]
  },
  {
   "cell_type": "code",
   "execution_count": 30,
   "id": "nasty-station",
   "metadata": {},
   "outputs": [],
   "source": [
    "str7 = \"william\""
   ]
  },
  {
   "cell_type": "code",
   "execution_count": 31,
   "id": "visible-september",
   "metadata": {},
   "outputs": [
    {
     "name": "stdout",
     "output_type": "stream",
     "text": [
      "William\n"
     ]
    }
   ],
   "source": [
    "print (str7.capitalize())"
   ]
  },
  {
   "cell_type": "code",
   "execution_count": 32,
   "id": "hairy-factor",
   "metadata": {},
   "outputs": [],
   "source": [
    "str8 = \"My name is William Mattingly.\""
   ]
  },
  {
   "cell_type": "code",
   "execution_count": 35,
   "id": "fiscal-batman",
   "metadata": {},
   "outputs": [
    {
     "name": "stdout",
     "output_type": "stream",
     "text": [
      "My name is William Mattingly\n"
     ]
    }
   ],
   "source": [
    "print (str8.replace(\".\", \"\"))"
   ]
  },
  {
   "cell_type": "code",
   "execution_count": 37,
   "id": "through-doubt",
   "metadata": {},
   "outputs": [
    {
     "name": "stdout",
     "output_type": "stream",
     "text": [
      "My name is William Mattingly.\n"
     ]
    }
   ],
   "source": [
    "print (str8)"
   ]
  },
  {
   "cell_type": "code",
   "execution_count": 38,
   "id": "brazilian-vector",
   "metadata": {},
   "outputs": [],
   "source": [
    "str9 = str8.replace(\".\", \"\")"
   ]
  },
  {
   "cell_type": "code",
   "execution_count": 39,
   "id": "narrative-powder",
   "metadata": {},
   "outputs": [
    {
     "name": "stdout",
     "output_type": "stream",
     "text": [
      "My name is William Mattingly\n"
     ]
    }
   ],
   "source": [
    "print (str9)"
   ]
  },
  {
   "cell_type": "code",
   "execution_count": 40,
   "id": "dedicated-rings",
   "metadata": {},
   "outputs": [],
   "source": [
    "str10 = str9.replace(\"My name is\", \"\")"
   ]
  },
  {
   "cell_type": "code",
   "execution_count": 42,
   "id": "legitimate-horse",
   "metadata": {},
   "outputs": [
    {
     "name": "stdout",
     "output_type": "stream",
     "text": [
      "William Mattingly\n"
     ]
    }
   ],
   "source": [
    "print (str10.strip())"
   ]
  },
  {
   "cell_type": "code",
   "execution_count": 43,
   "id": "aerial-blake",
   "metadata": {},
   "outputs": [
    {
     "name": "stdout",
     "output_type": "stream",
     "text": [
      "My name is William Mattingly\n"
     ]
    }
   ],
   "source": [
    "print (str9)"
   ]
  },
  {
   "cell_type": "code",
   "execution_count": 44,
   "id": "vocational-judges",
   "metadata": {},
   "outputs": [
    {
     "name": "stdout",
     "output_type": "stream",
     "text": [
      "['My', 'name', 'is', 'William', 'Mattingly']\n"
     ]
    }
   ],
   "source": [
    "print (str9.split())"
   ]
  },
  {
   "cell_type": "code",
   "execution_count": 46,
   "id": "operating-harbor",
   "metadata": {},
   "outputs": [
    {
     "name": "stdout",
     "output_type": "stream",
     "text": [
      "William Mattingly\n"
     ]
    }
   ],
   "source": [
    "print (str9.split(\"My name is \")[1])"
   ]
  },
  {
   "cell_type": "code",
   "execution_count": 47,
   "id": "living-undergraduate",
   "metadata": {},
   "outputs": [],
   "source": [
    "#Pythonic => the standard way to do something in Python"
   ]
  },
  {
   "cell_type": "markdown",
   "id": "spanish-partition",
   "metadata": {},
   "source": [
    "## Working with Numbers as Data"
   ]
  },
  {
   "cell_type": "code",
   "execution_count": 48,
   "id": "infectious-moment",
   "metadata": {},
   "outputs": [],
   "source": [
    "num1 = 1\n",
    "num2 = 2"
   ]
  },
  {
   "cell_type": "code",
   "execution_count": 49,
   "id": "educated-solomon",
   "metadata": {},
   "outputs": [
    {
     "name": "stdout",
     "output_type": "stream",
     "text": [
      "3\n"
     ]
    }
   ],
   "source": [
    "print (num1+num2)"
   ]
  },
  {
   "cell_type": "code",
   "execution_count": 50,
   "id": "prime-vault",
   "metadata": {},
   "outputs": [
    {
     "name": "stdout",
     "output_type": "stream",
     "text": [
      "-1\n"
     ]
    }
   ],
   "source": [
    "print (num1-num2)"
   ]
  },
  {
   "cell_type": "code",
   "execution_count": 51,
   "id": "weird-version",
   "metadata": {},
   "outputs": [
    {
     "name": "stdout",
     "output_type": "stream",
     "text": [
      "2\n"
     ]
    }
   ],
   "source": [
    "print (num1*num2)"
   ]
  },
  {
   "cell_type": "code",
   "execution_count": 52,
   "id": "unexpected-chosen",
   "metadata": {},
   "outputs": [
    {
     "name": "stdout",
     "output_type": "stream",
     "text": [
      "0.5\n"
     ]
    }
   ],
   "source": [
    "print (num1/num2)"
   ]
  },
  {
   "cell_type": "code",
   "execution_count": 53,
   "id": "formed-encyclopedia",
   "metadata": {},
   "outputs": [
    {
     "name": "stdout",
     "output_type": "stream",
     "text": [
      "800\n"
     ]
    }
   ],
   "source": [
    "print (100*8)"
   ]
  },
  {
   "cell_type": "code",
   "execution_count": 54,
   "id": "casual-persian",
   "metadata": {},
   "outputs": [
    {
     "name": "stdout",
     "output_type": "stream",
     "text": [
      "0.5\n"
     ]
    }
   ],
   "source": [
    "print (num1/num2)"
   ]
  },
  {
   "cell_type": "code",
   "execution_count": 55,
   "id": "leading-while",
   "metadata": {},
   "outputs": [
    {
     "name": "stdout",
     "output_type": "stream",
     "text": [
      "0\n"
     ]
    }
   ],
   "source": [
    "print (num1//num2)"
   ]
  },
  {
   "cell_type": "code",
   "execution_count": 56,
   "id": "collaborative-crawford",
   "metadata": {},
   "outputs": [
    {
     "name": "stdout",
     "output_type": "stream",
     "text": [
      "2.5\n"
     ]
    }
   ],
   "source": [
    "print (5/2)"
   ]
  },
  {
   "cell_type": "code",
   "execution_count": 57,
   "id": "material-auditor",
   "metadata": {},
   "outputs": [
    {
     "name": "stdout",
     "output_type": "stream",
     "text": [
      "2\n"
     ]
    }
   ],
   "source": [
    "print (5//2)"
   ]
  },
  {
   "cell_type": "code",
   "execution_count": null,
   "id": "blind-particular",
   "metadata": {},
   "outputs": [],
   "source": [
    "#< > =< =>  =="
   ]
  }
 ],
 "metadata": {
  "kernelspec": {
   "display_name": "Python 3",
   "language": "python",
   "name": "python3"
  },
  "language_info": {
   "codemirror_mode": {
    "name": "ipython",
    "version": 3
   },
   "file_extension": ".py",
   "mimetype": "text/x-python",
   "name": "python",
   "nbconvert_exporter": "python",
   "pygments_lexer": "ipython3",
   "version": "3.9.2"
  }
 },
 "nbformat": 4,
 "nbformat_minor": 5
}
