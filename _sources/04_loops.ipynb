{
 "cells": [
  {
   "cell_type": "code",
   "execution_count": 1,
   "id": "working-herald",
   "metadata": {},
   "outputs": [],
   "source": [
    "#Looping"
   ]
  },
  {
   "cell_type": "code",
   "execution_count": 2,
   "id": "verified-tomato",
   "metadata": {},
   "outputs": [],
   "source": [
    "#For Loops and While Loops"
   ]
  },
  {
   "cell_type": "code",
   "execution_count": 3,
   "id": "legislative-recommendation",
   "metadata": {},
   "outputs": [],
   "source": [
    "namelist = [\"Tom\", \"Nancy\", \"Drew\", \"Steph\"]"
   ]
  },
  {
   "cell_type": "code",
   "execution_count": 4,
   "id": "cultural-meter",
   "metadata": {},
   "outputs": [
    {
     "name": "stdout",
     "output_type": "stream",
     "text": [
      "Tom\n",
      "Nancy\n",
      "Drew\n",
      "Steph\n"
     ]
    }
   ],
   "source": [
    "for name in namelist:\n",
    "    print (name)"
   ]
  },
  {
   "cell_type": "code",
   "execution_count": 8,
   "id": "younger-joyce",
   "metadata": {},
   "outputs": [],
   "source": [
    "new_names = []\n",
    "for name in namelist:\n",
    "#     print (name+\" Mattingly\")\n",
    "    new_names.append(name+\" Mattingly\")"
   ]
  },
  {
   "cell_type": "code",
   "execution_count": 9,
   "id": "material-banking",
   "metadata": {},
   "outputs": [
    {
     "name": "stdout",
     "output_type": "stream",
     "text": [
      "['Tom Mattingly', 'Nancy Mattingly', 'Drew Mattingly', 'Steph Mattingly']\n"
     ]
    }
   ],
   "source": [
    "print (new_names)"
   ]
  },
  {
   "cell_type": "code",
   "execution_count": 10,
   "id": "exceptional-fleet",
   "metadata": {},
   "outputs": [
    {
     "name": "stdout",
     "output_type": "stream",
     "text": [
      "0\n",
      "1\n",
      "2\n",
      "3\n",
      "4\n",
      "5\n",
      "6\n",
      "7\n",
      "8\n",
      "9\n"
     ]
    }
   ],
   "source": [
    "x=0\n",
    "while x != 10:\n",
    "    print (x)\n",
    "    x=x+1"
   ]
  },
  {
   "cell_type": "code",
   "execution_count": 11,
   "id": "former-interface",
   "metadata": {},
   "outputs": [
    {
     "name": "stdout",
     "output_type": "stream",
     "text": [
      "0\n",
      "1\n",
      "2\n",
      "3\n",
      "4\n",
      "5\n",
      "6\n",
      "7\n",
      "8\n",
      "9\n"
     ]
    }
   ],
   "source": [
    "x=0\n",
    "while x < 10:\n",
    "    print (x)\n",
    "    x=x+1"
   ]
  },
  {
   "cell_type": "code",
   "execution_count": 12,
   "id": "cardiac-behavior",
   "metadata": {},
   "outputs": [
    {
     "name": "stdout",
     "output_type": "stream",
     "text": [
      "True\n"
     ]
    }
   ],
   "source": [
    "print (1 < 2)"
   ]
  },
  {
   "cell_type": "code",
   "execution_count": 13,
   "id": "mental-corrections",
   "metadata": {},
   "outputs": [
    {
     "name": "stdout",
     "output_type": "stream",
     "text": [
      "False\n"
     ]
    }
   ],
   "source": [
    "print (1 > 2)"
   ]
  },
  {
   "cell_type": "code",
   "execution_count": 14,
   "id": "convenient-silly",
   "metadata": {},
   "outputs": [
    {
     "name": "stdout",
     "output_type": "stream",
     "text": [
      "False\n"
     ]
    }
   ],
   "source": [
    "print (1 == 2)"
   ]
  },
  {
   "cell_type": "code",
   "execution_count": 15,
   "id": "bright-egyptian",
   "metadata": {},
   "outputs": [
    {
     "name": "stdout",
     "output_type": "stream",
     "text": [
      "True\n"
     ]
    }
   ],
   "source": [
    "print (1 != 2)"
   ]
  },
  {
   "cell_type": "code",
   "execution_count": null,
   "id": "invalid-stroke",
   "metadata": {},
   "outputs": [],
   "source": []
  }
 ],
 "metadata": {
  "kernelspec": {
   "display_name": "Python 3",
   "language": "python",
   "name": "python3"
  },
  "language_info": {
   "codemirror_mode": {
    "name": "ipython",
    "version": 3
   },
   "file_extension": ".py",
   "mimetype": "text/x-python",
   "name": "python",
   "nbconvert_exporter": "python",
   "pygments_lexer": "ipython3",
   "version": "3.9.2"
  }
 },
 "nbformat": 4,
 "nbformat_minor": 5
}
