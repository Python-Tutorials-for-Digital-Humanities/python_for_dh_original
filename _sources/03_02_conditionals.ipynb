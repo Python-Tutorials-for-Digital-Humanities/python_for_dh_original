{
 "cells": [
  {
   "cell_type": "markdown",
   "id": "authorized-shame",
   "metadata": {},
   "source": [
    "# <center>Conditionals</center>"
   ]
  },
  {
   "cell_type": "markdown",
   "id": "stunning-syracuse",
   "metadata": {},
   "source": [
    "<center>Dr. W.J.B. Mattingly</center>\n",
    "\n",
    "<center>Smithsonian Data Science Lab and United States Holocaust Memorial Museum</center>\n",
    "\n",
    "<center>January 2022</center>"
   ]
  },
  {
   "cell_type": "markdown",
   "id": "sapphire-president",
   "metadata": {},
   "source": [
    "## Covered in this Chapter"
   ]
  },
  {
   "cell_type": "markdown",
   "id": "accessory-brunswick",
   "metadata": {},
   "source": [
    "1) What conditional statements are<br>\n",
    "2) What the logic is behind them<br>\n",
    "3) If<br>\n",
    "3) Else<br>\n",
    "3) Elif (or if)<br>"
   ]
  },
  {
   "cell_type": "markdown",
   "id": "smoking-payday",
   "metadata": {},
   "source": [
    "## Introduction"
   ]
  },
  {
   "cell_type": "markdown",
   "id": "ready-analyst",
   "metadata": {},
   "source": [
    "Like Loops, Conditionals are an essential component of all programming languages. <b>Conditionals</b> are a type of logic in programming that allow you to allow something to happen upon the condition that something is true. Conditionals are always binary. I always find it useful to think about conditionals in plain English first.\n",
    "\n",
    "If something is true, then do this. If that something is not true, then you can specify what should happen if that is the case. In pseudo code, it would look something like this:\n",
    "\n",
    "If something is true:\n",
    "    do this\n",
    "Otherwise:\n",
    "    do this instead.\n",
    "    \n",
    "Notice again the indentation. As we progress throughout this chapter, you will learn three essential components of conditional statements:\n",
    "\n",
    "1. if\n",
    "2. else\n",
    "3. elif (or if)"
   ]
  },
  {
   "cell_type": "markdown",
   "id": "racial-border",
   "metadata": {},
   "source": [
    "## If Statement"
   ]
  },
  {
   "cell_type": "markdown",
   "id": "pharmaceutical-intelligence",
   "metadata": {},
   "source": [
    "Let's first practice the if statement. In Python, you will need something to test if it is true. Let's create an object called x and make it equal to 0. Now, we can say if x is equal to 0, then print it off. Notice in the code below the \":\" and the indentation afterwards, just as we saw with loops."
   ]
  },
  {
   "cell_type": "code",
   "execution_count": 1,
   "id": "printable-roberts",
   "metadata": {},
   "outputs": [
    {
     "name": "stdout",
     "output_type": "stream",
     "text": [
      "0\n"
     ]
    }
   ],
   "source": [
    "x=0\n",
    "if x==0:\n",
    "    print (x)"
   ]
  },
  {
   "cell_type": "markdown",
   "id": "practical-ethics",
   "metadata": {},
   "source": [
    "Let's try and state the opposite of this. Let's set our condition to x being equal to 1."
   ]
  },
  {
   "cell_type": "code",
   "execution_count": 2,
   "id": "rubber-insulin",
   "metadata": {},
   "outputs": [],
   "source": [
    "if x==1:\n",
    "    print (x)"
   ]
  },
  {
   "cell_type": "markdown",
   "id": "automated-imaging",
   "metadata": {},
   "source": [
    "Notice that nothing happens."
   ]
  },
  {
   "cell_type": "markdown",
   "id": "spoken-surfing",
   "metadata": {},
   "source": [
    "## Else Statement"
   ]
  },
  {
   "cell_type": "markdown",
   "id": "standard-tattoo",
   "metadata": {},
   "source": [
    "If we want something to occur if that condition is not met, we can use the Else statement. Think of else as \"otherwise\" in English. If this condition it met, do this; otherwise, do something else. Let's write that out in real code."
   ]
  },
  {
   "cell_type": "code",
   "execution_count": 3,
   "id": "worse-holiday",
   "metadata": {},
   "outputs": [
    {
     "name": "stdout",
     "output_type": "stream",
     "text": [
      "X is not 1\n"
     ]
    }
   ],
   "source": [
    "if x==1:\n",
    "    print (x)\n",
    "else:\n",
    "    print (\"X is not 1\")"
   ]
  },
  {
   "cell_type": "markdown",
   "id": "sustainable-growing",
   "metadata": {},
   "source": [
    "Notice that else has the same indentation placement as the if and it too has a \":\" followed by indented code. This allows us to create complex logic within our code. You will find yourself using conditional more often than you may realize now."
   ]
  },
  {
   "cell_type": "markdown",
   "id": "indirect-junior",
   "metadata": {},
   "source": [
    "## Elif"
   ]
  },
  {
   "cell_type": "markdown",
   "id": "portable-denver",
   "metadata": {},
   "source": [
    "I debated including elif in this chapter for fear that it may introduce too many new things at once, but I think it is import to at least be familiar with its existence, even if you will not be using it right away. Elif, in plain English, means \"or if\".\n",
    "\n",
    "If condition 1 is met:\n",
    "    do this\n",
    "Or if condition 2 is met:\n",
    "    do this instead\n",
    "\n",
    "Within this paradigm, it functions a little differently than else in that another condition must be met for it to occur, but it functions a little differently than a regular if statement. Let me demonstrate this in code."
   ]
  },
  {
   "cell_type": "code",
   "execution_count": 4,
   "id": "premier-inflation",
   "metadata": {},
   "outputs": [
    {
     "name": "stdout",
     "output_type": "stream",
     "text": [
      "Marge Found\n"
     ]
    }
   ],
   "source": [
    "text = \"I know two people. Marge and Susan.\"\n",
    "if \"Marge\" in text:\n",
    "    print (\"Marge Found\")\n",
    "elif \"Susan\" in text:\n",
    "    print (\"Susan Found\")"
   ]
  },
  {
   "cell_type": "markdown",
   "id": "diagnostic-camel",
   "metadata": {},
   "source": [
    "This output may appear to be surprising. Both Marge and Susan are in the string, \"text\". Why, then, do we not see \"Susan Found\" printed off? The reason is because elif only is triggered if one of the preceding if or other elif statements has not been triggered. If I wanted to check if both conditions were met, I would, instead, use two if statements, like so:"
   ]
  },
  {
   "cell_type": "code",
   "execution_count": 5,
   "id": "structural-ireland",
   "metadata": {},
   "outputs": [
    {
     "name": "stdout",
     "output_type": "stream",
     "text": [
      "Marge Found\n",
      "Susan Found\n"
     ]
    }
   ],
   "source": [
    "if \"Marge\" in text:\n",
    "    print (\"Marge Found\")\n",
    "if \"Susan\" in text:\n",
    "    print (\"Susan Found\")"
   ]
  },
  {
   "cell_type": "markdown",
   "id": "spread-armenia",
   "metadata": {},
   "source": [
    "The elif statement allows for more robust logic and sequential conditionals to occur."
   ]
  },
  {
   "cell_type": "code",
   "execution_count": null,
   "id": "driven-guitar",
   "metadata": {},
   "outputs": [],
   "source": []
  }
 ],
 "metadata": {
  "kernelspec": {
   "display_name": "Python 3",
   "language": "python",
   "name": "python3"
  },
  "language_info": {
   "codemirror_mode": {
    "name": "ipython",
    "version": 3
   },
   "file_extension": ".py",
   "mimetype": "text/x-python",
   "name": "python",
   "nbconvert_exporter": "python",
   "pygments_lexer": "ipython3",
   "version": "3.9.2"
  }
 },
 "nbformat": 4,
 "nbformat_minor": 5
}
