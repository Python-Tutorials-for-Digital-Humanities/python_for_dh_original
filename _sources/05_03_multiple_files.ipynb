{
 "cells": [
  {
   "cell_type": "markdown",
   "id": "dominant-celebration",
   "metadata": {},
   "source": [
    "# <center>Working with Multiple Files</center>"
   ]
  },
  {
   "cell_type": "markdown",
   "id": "muslim-citation",
   "metadata": {},
   "source": [
    "<center>Dr. W.J.B. Mattingly</center>\n",
    "\n",
    "<center>Smithsonian Data Science Lab and United States Holocaust Memorial Museum</center>\n",
    "\n",
    "<center>March 2022</center>"
   ]
  },
  {
   "cell_type": "markdown",
   "id": "subject-france",
   "metadata": {},
   "source": [
    "## Covered in this Chapter"
   ]
  },
  {
   "cell_type": "markdown",
   "id": "obvious-bones",
   "metadata": {},
   "source": [
    "1) The glob library<br>\n",
    "2) Working with os<br>\n",
    "3) <br>"
   ]
  },
  {
   "cell_type": "markdown",
   "id": "addressed-giant",
   "metadata": {},
   "source": [
    "## Introduction"
   ]
  },
  {
   "cell_type": "markdown",
   "id": "dependent-greeting",
   "metadata": {},
   "source": [
    "Often times, it is necessary to open multiple files in a Python script. There are multiple ways to do this, but unlike most Python textbooks. I recommend that beginners use the library called glob. <b>Glob</b> comes standard with Python which means you do not have to install it. A good way to think about glob is as a library that allows you to look into a directory and find all potential files based on certain parameters."
   ]
  },
  {
   "cell_type": "markdown",
   "id": "previous-physiology",
   "metadata": {},
   "source": [
    "## Working with Glob"
   ]
  },
  {
   "cell_type": "markdown",
   "id": "ethical-tourist",
   "metadata": {},
   "source": [
    "Working with glob can be a little confusing at first, but let's break it down. First, we need to import glob."
   ]
  },
  {
   "cell_type": "code",
   "execution_count": 1,
   "id": "regional-place",
   "metadata": {},
   "outputs": [],
   "source": [
    "import glob"
   ]
  },
  {
   "cell_type": "markdown",
   "id": "palestinian-movement",
   "metadata": {},
   "source": [
    "Next, we need to use the glob class. This will take one argument, the string of files that you want to find. Let's use the data subfolder as an example. In the example below, we pass one string to this class. This string will be the subfolder in which the data lies followed by a slash followed by an \\*. This \\* is known as a wild card. In our case, it looks for all files within this directory."
   ]
  },
  {
   "cell_type": "code",
   "execution_count": 5,
   "id": "cultural-medicine",
   "metadata": {},
   "outputs": [],
   "source": [
    "files = glob.glob(\"data/*\")"
   ]
  },
  {
   "cell_type": "markdown",
   "id": "black-frame",
   "metadata": {},
   "source": [
    "Let's print off the files now to see what all is inside the folder."
   ]
  },
  {
   "cell_type": "code",
   "execution_count": 6,
   "id": "secure-radiation",
   "metadata": {},
   "outputs": [
    {
     "name": "stdout",
     "output_type": "stream",
     "text": [
      "['data/sample_json.json', 'data/sample2.txt', 'data/sample.txt']\n"
     ]
    }
   ],
   "source": [
    "print (files)"
   ]
  },
  {
   "cell_type": "markdown",
   "id": "49886f41-8eec-4150-8f20-d5641e747a3c",
   "metadata": {},
   "source": [
    "Notice that we have grabbed all files! Most of the time, however, you will only want to grab files that are a specific type, e.g. .txt or .json. To achieve this we can add a .txt after the \\*. This will grab all the .txt files."
   ]
  },
  {
   "cell_type": "code",
   "execution_count": 7,
   "id": "b8a1e785-03bd-4d05-8e74-04acec91c4d3",
   "metadata": {},
   "outputs": [
    {
     "name": "stdout",
     "output_type": "stream",
     "text": [
      "['data/sample2.txt', 'data/sample.txt']\n"
     ]
    }
   ],
   "source": [
    "files2 = glob.glob(\"data/*.txt\")\n",
    "print (files2)"
   ]
  },
  {
   "cell_type": "markdown",
   "id": "floral-antique",
   "metadata": {},
   "source": [
    "## Grabbing Multiple Nested Directories"
   ]
  },
  {
   "cell_type": "markdown",
   "id": "d9a82138-c4bb-4411-aace-94e2c8a271ef",
   "metadata": {},
   "source": [
    "If you look in the subdirectory data, you will notice two nested directories called \"other\" and \"other2\". We can grab all files in each directory with the same wildcard \\*."
   ]
  },
  {
   "cell_type": "code",
   "execution_count": 8,
   "id": "1ea28b8d-70ea-4f3f-ac4f-b4ba97a48213",
   "metadata": {},
   "outputs": [
    {
     "name": "stdout",
     "output_type": "stream",
     "text": [
      "['data/other2/sample4.txt', 'data/other/sample3.txt']\n"
     ]
    }
   ],
   "source": [
    "files3 = glob.glob(\"data/*/*.txt\")\n",
    "print (files3)"
   ]
  },
  {
   "cell_type": "markdown",
   "id": "hybrid-milwaukee",
   "metadata": {
    "tags": []
   },
   "source": [
    "## Walking a Directory"
   ]
  },
  {
   "cell_type": "markdown",
   "id": "critical-capital",
   "metadata": {},
   "source": []
  },
  {
   "cell_type": "code",
   "execution_count": 9,
   "id": "plain-chester",
   "metadata": {},
   "outputs": [],
   "source": [
    "import os"
   ]
  },
  {
   "cell_type": "markdown",
   "id": "parallel-element",
   "metadata": {},
   "source": []
  },
  {
   "cell_type": "code",
   "execution_count": 11,
   "id": "fantastic-provincial",
   "metadata": {},
   "outputs": [
    {
     "name": "stdout",
     "output_type": "stream",
     "text": [
      "data/sample2.txt\n",
      "data/sample.txt\n",
      "data/other2/sample4.txt\n",
      "data/other/sample3.txt\n",
      "data/.ipynb_checkpoints/sample2-checkpoint.txt\n",
      "data/.ipynb_checkpoints/sample-checkpoint.txt\n"
     ]
    }
   ],
   "source": [
    "for root, dirs, files in os.walk(\"data/\"):\n",
    "    for file in files:\n",
    "        if file.endswith(\".txt\"):\n",
    "             print(os.path.join(root, file))"
   ]
  },
  {
   "cell_type": "code",
   "execution_count": null,
   "id": "headed-dollar",
   "metadata": {},
   "outputs": [],
   "source": []
  },
  {
   "cell_type": "code",
   "execution_count": null,
   "id": "convertible-arrow",
   "metadata": {},
   "outputs": [],
   "source": []
  },
  {
   "cell_type": "code",
   "execution_count": null,
   "id": "ongoing-determination",
   "metadata": {},
   "outputs": [],
   "source": []
  }
 ],
 "metadata": {
  "kernelspec": {
   "display_name": "Python 3 (ipykernel)",
   "language": "python",
   "name": "python3"
  },
  "language_info": {
   "codemirror_mode": {
    "name": "ipython",
    "version": 3
   },
   "file_extension": ".py",
   "mimetype": "text/x-python",
   "name": "python",
   "nbconvert_exporter": "python",
   "pygments_lexer": "ipython3",
   "version": "3.9.7"
  }
 },
 "nbformat": 4,
 "nbformat_minor": 5
}
