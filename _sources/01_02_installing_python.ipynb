{
 "cells": [
  {
   "cell_type": "markdown",
   "id": "subjective-indonesia",
   "metadata": {},
   "source": [
    "# <center>Installing Python</center>"
   ]
  },
  {
   "cell_type": "markdown",
   "id": "manual-chaos",
   "metadata": {},
   "source": [
    "<center>Dr. W.J.B. Mattingly</center>\n",
    "\n",
    "<center>Smithsonian Data Science Lab and United States Holocaust Memorial Museum</center>\n",
    "\n",
    "<center>January 2022</center>"
   ]
  },
  {
   "cell_type": "markdown",
   "id": "chubby-clone",
   "metadata": {},
   "source": [
    "## Covered in this Chapter"
   ]
  },
  {
   "cell_type": "markdown",
   "id": "perceived-library",
   "metadata": {},
   "source": [
    "1) How to Use Python from this Textbook<br>\n",
    "2) How to Use Python on JupyterOrg<br>\n",
    "3) How to Install Python with Anaconda Navigator and Jupyter-Lab<br>"
   ]
  },
  {
   "cell_type": "markdown",
   "id": "naval-philadelphia",
   "metadata": {},
   "source": [
    "## Introduction"
   ]
  },
  {
   "cell_type": "markdown",
   "id": "enhanced-reform",
   "metadata": {},
   "source": [
    "The most challenging thing about working with Python (or any programming language) is learning how to install it correctly. Why is this such a challenge? Because installing Python differs dramatically by operating system and version of operating system. I present to you three different ways you can start programming Python from the easiest to the more challenging.\n",
    "\n",
    "1. Using the free built-in Binder feature of this textbooko\n",
    "2. Using a free online Jupyter Notebook\n",
    "3. Installing Python locally via Anaconda Navigator and using Jupyter-Lab"
   ]
  },
  {
   "cell_type": "markdown",
   "id": "large-realtor",
   "metadata": {},
   "source": [
    "## Using Binder from this JupyterBook"
   ]
  },
  {
   "cell_type": "markdown",
   "id": "marked-bride",
   "metadata": {},
   "source": [
    "Perhaps the easiest solution to getting started with Python, is to not even bother installing it. If you have access to this textbook, then you likely have internet access. If that is the case, then you can create a binder environment from this textbook. To begin, put your mouse over the rocket ship icon in the top-left portion of the page."
   ]
  },
  {
   "cell_type": "markdown",
   "id": "suitable-knowing",
   "metadata": {},
   "source": [
    "```{image} ./images/install/binder_rocket.JPG\n",
    ":alt: jupyter_org\n",
    ":class: bg-primary\n",
    ":width: 500px\n",
    ":align: center\n",
    "```"
   ]
  },
  {
   "cell_type": "markdown",
   "id": "collectible-smooth",
   "metadata": {},
   "source": [
    "A button that says binder should emerge that says \"Binder\". Click it."
   ]
  },
  {
   "cell_type": "markdown",
   "id": "metallic-hamburg",
   "metadata": {},
   "source": [
    "```{image} ./images/install/binder_button.JPG\n",
    ":alt: jupyter_org\n",
    ":class: bg-primary\n",
    ":width: 500px\n",
    ":align: center\n",
    "```"
   ]
  },
  {
   "cell_type": "markdown",
   "id": "republican-boulder",
   "metadata": {},
   "source": [
    "At this stage, your screen should look like this:"
   ]
  },
  {
   "cell_type": "markdown",
   "id": "disturbed-annotation",
   "metadata": {},
   "source": [
    "```{image} ./images/install/binder_build.JPG\n",
    ":alt: jupyter_org\n",
    ":class: bg-primary\n",
    ":width: 500px\n",
    ":align: center\n",
    "```"
   ]
  },
  {
   "cell_type": "markdown",
   "id": "seeing-riverside",
   "metadata": {},
   "source": [
    "If it does, then sit back and relax. It may take a few minutes as binder builds the environment. Once Binder is finished, click on File in the top left corner of the screen and then select New Notebook"
   ]
  },
  {
   "cell_type": "markdown",
   "id": "academic-nebraska",
   "metadata": {},
   "source": [
    "```{image} ./images/install/binder_new_notebook.JPG\n",
    ":alt: jupyter_org\n",
    ":class: bg-primary\n",
    ":width: 500px\n",
    ":align: center\n",
    "```"
   ]
  },
  {
   "cell_type": "markdown",
   "id": "employed-aberdeen",
   "metadata": {},
   "source": [
    "After this, select Python 3 (ipykernal). This will open a fresh, new notebook."
   ]
  },
  {
   "cell_type": "markdown",
   "id": "shaped-sense",
   "metadata": {},
   "source": [
    "```{image} ./images/install/binder_new_notebook_click.JPG\n",
    ":alt: jupyter_org\n",
    ":class: bg-primary\n",
    ":width: 500px\n",
    ":align: center\n",
    "```"
   ]
  },
  {
   "cell_type": "markdown",
   "id": "honest-transfer",
   "metadata": {},
   "source": [
    "Now you should have a new notebook that looks like this:"
   ]
  },
  {
   "cell_type": "markdown",
   "id": "awful-cover",
   "metadata": {},
   "source": [
    "```{image} ./images/install/binder_new_notebook_page.JPG\n",
    ":alt: jupyter_org\n",
    ":class: bg-primary\n",
    ":width: 500px\n",
    ":align: center\n",
    "```"
   ]
  },
  {
   "cell_type": "markdown",
   "id": "fossil-static",
   "metadata": {},
   "source": [
    "And now, you can fully follow along with this textbook."
   ]
  },
  {
   "cell_type": "markdown",
   "id": "existing-stack",
   "metadata": {},
   "source": [
    "## Using Jupyter Notebooks Online"
   ]
  },
  {
   "cell_type": "markdown",
   "id": "protected-spank",
   "metadata": {},
   "source": [
    "If you want to be a bit more independent and learn how to code in Python online without Binder and this textbook, you can! You do not need to download and install Python on your local computer either. Instead, you can use free online compilers that allow you follow along with nearly all of this textbook without issue.\n",
    "\n",
    "If this is your view at the moment, then click the link this link: https://jupyter.org/try\n",
    "\n",
    "Once on the page click the picture that says Jupyter Notebook"
   ]
  },
  {
   "cell_type": "markdown",
   "id": "invisible-perry",
   "metadata": {},
   "source": [
    "```{image} ./images/install/jupyter_org.JPG\n",
    ":alt: jupyter_org\n",
    ":class: bg-primary\n",
    ":width: 500px\n",
    ":align: center\n",
    "```"
   ]
  },
  {
   "cell_type": "markdown",
   "id": "negative-pepper",
   "metadata": {},
   "source": [
    "After that, you will see a screen that looks like this:"
   ]
  },
  {
   "cell_type": "markdown",
   "id": "emerging-steering",
   "metadata": {},
   "source": [
    "```{image} ./images/install/jupyter_org_binder.JPG\n",
    ":alt: jupyter_org\n",
    ":class: bg-primary\n",
    ":width: 500px\n",
    ":align: center\n",
    "```"
   ]
  },
  {
   "cell_type": "markdown",
   "id": "manual-visibility",
   "metadata": {},
   "source": [
    "After a few minutes, the environment will load and you should see a notebook. Click File in the top left corner, New Notebook, and Select Python 3."
   ]
  },
  {
   "cell_type": "markdown",
   "id": "united-gates",
   "metadata": {},
   "source": [
    "```{image} ./images/install/jupyter_org_new_page.JPG\n",
    ":alt: jupyter_org\n",
    ":class: bg-primary\n",
    ":width: 500px\n",
    ":align: center\n",
    "```"
   ]
  },
  {
   "cell_type": "markdown",
   "id": "resistant-medium",
   "metadata": {},
   "source": [
    "Once loaded, you can following along with this textbook in this new notebook."
   ]
  },
  {
   "cell_type": "markdown",
   "id": "unsigned-voltage",
   "metadata": {},
   "source": [
    "```{image} ./images/install/jupyter_org_new.JPG\n",
    ":alt: jupyter_org\n",
    ":class: bg-primary\n",
    ":width: 500px\n",
    ":align: center\n",
    "```"
   ]
  },
  {
   "cell_type": "markdown",
   "id": "beginning-johnson",
   "metadata": {},
   "source": [
    "## Installing Python Locally"
   ]
  },
  {
   "cell_type": "markdown",
   "id": "operational-wrist",
   "metadata": {},
   "source": [
    "If you wish to install Python locally and it is your first time, there are many problems that can surface. For this reason, I am now recommending all students install via Anaconda Navigator. It adds extra steps into the installation process, but it eliminates the potential for mistakes to occur. If a mistake occurs during the install process, it could mean that you write a program that never executes.\n",
    "\n",
    "Anaconda Navigator is a user-friendly interface that handles the installation for you. It also allows for you to create environments, which are small areas on your computer that have a unique version of Python and libraries installed. We will learn more about this in Part 06 when we explore libraries.\n",
    "\n",
    "In this chapter, I will walk you through the steps of installing Anaconda Navigator on your machine, regardless of operating system. In addition, I highly encourage you to watch the video on how to do this.\n",
    "\n",
    "When we write code in Python, we do so a few different ways, depending on that code's use. Because this is a textbook and the code I am writing is for presentation purposes, I am using a Jupyter Notebook. Other times, you may write a program in an IDE, or an Integrated Development Environment. Some of these include PyCharm, Atom, etc. In other cases, you will use Python in the terminal to perform quick tasks on data in a directory. Anaconda Navigator removes the need for you to learn how to do all of this because it allows for you to easily install Jupyter-Lab which functions like an IDE but is a bit more forgiving. In addition, you can call terminal sessions. I know these terms do not make sense right now, but as your understanding of programming expands, this paragraph will make more sense. For now, simply trust me that Anaconda Navigator and Jupyter-Lab (both of which we install in this chapter), make your start to learning to code much, much simpler."
   ]
  },
  {
   "cell_type": "markdown",
   "id": "precise-reservoir",
   "metadata": {},
   "source": [
    "### Download Anaconda Navigator"
   ]
  },
  {
   "cell_type": "code",
   "execution_count": null,
   "id": "nasty-tsunami",
   "metadata": {},
   "outputs": [],
   "source": []
  },
  {
   "cell_type": "markdown",
   "id": "better-rogers",
   "metadata": {},
   "source": [
    "### Installing Anaconda Navigator"
   ]
  },
  {
   "cell_type": "code",
   "execution_count": null,
   "id": "opened-regression",
   "metadata": {},
   "outputs": [],
   "source": []
  },
  {
   "cell_type": "markdown",
   "id": "suitable-protocol",
   "metadata": {},
   "source": [
    "### Using Anaconda Navigator"
   ]
  },
  {
   "cell_type": "markdown",
   "id": "local-costa",
   "metadata": {},
   "source": []
  },
  {
   "cell_type": "code",
   "execution_count": null,
   "id": "monthly-edinburgh",
   "metadata": {},
   "outputs": [],
   "source": []
  },
  {
   "cell_type": "markdown",
   "id": "outer-framing",
   "metadata": {},
   "source": [
    "### Installing Jupyter-Lab"
   ]
  },
  {
   "cell_type": "code",
   "execution_count": null,
   "id": "faced-murray",
   "metadata": {},
   "outputs": [],
   "source": []
  },
  {
   "cell_type": "markdown",
   "id": "unlike-interface",
   "metadata": {},
   "source": [
    "### Opening Jupyter-Lab"
   ]
  },
  {
   "cell_type": "code",
   "execution_count": null,
   "id": "compact-pressure",
   "metadata": {},
   "outputs": [],
   "source": []
  },
  {
   "cell_type": "code",
   "execution_count": null,
   "id": "furnished-rehabilitation",
   "metadata": {},
   "outputs": [],
   "source": []
  },
  {
   "cell_type": "code",
   "execution_count": null,
   "id": "entire-bundle",
   "metadata": {},
   "outputs": [],
   "source": []
  }
 ],
 "metadata": {
  "kernelspec": {
   "display_name": "Python 3",
   "language": "python",
   "name": "python3"
  },
  "language_info": {
   "codemirror_mode": {
    "name": "ipython",
    "version": 3
   },
   "file_extension": ".py",
   "mimetype": "text/x-python",
   "name": "python",
   "nbconvert_exporter": "python",
   "pygments_lexer": "ipython3",
   "version": "3.9.2"
  }
 },
 "nbformat": 4,
 "nbformat_minor": 5
}
