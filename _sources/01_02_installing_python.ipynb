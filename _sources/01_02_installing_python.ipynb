{
 "cells": [
  {
   "cell_type": "markdown",
   "id": "healthy-intranet",
   "metadata": {},
   "source": [
    "# <center>Installing Python</center>"
   ]
  },
  {
   "cell_type": "markdown",
   "id": "noted-walnut",
   "metadata": {},
   "source": [
    "<center>Dr. W.J.B. Mattingly</center>\n",
    "\n",
    "<center>Smithsonian Data Science Lab and United States Holocaust Memorial Museum</center>\n",
    "\n",
    "<center>January 2022</center>"
   ]
  },
  {
   "cell_type": "markdown",
   "id": "planned-journalism",
   "metadata": {},
   "source": [
    "## Covered in this Chapter"
   ]
  },
  {
   "cell_type": "markdown",
   "id": "steady-julian",
   "metadata": {},
   "source": [
    "1) <br>\n",
    "2) <br>\n",
    "3) <br>"
   ]
  },
  {
   "cell_type": "markdown",
   "id": "circular-oliver",
   "metadata": {},
   "source": [
    "## Introduction"
   ]
  },
  {
   "cell_type": "markdown",
   "id": "noted-financing",
   "metadata": {},
   "source": [
    "The most challenging thing about working with Python (or any programming language) is learning how to install it correctly. Why is this such a challenge? Because installing Python differs dramatically by operating system and version of operating system. I present to you three different ways you can start programming Python from the easiest to the more challenging.\n",
    "\n",
    "1. Using the free built-in Binder feature of this textbooko\n",
    "2. Using a free online Jupyter Notebook\n",
    "3. Installing Python locally via Anaconda Navigator and using Jupyter-Lab"
   ]
  },
  {
   "cell_type": "markdown",
   "id": "valid-politics",
   "metadata": {},
   "source": [
    "## Using Binder from this JupyterBook"
   ]
  },
  {
   "cell_type": "markdown",
   "id": "behind-toilet",
   "metadata": {},
   "source": [
    "Perhaps the easiest solution to getting started with Python, is to not even bother installing it. If you have access to this textbook, then you likely have internet access. If that is the case, then you can create a binder environment from this textbook. To begin, put your mouse over the rocket ship icon in the top-left portion of the page."
   ]
  },
  {
   "cell_type": "markdown",
   "id": "cardiac-manual",
   "metadata": {},
   "source": [
    "```{image} ./images/install/binder_rocket.JPG\n",
    ":alt: jupyter_org\n",
    ":class: bg-primary\n",
    ":width: 500px\n",
    ":align: center\n",
    "```"
   ]
  },
  {
   "cell_type": "markdown",
   "id": "celtic-converter",
   "metadata": {},
   "source": [
    "A button that says binder should emerge that says \"Binder\". Click it."
   ]
  },
  {
   "cell_type": "markdown",
   "id": "needed-annual",
   "metadata": {},
   "source": [
    "```{image} ./images/install/binder_button.JPG\n",
    ":alt: jupyter_org\n",
    ":class: bg-primary\n",
    ":width: 500px\n",
    ":align: center\n",
    "```"
   ]
  },
  {
   "cell_type": "code",
   "execution_count": null,
   "id": "wrapped-virgin",
   "metadata": {},
   "outputs": [],
   "source": []
  },
  {
   "cell_type": "code",
   "execution_count": null,
   "id": "adaptive-environment",
   "metadata": {},
   "outputs": [],
   "source": []
  },
  {
   "cell_type": "code",
   "execution_count": null,
   "id": "current-phase",
   "metadata": {},
   "outputs": [],
   "source": []
  },
  {
   "cell_type": "markdown",
   "id": "infinite-emphasis",
   "metadata": {},
   "source": [
    "## Using Jupyter Notebooks Online"
   ]
  },
  {
   "cell_type": "markdown",
   "id": "generous-still",
   "metadata": {},
   "source": [
    "If the entire process of installing these two pieces of software is too much to handle right now and you simply want to dive in and start coding, that's okay! You can! You do not need to download and install Python on your local computer. Instead, you can use free online compilers that allow you follow along with nearly all of this textbook without issue.\n",
    "\n",
    "If this is your view at the moment, then click the link this link: https://jupyter.org/try\n",
    "\n",
    "Once on the page click the picture that says Jupyter Notebook"
   ]
  },
  {
   "cell_type": "markdown",
   "id": "stretch-stroke",
   "metadata": {},
   "source": [
    "```{image} ./images/install/jupyter_org.JPG\n",
    ":alt: jupyter_org\n",
    ":class: bg-primary\n",
    ":width: 500px\n",
    ":align: center\n",
    "```"
   ]
  },
  {
   "cell_type": "markdown",
   "id": "promotional-botswana",
   "metadata": {},
   "source": [
    "After that, you will see a screen that looks like this:"
   ]
  },
  {
   "cell_type": "code",
   "execution_count": null,
   "id": "electoral-dealer",
   "metadata": {},
   "outputs": [],
   "source": []
  },
  {
   "cell_type": "markdown",
   "id": "macro-imagination",
   "metadata": {},
   "source": [
    "After a few minutes, the environment will load and you should see a notebook that looks like this:"
   ]
  },
  {
   "cell_type": "code",
   "execution_count": null,
   "id": "subject-married",
   "metadata": {},
   "outputs": [],
   "source": []
  },
  {
   "cell_type": "markdown",
   "id": "intended-coast",
   "metadata": {},
   "source": [
    "From here, you can input code in cells and execute that code, using the buttons up top:"
   ]
  },
  {
   "cell_type": "code",
   "execution_count": null,
   "id": "ordinary-journalist",
   "metadata": {},
   "outputs": [],
   "source": []
  },
  {
   "cell_type": "markdown",
   "id": "physical-church",
   "metadata": {},
   "source": [
    "## Installing Python Locally"
   ]
  },
  {
   "cell_type": "markdown",
   "id": "fitted-karaoke",
   "metadata": {},
   "source": [
    "If you wish to install Python locally and it is your first time, there are many problems that can surface. For this reason, I am now recommending all students install via Anaconda Navigator. It adds extra steps into the installation process, but it eliminates the potential for mistakes to occur. If a mistake occurs during the install process, it could mean that you write a program that never executes.\n",
    "\n",
    "Anaconda Navigator is a user-friendly interface that handles the installation for you. It also allows for you to create environments, which are small areas on your computer that have a unique version of Python and libraries installed. We will learn more about this in Part 06 when we explore libraries.\n",
    "\n",
    "In this chapter, I will walk you through the steps of installing Anaconda Navigator on your machine, regardless of operating system. In addition, I highly encourage you to watch the video on how to do this.\n",
    "\n",
    "When we write code in Python, we do so a few different ways, depending on that code's use. Because this is a textbook and the code I am writing is for presentation purposes, I am using a Jupyter Notebook. Other times, you may write a program in an IDE, or an Integrated Development Environment. Some of these include PyCharm, Atom, etc. In other cases, you will use Python in the terminal to perform quick tasks on data in a directory. Anaconda Navigator removes the need for you to learn how to do all of this because it allows for you to easily install Jupyter-Lab which functions like an IDE but is a bit more forgiving. In addition, you can call terminal sessions. I know these terms do not make sense right now, but as your understanding of programming expands, this paragraph will make more sense. For now, simply trust me that Anaconda Navigator and Jupyter-Lab (both of which we install in this chapter), make your start to learning to code much, much simpler."
   ]
  },
  {
   "cell_type": "markdown",
   "id": "cordless-thesaurus",
   "metadata": {},
   "source": [
    "### Download Anaconda Navigator"
   ]
  },
  {
   "cell_type": "code",
   "execution_count": null,
   "id": "appropriate-humor",
   "metadata": {},
   "outputs": [],
   "source": []
  },
  {
   "cell_type": "markdown",
   "id": "considered-drink",
   "metadata": {},
   "source": [
    "### Installing Anaconda Navigator"
   ]
  },
  {
   "cell_type": "code",
   "execution_count": null,
   "id": "satisfied-sampling",
   "metadata": {},
   "outputs": [],
   "source": []
  },
  {
   "cell_type": "markdown",
   "id": "olympic-thunder",
   "metadata": {},
   "source": [
    "### Using Anaconda Navigator"
   ]
  },
  {
   "cell_type": "markdown",
   "id": "random-buffer",
   "metadata": {},
   "source": []
  },
  {
   "cell_type": "code",
   "execution_count": null,
   "id": "serial-immunology",
   "metadata": {},
   "outputs": [],
   "source": []
  },
  {
   "cell_type": "markdown",
   "id": "plain-prior",
   "metadata": {},
   "source": [
    "### Installing Jupyter-Lab"
   ]
  },
  {
   "cell_type": "code",
   "execution_count": null,
   "id": "peaceful-trout",
   "metadata": {},
   "outputs": [],
   "source": []
  },
  {
   "cell_type": "markdown",
   "id": "appropriate-singing",
   "metadata": {},
   "source": [
    "### Opening Jupyter-Lab"
   ]
  },
  {
   "cell_type": "code",
   "execution_count": null,
   "id": "fewer-witness",
   "metadata": {},
   "outputs": [],
   "source": []
  },
  {
   "cell_type": "code",
   "execution_count": null,
   "id": "satisfied-specification",
   "metadata": {},
   "outputs": [],
   "source": []
  },
  {
   "cell_type": "code",
   "execution_count": null,
   "id": "faced-asset",
   "metadata": {},
   "outputs": [],
   "source": []
  }
 ],
 "metadata": {
  "kernelspec": {
   "display_name": "Python 3",
   "language": "python",
   "name": "python3"
  },
  "language_info": {
   "codemirror_mode": {
    "name": "ipython",
    "version": 3
   },
   "file_extension": ".py",
   "mimetype": "text/x-python",
   "name": "python",
   "nbconvert_exporter": "python",
   "pygments_lexer": "ipython3",
   "version": "3.9.2"
  }
 },
 "nbformat": 4,
 "nbformat_minor": 5
}
