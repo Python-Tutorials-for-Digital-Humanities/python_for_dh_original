{
 "cells": [
  {
   "cell_type": "markdown",
   "id": "downtown-marketing",
   "metadata": {},
   "source": [
    "# <center>Installing Python</center>"
   ]
  },
  {
   "cell_type": "markdown",
   "id": "right-recruitment",
   "metadata": {},
   "source": [
    "<center>Dr. W.J.B. Mattingly</center>\n",
    "\n",
    "<center>Smithsonian Data Science Lab and United States Holocaust Memorial Museum</center>\n",
    "\n",
    "<center>January 2022</center>"
   ]
  },
  {
   "cell_type": "markdown",
   "id": "characteristic-aerospace",
   "metadata": {},
   "source": [
    "## Covered in this Chapter"
   ]
  },
  {
   "cell_type": "markdown",
   "id": "instrumental-enzyme",
   "metadata": {},
   "source": [
    "1) <br>\n",
    "2) <br>\n",
    "3) <br>"
   ]
  },
  {
   "cell_type": "markdown",
   "id": "plain-arkansas",
   "metadata": {},
   "source": [
    "## Introduction"
   ]
  },
  {
   "cell_type": "markdown",
   "id": "choice-hunger",
   "metadata": {},
   "source": [
    "The most challenging thing about working with Python (or any programming language) is learning how to install it correctly. Why is this such a challenge? Because installing Python differs dramatically by operating system and version of operating system. For this reason, I am now recommending all students install via Anaconda Navigator. It adds extra steps into the installation process, but it eliminates the potential for mistakes to occur. If a mistake occurs during the install process, it could mean that you write a program that never executes.\n",
    "\n",
    "Anaconda Navigator is a user-friendly interface that handles the installation for you. It also allows for you to create environments, which are small areas on your computer that have a unique version of Python and libraries installed. We will learn more about this in Part 06 when we explore libraries.\n",
    "\n",
    "In this chapter, I will walk you through the steps of installing Anaconda Navigator on your machine, regardless of operating system. In addition, I highly encourage you to watch the video on how to do this.\n",
    "\n",
    "When we write code in Python, we do so a few different ways, depending on that code's use. Because this is a textbook and the code I am writing is for presentation purposes, I am using a Jupyter Notebook. Other times, you may write a program in an IDE, or an Integrated Development Environment. Some of these include PyCharm, Atom, etc. In other cases, you will use Python in the terminal to perform quick tasks on data in a directory. Anaconda Navigator removes the need for you to learn how to do all of this because it allows for you to easily install Jupyter-Lab which functions like an IDE but is a bit more forgiving. In addition, you can call terminal sessions. I know these terms do not make sense right now, but as your understanding of programming expands, this paragraph will make more sense. For now, simply trust me that Anaconda Navigator and Jupyter-Lab (both of which we install in this chapter), make your start to learning to code much, much simpler.\n",
    "\n",
    "If the entire process of installing these two pieces of software is too much to handle right now and you simply want to dive in and start coding, that's okay! You can! You do not need to download and install Python on your local computer. Instead, you can use free online compilers that allow you follow along with nearly all of this textbook without issue.\n",
    "\n",
    "If this is your view at the moment, then click the link this link: https://jupyter.org/try\n",
    "\n",
    "Once on the page click the picture that says Jupyter Notebook"
   ]
  },
  {
   "cell_type": "markdown",
   "id": "banner-bookmark",
   "metadata": {},
   "source": [
    "```{image} ./images/install/jupyter_org.JPG\n",
    ":alt: dsl\n",
    ":class: bg-primary\n",
    ":width: 200px\n",
    ":align: center\n",
    "```"
   ]
  },
  {
   "cell_type": "markdown",
   "id": "innocent-calgary",
   "metadata": {},
   "source": [
    "After that, you will see a screen that looks like this:"
   ]
  },
  {
   "cell_type": "code",
   "execution_count": null,
   "id": "guilty-overview",
   "metadata": {},
   "outputs": [],
   "source": []
  },
  {
   "cell_type": "markdown",
   "id": "level-death",
   "metadata": {},
   "source": [
    "After a few minutes, the environment will load and you should see a notebook that looks like this:"
   ]
  },
  {
   "cell_type": "code",
   "execution_count": null,
   "id": "opposed-database",
   "metadata": {},
   "outputs": [],
   "source": []
  },
  {
   "cell_type": "markdown",
   "id": "contained-defeat",
   "metadata": {},
   "source": [
    "From here, you can input code in cells and execute that code, using the buttons up top:"
   ]
  },
  {
   "cell_type": "code",
   "execution_count": null,
   "id": "medieval-worcester",
   "metadata": {},
   "outputs": [],
   "source": []
  },
  {
   "cell_type": "markdown",
   "id": "verified-buyer",
   "metadata": {},
   "source": [
    "## Download Anaconda Navigator"
   ]
  },
  {
   "cell_type": "code",
   "execution_count": null,
   "id": "activated-effectiveness",
   "metadata": {},
   "outputs": [],
   "source": []
  },
  {
   "cell_type": "markdown",
   "id": "driving-andorra",
   "metadata": {},
   "source": [
    "## Installing Anaconda Navigator"
   ]
  },
  {
   "cell_type": "code",
   "execution_count": null,
   "id": "funny-leave",
   "metadata": {},
   "outputs": [],
   "source": []
  },
  {
   "cell_type": "markdown",
   "id": "potential-holocaust",
   "metadata": {},
   "source": [
    "## Using Anaconda Navigator"
   ]
  },
  {
   "cell_type": "markdown",
   "id": "affiliated-filename",
   "metadata": {},
   "source": []
  },
  {
   "cell_type": "code",
   "execution_count": null,
   "id": "revolutionary-locator",
   "metadata": {},
   "outputs": [],
   "source": []
  },
  {
   "cell_type": "markdown",
   "id": "progressive-interference",
   "metadata": {},
   "source": [
    "## Installing Jupyter-Lab"
   ]
  },
  {
   "cell_type": "code",
   "execution_count": null,
   "id": "breeding-exposure",
   "metadata": {},
   "outputs": [],
   "source": []
  },
  {
   "cell_type": "markdown",
   "id": "monthly-terrorist",
   "metadata": {},
   "source": [
    "## Opening Jupyter-Lab"
   ]
  },
  {
   "cell_type": "code",
   "execution_count": null,
   "id": "cardiovascular-playback",
   "metadata": {},
   "outputs": [],
   "source": []
  },
  {
   "cell_type": "code",
   "execution_count": null,
   "id": "legal-plumbing",
   "metadata": {},
   "outputs": [],
   "source": []
  },
  {
   "cell_type": "code",
   "execution_count": null,
   "id": "supposed-samuel",
   "metadata": {},
   "outputs": [],
   "source": []
  }
 ],
 "metadata": {
  "kernelspec": {
   "display_name": "Python 3",
   "language": "python",
   "name": "python3"
  },
  "language_info": {
   "codemirror_mode": {
    "name": "ipython",
    "version": 3
   },
   "file_extension": ".py",
   "mimetype": "text/x-python",
   "name": "python",
   "nbconvert_exporter": "python",
   "pygments_lexer": "ipython3",
   "version": "3.9.2"
  }
 },
 "nbformat": 4,
 "nbformat_minor": 5
}
