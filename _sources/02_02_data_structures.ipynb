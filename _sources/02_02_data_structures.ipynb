{
 "cells": [
  {
   "cell_type": "markdown",
   "id": "impaired-caution",
   "metadata": {},
   "source": [
    "# <center>Introduction to Data Structures</center>"
   ]
  },
  {
   "cell_type": "markdown",
   "id": "answering-alcohol",
   "metadata": {},
   "source": [
    "<center>Dr. W.J.B. Mattingly</center>\n",
    "\n",
    "<center>Smithsonian Data Science Lab and United States Holocaust Memorial Museum</center>\n",
    "\n",
    "<center>January 2022</center>"
   ]
  },
  {
   "cell_type": "code",
   "execution_count": null,
   "id": "comparative-background",
   "metadata": {},
   "outputs": [],
   "source": []
  },
  {
   "cell_type": "markdown",
   "id": "coastal-macintosh",
   "metadata": {},
   "source": [
    "## Data Structures"
   ]
  },
  {
   "cell_type": "markdown",
   "id": "distributed-coast",
   "metadata": {},
   "source": [
    "In the last chapter, we met strings, integers, floats, and booleans. Each of these were types of data. Strings, for example, allowed us to work with text and numbers allowed us to work with integers and floats. In this chapter, we will begin working with data structures. <b>Data structures</b> are ways of storing multiple kinds of data in a systematic way. In Python, these are created as objects that can be stored in memory and called later in a script. They are divided into two categories: mutable and immutable.\n",
    "\n",
    "Throughout this chapter, we will learn about some of the key types of data structures, how they are different, and how they can be used. We will only cover these in a cursory manner. Throughout this textbook, we will use these data structures to write code and perform data cleaning and data analysis tasks. It is essential that you know how to recognize types of data structures and differentiate them before moving forward. To keep things simple for now, we will focus on three types of data structures: lists, tuples, and dictionaries. There are other types of data structures in Python, but these are the core three that you will use."
   ]
  },
  {
   "cell_type": "markdown",
   "id": "dominant-bicycle",
   "metadata": {},
   "source": [
    "## Lists"
   ]
  },
  {
   "cell_type": "markdown",
   "id": "fifty-section",
   "metadata": {},
   "source": [
    "<b>Lists</b> and tuples are identical with one major exception: lists are mutable. This means that you can create a list object and then alter it in memory as your script runs. This allows for you to do very powerful things to lists that you cannot do to tuples. And these are going to be one of the key data structures you use in all digital humanities projects. The reason? We often need to adjust data while working with it.\n",
    "\n",
    "While we created a tuple with parentheses, we will create lists with square brackets. In the examples below we have two lists. In the first list we see that lists, just like tuples, can contain integers, floats, or strings. We separate items in our list with a comma. In the second example, a_list2, we see that lists can contain data structures within them. This is true for lists, tuples, and dictionaries."
   ]
  },
  {
   "cell_type": "code",
   "execution_count": 1,
   "id": "interracial-thailand",
   "metadata": {},
   "outputs": [
    {
     "name": "stdout",
     "output_type": "stream",
     "text": [
      "[1, 1.0, 'one']\n"
     ]
    }
   ],
   "source": [
    "list1 = [1, 1.0, \"one\"]\n",
    "print (list1)"
   ]
  },
  {
   "cell_type": "markdown",
   "id": "rapid-ratio",
   "metadata": {},
   "source": [
    "We can index lists, or grab the data from a certain position, with the square brackets. The command:"
   ]
  },
  {
   "cell_type": "code",
   "execution_count": 2,
   "id": "spare-transmission",
   "metadata": {},
   "outputs": [
    {
     "name": "stdout",
     "output_type": "stream",
     "text": [
      "1\n"
     ]
    }
   ],
   "source": [
    "print (list1[0])"
   ]
  },
  {
   "cell_type": "markdown",
   "id": "unsigned-valentine",
   "metadata": {},
   "source": [
    "## Tuples"
   ]
  },
  {
   "cell_type": "markdown",
   "id": "visible-rover",
   "metadata": {},
   "source": [
    "<b>Tuples</b> are lists of data that cannot be changed. When we look at lists in Lesson 06, we will see that lists are the exact same thing as tuples, except they can be changed. We can distinguish tuples from lists by the way in which they are formed. While lists use square brackets, tuples use parentheses. We create a tuple, like the example below. Our tuple object is a_tuple and the tuple consist of three items: an integer 1, a float 1.0, and a string of “one”. Lists and tuples can contain all three of these types of data. The way in which we separate items in a tuple is with a comma."
   ]
  },
  {
   "cell_type": "code",
   "execution_count": 4,
   "id": "numerous-conference",
   "metadata": {},
   "outputs": [],
   "source": [
    "tuple1 = (1, 1.0, \"one\")"
   ]
  },
  {
   "cell_type": "code",
   "execution_count": 5,
   "id": "legal-embassy",
   "metadata": {},
   "outputs": [
    {
     "name": "stdout",
     "output_type": "stream",
     "text": [
      "(1, 1.0, 'one')\n"
     ]
    }
   ],
   "source": [
    "print (tuple1)"
   ]
  },
  {
   "cell_type": "markdown",
   "id": "royal-provincial",
   "metadata": {},
   "source": [
    "## Mutability vs Immutability"
   ]
  },
  {
   "cell_type": "markdown",
   "id": "alpine-prediction",
   "metadata": {},
   "source": [
    "As noted above, tuples are immutable which means they cannot be changed. Let's see precisely what this means in practice. Say, we wanted to add to a list. We can do this with the .append() method. This will take one argument, or piece of information placed between the parentheses. You will learn about arguments later when we discuss functions and methods in greater depth. For now, understand that the information passed between the parentheses tells the method or function what is needed to perform the function. In this case, .append() allows us to append, or add, something to a list. The argument that we pass, \"one\", tells what we want to append. In this case, the string, \"one\"."
   ]
  },
  {
   "cell_type": "code",
   "execution_count": 6,
   "id": "proper-liechtenstein",
   "metadata": {},
   "outputs": [],
   "source": [
    "list1.append(\"one\")"
   ]
  },
  {
   "cell_type": "code",
   "execution_count": 7,
   "id": "written-deadline",
   "metadata": {},
   "outputs": [
    {
     "name": "stdout",
     "output_type": "stream",
     "text": [
      "[1, 1.0, 'one', 'one']\n"
     ]
    }
   ],
   "source": [
    "print (list1)"
   ]
  },
  {
   "cell_type": "markdown",
   "id": "royal-methodology",
   "metadata": {},
   "source": [
    "Notice that we do not have an error. This is because our list is mutable, or changeable. This means that we can add to it, delete items from it, and other operations that allow us to change how it is stored in memory. Tuples, on the other hand, are immutable, or unchangeable. Let's try and perform the same method on the tuple and see what happens."
   ]
  },
  {
   "cell_type": "code",
   "execution_count": 8,
   "id": "hollow-inspiration",
   "metadata": {},
   "outputs": [
    {
     "ename": "AttributeError",
     "evalue": "'tuple' object has no attribute 'append'",
     "output_type": "error",
     "traceback": [
      "\u001b[1;31m---------------------------------------------------------------------------\u001b[0m",
      "\u001b[1;31mAttributeError\u001b[0m                            Traceback (most recent call last)",
      "\u001b[1;32m<ipython-input-8-f0071754b9b9>\u001b[0m in \u001b[0;36m<module>\u001b[1;34m\u001b[0m\n\u001b[1;32m----> 1\u001b[1;33m \u001b[0mtuple1\u001b[0m\u001b[1;33m.\u001b[0m\u001b[0mappend\u001b[0m\u001b[1;33m(\u001b[0m\u001b[1;34m\"one\"\u001b[0m\u001b[1;33m)\u001b[0m\u001b[1;33m\u001b[0m\u001b[1;33m\u001b[0m\u001b[0m\n\u001b[0m",
      "\u001b[1;31mAttributeError\u001b[0m: 'tuple' object has no attribute 'append'"
     ]
    }
   ],
   "source": [
    "tuple1.append(\"one\")"
   ]
  },
  {
   "cell_type": "markdown",
   "id": "polar-haiti",
   "metadata": {},
   "source": [
    "Notice that we get an AttributeError. This means that a tuple does not have the ability to use the append method. This does not exist for tuples because they are immutable or unchangeable. The only way to alter the object name, tuple1 is to entirely replace it in memory."
   ]
  },
  {
   "cell_type": "markdown",
   "id": "dense-knock",
   "metadata": {},
   "source": [
    "## Sets (Bonus Data Structure)"
   ]
  },
  {
   "cell_type": "markdown",
   "id": "qualified-credit",
   "metadata": {},
   "source": [
    "There is one other data structure similar to lists and tuples and I include it here as a bonus data structure. This is the set. A <b>set</b> is identical to a list. It is mutable, meaning we can update it, but unlike a list, it cannot contain duplicates. This is useful in niche circumstances, such as when you need to remove all duplicates from a list. I include it here just so that you are aware that other types of data structures do exist."
   ]
  },
  {
   "cell_type": "code",
   "execution_count": 10,
   "id": "informal-victorian",
   "metadata": {},
   "outputs": [
    {
     "name": "stdout",
     "output_type": "stream",
     "text": [
      "{1, 'one', 1.1}\n"
     ]
    }
   ],
   "source": [
    "set1 = {1, 1.1, \"one\", \"one\"}\n",
    "print (set1)"
   ]
  },
  {
   "cell_type": "markdown",
   "id": "downtown-communication",
   "metadata": {},
   "source": [
    "## Dictionaries"
   ]
  },
  {
   "cell_type": "markdown",
   "id": "blocked-yemen",
   "metadata": {},
   "source": [
    "Like tuples and lists, dictionaries are a data structure in Python. Like lists, dictionaries are mutable, meaning they can be changed in memory. Unlike tuples and lists, dictionaries are not lists of data. Instead, they have two components: keys and values. These two components are separated by a colon. All of this is contained within squiggly brackets. In the example below, we have a dictionary, a_dict, with a key of “name” and a value of \"William\"."
   ]
  },
  {
   "cell_type": "code",
   "execution_count": 11,
   "id": "liberal-latino",
   "metadata": {},
   "outputs": [],
   "source": [
    "dict1 = {\n",
    "        \"name\": \"William\",\n",
    "         \"last_name\": \"Mattingly\"\n",
    "        }"
   ]
  },
  {
   "cell_type": "markdown",
   "id": "pediatric-thesaurus",
   "metadata": {},
   "source": [
    "In digital humanities projects, dictionaries are particularly useful for structuring complex data that you may have in Excel with each key being an Excel column and each value being its corresponding value. The dictionary name could be the name of the individual to whom the row corresponds. Like lists and tuples, you can embed data structures within a Python dictionary."
   ]
  },
  {
   "cell_type": "code",
   "execution_count": 12,
   "id": "electric-diving",
   "metadata": {},
   "outputs": [
    {
     "name": "stdout",
     "output_type": "stream",
     "text": [
      "{'name': 'William', 'last_name': 'Mattingly'}\n"
     ]
    }
   ],
   "source": [
    "print (dict1)"
   ]
  },
  {
   "cell_type": "code",
   "execution_count": 13,
   "id": "assured-budapest",
   "metadata": {},
   "outputs": [
    {
     "name": "stdout",
     "output_type": "stream",
     "text": [
      "['William', 'Mattingly']\n"
     ]
    }
   ],
   "source": [
    "list1 = [\"William\", \"Mattingly\"]\n",
    "print (list1)"
   ]
  },
  {
   "cell_type": "code",
   "execution_count": 15,
   "id": "tired-findings",
   "metadata": {},
   "outputs": [
    {
     "name": "stdout",
     "output_type": "stream",
     "text": [
      "Mattingly\n"
     ]
    }
   ],
   "source": [
    "print (dict1[\"last_name\"])"
   ]
  },
  {
   "cell_type": "markdown",
   "id": "robust-median",
   "metadata": {},
   "source": [
    "## Indexing"
   ]
  },
  {
   "cell_type": "code",
   "execution_count": 18,
   "id": "accompanied-facial",
   "metadata": {},
   "outputs": [
    {
     "name": "stdout",
     "output_type": "stream",
     "text": [
      "M\n"
     ]
    }
   ],
   "source": [
    "#Indexing\n",
    "print (list1[1][0])"
   ]
  },
  {
   "cell_type": "code",
   "execution_count": 19,
   "id": "tight-death",
   "metadata": {},
   "outputs": [],
   "source": [
    "list5 = [1, 2, 3, 4, 5]"
   ]
  },
  {
   "cell_type": "code",
   "execution_count": 20,
   "id": "apparent-overhead",
   "metadata": {},
   "outputs": [
    {
     "name": "stdout",
     "output_type": "stream",
     "text": [
      "[1, 2, 3]\n"
     ]
    }
   ],
   "source": [
    "print (list5[0:3])"
   ]
  },
  {
   "cell_type": "code",
   "execution_count": 21,
   "id": "standard-sending",
   "metadata": {},
   "outputs": [
    {
     "name": "stdout",
     "output_type": "stream",
     "text": [
      "5\n"
     ]
    }
   ],
   "source": [
    "print (list5[-1])"
   ]
  },
  {
   "cell_type": "code",
   "execution_count": 22,
   "id": "minor-organizer",
   "metadata": {},
   "outputs": [
    {
     "name": "stdout",
     "output_type": "stream",
     "text": [
      "[3, 4, 5]\n"
     ]
    }
   ],
   "source": [
    "print (list5[-3:])"
   ]
  },
  {
   "cell_type": "code",
   "execution_count": 23,
   "id": "artificial-mainstream",
   "metadata": {},
   "outputs": [
    {
     "name": "stdout",
     "output_type": "stream",
     "text": [
      "[1, 2, 3]\n"
     ]
    }
   ],
   "source": [
    "print (list5[:3])"
   ]
  },
  {
   "cell_type": "code",
   "execution_count": 24,
   "id": "dominant-exploration",
   "metadata": {},
   "outputs": [],
   "source": [
    "dict5 = {\"names\": [\"William\", \"Stephanie\", \"Samantha\", \"Anna\", \"Sierra\"]}"
   ]
  },
  {
   "cell_type": "code",
   "execution_count": 28,
   "id": "compound-benefit",
   "metadata": {},
   "outputs": [
    {
     "ename": "KeyError",
     "evalue": "'name'",
     "output_type": "error",
     "traceback": [
      "\u001b[1;31m---------------------------------------------------------------------------\u001b[0m",
      "\u001b[1;31mKeyError\u001b[0m                                  Traceback (most recent call last)",
      "\u001b[1;32m<ipython-input-28-0abd7385178c>\u001b[0m in \u001b[0;36m<module>\u001b[1;34m\u001b[0m\n\u001b[1;32m----> 1\u001b[1;33m \u001b[0mprint\u001b[0m \u001b[1;33m(\u001b[0m\u001b[0mdict5\u001b[0m\u001b[1;33m[\u001b[0m\u001b[1;34m\"name\"\u001b[0m\u001b[1;33m]\u001b[0m\u001b[1;33m)\u001b[0m\u001b[1;33m\u001b[0m\u001b[1;33m\u001b[0m\u001b[0m\n\u001b[0m",
      "\u001b[1;31mKeyError\u001b[0m: 'name'"
     ]
    }
   ],
   "source": [
    "print (dict5[\"name\"])"
   ]
  },
  {
   "cell_type": "code",
   "execution_count": null,
   "id": "elect-antenna",
   "metadata": {},
   "outputs": [],
   "source": []
  }
 ],
 "metadata": {
  "kernelspec": {
   "display_name": "Python 3",
   "language": "python",
   "name": "python3"
  },
  "language_info": {
   "codemirror_mode": {
    "name": "ipython",
    "version": 3
   },
   "file_extension": ".py",
   "mimetype": "text/x-python",
   "name": "python",
   "nbconvert_exporter": "python",
   "pygments_lexer": "ipython3",
   "version": "3.9.2"
  }
 },
 "nbformat": 4,
 "nbformat_minor": 5
}
