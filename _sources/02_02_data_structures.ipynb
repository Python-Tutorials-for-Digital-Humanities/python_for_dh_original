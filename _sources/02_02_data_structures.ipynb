{
 "cells": [
  {
   "cell_type": "code",
   "execution_count": 1,
   "id": "intimate-salon",
   "metadata": {},
   "outputs": [],
   "source": [
    "#Lists, Tuples, Sets*, Dictionaries"
   ]
  },
  {
   "cell_type": "code",
   "execution_count": 2,
   "id": "formal-animation",
   "metadata": {},
   "outputs": [],
   "source": [
    "#Lists"
   ]
  },
  {
   "cell_type": "code",
   "execution_count": 3,
   "id": "municipal-album",
   "metadata": {},
   "outputs": [
    {
     "name": "stdout",
     "output_type": "stream",
     "text": [
      "[1, 1.0, 'one']\n"
     ]
    }
   ],
   "source": [
    "list1 = [1, 1.0, \"one\"]\n",
    "print (list1)"
   ]
  },
  {
   "cell_type": "code",
   "execution_count": 4,
   "id": "bacterial-balloon",
   "metadata": {},
   "outputs": [],
   "source": [
    "tuple1 = (1, 1.0, \"one\")"
   ]
  },
  {
   "cell_type": "code",
   "execution_count": 5,
   "id": "twelve-ethernet",
   "metadata": {},
   "outputs": [
    {
     "name": "stdout",
     "output_type": "stream",
     "text": [
      "(1, 1.0, 'one')\n"
     ]
    }
   ],
   "source": [
    "print (tuple1)"
   ]
  },
  {
   "cell_type": "code",
   "execution_count": 6,
   "id": "rotary-brook",
   "metadata": {},
   "outputs": [],
   "source": [
    "list1.append(\"one\")"
   ]
  },
  {
   "cell_type": "code",
   "execution_count": 7,
   "id": "tough-intro",
   "metadata": {},
   "outputs": [
    {
     "name": "stdout",
     "output_type": "stream",
     "text": [
      "[1, 1.0, 'one', 'one']\n"
     ]
    }
   ],
   "source": [
    "print (list1)"
   ]
  },
  {
   "cell_type": "code",
   "execution_count": 8,
   "id": "offensive-spelling",
   "metadata": {},
   "outputs": [
    {
     "ename": "AttributeError",
     "evalue": "'tuple' object has no attribute 'append'",
     "output_type": "error",
     "traceback": [
      "\u001b[1;31m---------------------------------------------------------------------------\u001b[0m",
      "\u001b[1;31mAttributeError\u001b[0m                            Traceback (most recent call last)",
      "\u001b[1;32m<ipython-input-8-f0071754b9b9>\u001b[0m in \u001b[0;36m<module>\u001b[1;34m\u001b[0m\n\u001b[1;32m----> 1\u001b[1;33m \u001b[0mtuple1\u001b[0m\u001b[1;33m.\u001b[0m\u001b[0mappend\u001b[0m\u001b[1;33m(\u001b[0m\u001b[1;34m\"one\"\u001b[0m\u001b[1;33m)\u001b[0m\u001b[1;33m\u001b[0m\u001b[1;33m\u001b[0m\u001b[0m\n\u001b[0m",
      "\u001b[1;31mAttributeError\u001b[0m: 'tuple' object has no attribute 'append'"
     ]
    }
   ],
   "source": [
    "tuple1.append(\"one\")"
   ]
  },
  {
   "cell_type": "code",
   "execution_count": 10,
   "id": "photographic-adapter",
   "metadata": {},
   "outputs": [
    {
     "name": "stdout",
     "output_type": "stream",
     "text": [
      "{1, 'one', 1.1}\n"
     ]
    }
   ],
   "source": [
    "set1 = {1, 1.1, \"one\", \"one\"}\n",
    "print (set1)"
   ]
  },
  {
   "cell_type": "code",
   "execution_count": 11,
   "id": "indie-collapse",
   "metadata": {},
   "outputs": [],
   "source": [
    "dict1 = {\n",
    "        \"name\": \"William\",\n",
    "         \"last_name\": \"Mattingly\"\n",
    "        }"
   ]
  },
  {
   "cell_type": "code",
   "execution_count": 12,
   "id": "applicable-hearing",
   "metadata": {},
   "outputs": [
    {
     "name": "stdout",
     "output_type": "stream",
     "text": [
      "{'name': 'William', 'last_name': 'Mattingly'}\n"
     ]
    }
   ],
   "source": [
    "print (dict1)"
   ]
  },
  {
   "cell_type": "code",
   "execution_count": 13,
   "id": "thorough-mouth",
   "metadata": {},
   "outputs": [
    {
     "name": "stdout",
     "output_type": "stream",
     "text": [
      "['William', 'Mattingly']\n"
     ]
    }
   ],
   "source": [
    "list1 = [\"William\", \"Mattingly\"]\n",
    "print (list1)"
   ]
  },
  {
   "cell_type": "code",
   "execution_count": 15,
   "id": "molecular-television",
   "metadata": {},
   "outputs": [
    {
     "name": "stdout",
     "output_type": "stream",
     "text": [
      "Mattingly\n"
     ]
    }
   ],
   "source": [
    "print (dict1[\"last_name\"])"
   ]
  },
  {
   "cell_type": "code",
   "execution_count": 18,
   "id": "adjacent-taiwan",
   "metadata": {},
   "outputs": [
    {
     "name": "stdout",
     "output_type": "stream",
     "text": [
      "M\n"
     ]
    }
   ],
   "source": [
    "#Indexing\n",
    "print (list1[1][0])"
   ]
  },
  {
   "cell_type": "code",
   "execution_count": 19,
   "id": "unlimited-cooler",
   "metadata": {},
   "outputs": [],
   "source": [
    "list5 = [1, 2, 3, 4, 5]"
   ]
  },
  {
   "cell_type": "code",
   "execution_count": 20,
   "id": "through-probability",
   "metadata": {},
   "outputs": [
    {
     "name": "stdout",
     "output_type": "stream",
     "text": [
      "[1, 2, 3]\n"
     ]
    }
   ],
   "source": [
    "print (list5[0:3])"
   ]
  },
  {
   "cell_type": "code",
   "execution_count": 21,
   "id": "played-government",
   "metadata": {},
   "outputs": [
    {
     "name": "stdout",
     "output_type": "stream",
     "text": [
      "5\n"
     ]
    }
   ],
   "source": [
    "print (list5[-1])"
   ]
  },
  {
   "cell_type": "code",
   "execution_count": 22,
   "id": "heard-correspondence",
   "metadata": {},
   "outputs": [
    {
     "name": "stdout",
     "output_type": "stream",
     "text": [
      "[3, 4, 5]\n"
     ]
    }
   ],
   "source": [
    "print (list5[-3:])"
   ]
  },
  {
   "cell_type": "code",
   "execution_count": 23,
   "id": "fatal-observation",
   "metadata": {},
   "outputs": [
    {
     "name": "stdout",
     "output_type": "stream",
     "text": [
      "[1, 2, 3]\n"
     ]
    }
   ],
   "source": [
    "print (list5[:3])"
   ]
  },
  {
   "cell_type": "code",
   "execution_count": 24,
   "id": "twenty-degree",
   "metadata": {},
   "outputs": [],
   "source": [
    "dict5 = {\"names\": [\"William\", \"Stephanie\", \"Samantha\", \"Anna\", \"Sierra\"]}"
   ]
  },
  {
   "cell_type": "code",
   "execution_count": 28,
   "id": "compressed-spelling",
   "metadata": {},
   "outputs": [
    {
     "ename": "KeyError",
     "evalue": "'name'",
     "output_type": "error",
     "traceback": [
      "\u001b[1;31m---------------------------------------------------------------------------\u001b[0m",
      "\u001b[1;31mKeyError\u001b[0m                                  Traceback (most recent call last)",
      "\u001b[1;32m<ipython-input-28-0abd7385178c>\u001b[0m in \u001b[0;36m<module>\u001b[1;34m\u001b[0m\n\u001b[1;32m----> 1\u001b[1;33m \u001b[0mprint\u001b[0m \u001b[1;33m(\u001b[0m\u001b[0mdict5\u001b[0m\u001b[1;33m[\u001b[0m\u001b[1;34m\"name\"\u001b[0m\u001b[1;33m]\u001b[0m\u001b[1;33m)\u001b[0m\u001b[1;33m\u001b[0m\u001b[1;33m\u001b[0m\u001b[0m\n\u001b[0m",
      "\u001b[1;31mKeyError\u001b[0m: 'name'"
     ]
    }
   ],
   "source": [
    "print (dict5[\"name\"])"
   ]
  },
  {
   "cell_type": "code",
   "execution_count": null,
   "id": "digital-serbia",
   "metadata": {},
   "outputs": [],
   "source": []
  }
 ],
 "metadata": {
  "kernelspec": {
   "display_name": "Python 3",
   "language": "python",
   "name": "python3"
  },
  "language_info": {
   "codemirror_mode": {
    "name": "ipython",
    "version": 3
   },
   "file_extension": ".py",
   "mimetype": "text/x-python",
   "name": "python",
   "nbconvert_exporter": "python",
   "pygments_lexer": "ipython3",
   "version": "3.9.2"
  }
 },
 "nbformat": 4,
 "nbformat_minor": 5
}
