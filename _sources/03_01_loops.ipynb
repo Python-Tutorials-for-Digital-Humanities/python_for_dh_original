{
 "cells": [
  {
   "cell_type": "markdown",
   "id": "opposite-license",
   "metadata": {},
   "source": [
    "# <center>Introduction to Loops</center>"
   ]
  },
  {
   "cell_type": "markdown",
   "id": "raising-azerbaijan",
   "metadata": {},
   "source": [
    "<center>Dr. W.J.B. Mattingly</center>\n",
    "\n",
    "<center>Smithsonian Data Science Lab and United States Holocaust Memorial Museum</center>\n",
    "\n",
    "<center>January 2022</center>"
   ]
  },
  {
   "cell_type": "markdown",
   "id": "disabled-switch",
   "metadata": {},
   "source": [
    "## Covered in this Chapter"
   ]
  },
  {
   "cell_type": "markdown",
   "id": "advanced-mixture",
   "metadata": {},
   "source": [
    "1) What are Loops?<br>\n",
    "2) Iterations<br>\n",
    "3) Why are Loops Important?<br>\n",
    "4) For Loops<br>\n",
    "5) While Loops<br>"
   ]
  },
  {
   "cell_type": "markdown",
   "id": "closed-tracker",
   "metadata": {},
   "source": [
    "## What are Loops?"
   ]
  },
  {
   "cell_type": "markdown",
   "id": "fresh-uzbekistan",
   "metadata": {},
   "source": [
    "Loops are a fundamental concept in all programming languages. They are essential in nearly every piece of code that I write and my experience is far from unique. Loops are essential because they allow you to systematically iterate over data. <b>Iteration</b> is the process by which you move across a piece of data or collection of data. As we will learn in this chapter, there are two types of loops in Python:\n",
    "\n",
    "1. For Loops\n",
    "2. While Loops\n",
    "\n",
    "While most tasks can be achieved with either loop, the way in which you use them is different. By the end of this chapter, you will understand not only how to construct a loop in Python, but have a general idea about when to use which loop. As you code more and more, you will learn that coders tend to favor one type of loop over the other. For me (pun intended), I prefer the for loop. If you asked me why, I could not give you an answer. Maybe by the end of this chapter, you will have a favorite as well!"
   ]
  },
  {
   "cell_type": "markdown",
   "id": "agreed-rating",
   "metadata": {},
   "source": [
    "## For Loops"
   ]
  },
  {
   "cell_type": "markdown",
   "id": "expensive-absence",
   "metadata": {},
   "source": [
    "A good way to think about a for loop is to first imagine in your mind a list of names:\n",
    "\n",
    "Tom, Nancy, Drew, Steph\n",
    "\n",
    "Notice that in our list above, we have four names. Each name is separated by a comma. The for loop allows us to move across this list where each comma occurs. Still to this day, when I write a for loop, I say the following in my mind:\n",
    "\n",
    "\"For each item in this list, do something.\"\n",
    "\n",
    "Let's imagine that we wanted to use Python to print off each of the names. I would say in my mind:\n",
    "\n",
    "\"For each item in this list, print off the name\".\n",
    "\n",
    "I have not written a single bit of code, rather expressed a type of logic, or series of operations in regular English. This is known as pseudo-code, or false code. The above statement in English will not work if I wrote it in a Python file, but it allows for me to get the logic of what I want to do down on paper. Next, I would need to write out this logic into normal Python syntax. Let's try and do that now.\n",
    "\n",
    "First, let's make a list of names by creating an object named namelist."
   ]
  },
  {
   "cell_type": "code",
   "execution_count": 2,
   "id": "blocked-bolivia",
   "metadata": {},
   "outputs": [],
   "source": [
    "namelist = [\"Tom\", \"Nancy\", \"Drew\", \"Steph\"]"
   ]
  },
  {
   "cell_type": "markdown",
   "id": "challenging-fiction",
   "metadata": {},
   "source": [
    "Great! Now that we have our namelist object, let's try and iterate over it, or pass over each item in that list. To do this in Python, we would write something like this:"
   ]
  },
  {
   "cell_type": "code",
   "execution_count": 4,
   "id": "immediate-fireplace",
   "metadata": {},
   "outputs": [
    {
     "name": "stdout",
     "output_type": "stream",
     "text": [
      "Tom\n",
      "Nancy\n",
      "Drew\n",
      "Steph\n"
     ]
    }
   ],
   "source": [
    "for name in namelist:\n",
    "    print (name)"
   ]
  },
  {
   "cell_type": "markdown",
   "id": "informative-cancellation",
   "metadata": {},
   "source": [
    "Let's break down a series of things that are happening here. We start off by writing \"for\". This tells Python that we are about to enter a for loop and that it should check for proper syntax. Next, we have the word \"name\". This is an object that will be created in memory and changed each time the loop iterates over the next item in the expression, \"namelist\". This word \"namelist\" corresponds to the object name that I want to iterate over. Finally there is a \":\". In Python, this is the way that we note a nested portion of code. We will use these in nearly every script we write because we frequently need to nest items in code. Once Python sees a \":\", it will expect the next line to be indented.\n",
    "\n",
    "On the next line, we have an indent followed by print, the function that we met in Part 2. Next, we have what we want to be printed, the object name. In other words, we want each name that is temporarily created in memory to be printed off.\n",
    "\n",
    "Notice in the block of code below, I have changed the object \"name\" to \"item\". The name here does not matter. It is simply a word that will indicate the name of the object that you are creating. It is considered Pythonic, or good form, to select a name for the object that makes sense. Because this is a namelist, it makes sense to use the word \"name\" for that object name so that others who read your code will understand it better."
   ]
  },
  {
   "cell_type": "code",
   "execution_count": 3,
   "id": "fewer-accountability",
   "metadata": {},
   "outputs": [
    {
     "name": "stdout",
     "output_type": "stream",
     "text": [
      "Tom\n",
      "Nancy\n",
      "Drew\n",
      "Steph\n"
     ]
    }
   ],
   "source": [
    "for item in namelist:\n",
    "    print (item)"
   ]
  },
  {
   "cell_type": "markdown",
   "id": "declared-sodium",
   "metadata": {},
   "source": [
    "While being able to print things off in a for loop is useful, especially when debugging, usually for loops are used to modify data in some capacity. In the cell below, I want to be able to create a new list based on the list of names in namelist. However, I know that all individuals in that list have the last name \"Mattingly\". I could manually add the last name Mattingly to each individual person, but that would be tedious and, if I had a list of thousands of names, impractical.\n",
    "\n",
    "Within the for loop, therefore, I want to modify the existing string and add it to the new list, \"new_names\". We can modify a string in several ways. For now, we will use the simpler approach of simply adding a plus sign (+) between the object name and the new piece of information I want to add to it, \" Mattingly\""
   ]
  },
  {
   "cell_type": "code",
   "execution_count": 4,
   "id": "catholic-switzerland",
   "metadata": {},
   "outputs": [
    {
     "name": "stdout",
     "output_type": "stream",
     "text": [
      "Tom Mattingly\n",
      "Nancy Mattingly\n",
      "Drew Mattingly\n",
      "Steph Mattingly\n"
     ]
    }
   ],
   "source": [
    "new_names = []\n",
    "for name in namelist:\n",
    "    print (name+\" Mattingly\")\n",
    "    new_names.append(name+\" Mattingly\")"
   ]
  },
  {
   "cell_type": "markdown",
   "id": "agricultural-columbia",
   "metadata": {},
   "source": [
    "Now that we have executed the cell above, let's see how our new list looks. Let's print it off."
   ]
  },
  {
   "cell_type": "code",
   "execution_count": 9,
   "id": "clean-nature",
   "metadata": {},
   "outputs": [
    {
     "name": "stdout",
     "output_type": "stream",
     "text": [
      "['Tom Mattingly', 'Nancy Mattingly', 'Drew Mattingly', 'Steph Mattingly']\n"
     ]
    }
   ],
   "source": [
    "print (new_names)"
   ]
  },
  {
   "cell_type": "markdown",
   "id": "impressed-ceramic",
   "metadata": {},
   "source": [
    "Viola! Like magic, we have brought two different pieces of data together in a for loop. But there is another kind of loop in Python, the while loop."
   ]
  },
  {
   "cell_type": "markdown",
   "id": "announced-rebecca",
   "metadata": {},
   "source": [
    "## While Loops"
   ]
  },
  {
   "cell_type": "markdown",
   "id": "lesser-joseph",
   "metadata": {},
   "source": [
    "In the for loop, the loop iterated over a set of data. A while loop is a bit different. In a while loop, the loop will run continuously while something is true. Like the for loop, we create the loop with a set of commands beginning with its name, while. Next we state the condition to be met that will result in breaking, or stoping the loop. Let's say we wanted to count from 0 to 10. We would create an object named x and set that equal to our start position. Then we would state so long as x != (not equal to) 10, print off x. In order to ensure that x ticks up, we need to make sure that we change the object from x to x+1 so that it moves up by 1 number each time."
   ]
  },
  {
   "cell_type": "code",
   "execution_count": 10,
   "id": "verbal-sport",
   "metadata": {},
   "outputs": [
    {
     "name": "stdout",
     "output_type": "stream",
     "text": [
      "0\n",
      "1\n",
      "2\n",
      "3\n",
      "4\n",
      "5\n",
      "6\n",
      "7\n",
      "8\n",
      "9\n"
     ]
    }
   ],
   "source": [
    "x=0\n",
    "while x != 10:\n",
    "    print (x)\n",
    "    x=x+1"
   ]
  },
  {
   "cell_type": "markdown",
   "id": "academic-services",
   "metadata": {},
   "source": [
    "I know I have stated this before, but it is worth mentioning again. In coding, there us usually never one way to do a task. Notice in the block of code below what is different? Why don't you take a look at it and see if you can figure out precisely what is happening and why it succeeds in performing the same task."
   ]
  },
  {
   "cell_type": "code",
   "execution_count": 11,
   "id": "brave-cameroon",
   "metadata": {},
   "outputs": [
    {
     "name": "stdout",
     "output_type": "stream",
     "text": [
      "0\n",
      "1\n",
      "2\n",
      "3\n",
      "4\n",
      "5\n",
      "6\n",
      "7\n",
      "8\n",
      "9\n"
     ]
    }
   ],
   "source": [
    "x=0\n",
    "while x < 10:\n",
    "    print (x)\n",
    "    x=x+1"
   ]
  },
  {
   "cell_type": "code",
   "execution_count": 12,
   "id": "adjacent-message",
   "metadata": {},
   "outputs": [
    {
     "name": "stdout",
     "output_type": "stream",
     "text": [
      "True\n"
     ]
    }
   ],
   "source": [
    "print (1 < 2)"
   ]
  },
  {
   "cell_type": "code",
   "execution_count": 13,
   "id": "toxic-portable",
   "metadata": {},
   "outputs": [
    {
     "name": "stdout",
     "output_type": "stream",
     "text": [
      "False\n"
     ]
    }
   ],
   "source": [
    "print (1 > 2)"
   ]
  },
  {
   "cell_type": "code",
   "execution_count": 14,
   "id": "statutory-ukraine",
   "metadata": {},
   "outputs": [
    {
     "name": "stdout",
     "output_type": "stream",
     "text": [
      "False\n"
     ]
    }
   ],
   "source": [
    "print (1 == 2)"
   ]
  },
  {
   "cell_type": "code",
   "execution_count": 15,
   "id": "neutral-understanding",
   "metadata": {},
   "outputs": [
    {
     "name": "stdout",
     "output_type": "stream",
     "text": [
      "True\n"
     ]
    }
   ],
   "source": [
    "print (1 != 2)"
   ]
  },
  {
   "cell_type": "code",
   "execution_count": null,
   "id": "literary-router",
   "metadata": {},
   "outputs": [],
   "source": []
  }
 ],
 "metadata": {
  "kernelspec": {
   "display_name": "Python 3",
   "language": "python",
   "name": "python3"
  },
  "language_info": {
   "codemirror_mode": {
    "name": "ipython",
    "version": 3
   },
   "file_extension": ".py",
   "mimetype": "text/x-python",
   "name": "python",
   "nbconvert_exporter": "python",
   "pygments_lexer": "ipython3",
   "version": "3.9.2"
  }
 },
 "nbformat": 4,
 "nbformat_minor": 5
}
