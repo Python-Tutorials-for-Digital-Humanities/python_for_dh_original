{
 "cells": [
  {
   "cell_type": "markdown",
   "id": "descending-rating",
   "metadata": {},
   "source": [
    "# <center>Libraries in Python</center>"
   ]
  },
  {
   "cell_type": "markdown",
   "id": "thorough-threshold",
   "metadata": {},
   "source": [
    "<center>Dr. W.J.B. Mattingly</center>\n",
    "\n",
    "<center>Smithsonian Data Science Lab and United States Holocaust Memorial Museum</center>\n",
    "\n",
    "<center>January 2022</center>"
   ]
  },
  {
   "cell_type": "markdown",
   "id": "elementary-shark",
   "metadata": {},
   "source": [
    "## Covered in this Chapter"
   ]
  },
  {
   "cell_type": "markdown",
   "id": "governmental-intermediate",
   "metadata": {},
   "source": [
    "1) External Libraries<br>\n",
    "2) How to Install Libraries<br>\n",
    "3) How to Import Libraries<br>"
   ]
  },
  {
   "cell_type": "markdown",
   "id": "angry-interface",
   "metadata": {},
   "source": [
    "## Introduction"
   ]
  },
  {
   "cell_type": "markdown",
   "id": "valuable-gnome",
   "metadata": {},
   "source": [
    "Libraries are common across all programming languages. They allow you to import large amounts of code that contain functions and classes that you can leverage in your own code. A good way to think about a library is as the old expression: \"don't reinvent the wheel\". Use what others have done! Open-source is open for a reason! People who make these libraries do it so that you don't have to solve certain problems. They've done it for you.\n",
    "\n",
    "In this chapter, we will learn how to install and import libraries. The reason we are doing this now is because the remainder of this textbook will require external libraries, specifically pandas, requests, and BeautifulSoup."
   ]
  },
  {
   "cell_type": "markdown",
   "id": "95abcf5c-29c8-4dd8-a75a-802ef80811dc",
   "metadata": {},
   "source": [
    "## How to Install Python Libraries"
   ]
  },
  {
   "cell_type": "markdown",
   "id": "074fc18a-b7c5-440d-a411-46b2956a09a8",
   "metadata": {},
   "source": [
    "Python comes preinstalled with pip. <b>Pip</b> is a package manager. It downloads, installs, and manages different versions of software on your machine. If you are coming to this textbook from windows, this concept might be a bit foreign. Think of pip something that will manage all your libraries for you. If you have installed Python via Anaconda, as I recommended, then pip will be automatically put into your system's Path. <b>Path</b> on Windows is a way that your computer can understand commands for exe files that you have on your system. If you open the terminal and you type \"pip --version\". On Windows, the terminal is command prompt.\n",
    "\n",
    "Because I am using JupyterNotebook for this textbook, I can make terminal commands with the \"!\" before a block of code. When you type \"pip --version\", you should see something like the following output."
   ]
  },
  {
   "cell_type": "code",
   "execution_count": 2,
   "id": "8797848d-0cb9-4945-ac2f-7b465e8d0f55",
   "metadata": {},
   "outputs": [
    {
     "name": "stdout",
     "output_type": "stream",
     "text": [
      "pip 21.2.4 from /home/wjbmattingly/anaconda3/lib/python3.9/site-packages/pip (python 3.9)\n"
     ]
    }
   ],
   "source": [
    "!pip --version"
   ]
  },
  {
   "cell_type": "markdown",
   "id": "11f91fb7-4b14-441c-b8f1-e7377aba39cd",
   "metadata": {},
   "source": [
    "If pip is working, then it means we can install the libraries that we will need for the remainder of the textbook. We will require three libraries:\n",
    "\n",
    "- Pandas\n",
    "- requests\n",
    "- BeautifulSoup\n",
    "\n",
    "To install a library, you use the pip command \"pip install library_name\", like so:"
   ]
  },
  {
   "cell_type": "markdown",
   "id": "3eae7db2-5df7-4caa-8db6-9312b15f7478",
   "metadata": {},
   "source": [
    "!pip install pandas"
   ]
  },
  {
   "cell_type": "markdown",
   "id": "accompanied-status",
   "metadata": {},
   "source": [
    "You should see an output similar to this. If you do, then pandas has installed correctly. Let's now do the same thing for requests and BeautifulSoup."
   ]
  },
  {
   "cell_type": "code",
   "execution_count": 5,
   "id": "authorized-tender",
   "metadata": {},
   "outputs": [
    {
     "name": "stdout",
     "output_type": "stream",
     "text": [
      "Requirement already satisfied: requests in /home/wjbmattingly/anaconda3/lib/python3.9/site-packages (2.27.1)\n",
      "Requirement already satisfied: idna<4,>=2.5 in /home/wjbmattingly/anaconda3/lib/python3.9/site-packages (from requests) (3.3)\n",
      "Requirement already satisfied: urllib3<1.27,>=1.21.1 in /home/wjbmattingly/anaconda3/lib/python3.9/site-packages (from requests) (1.26.8)\n",
      "Requirement already satisfied: charset-normalizer~=2.0.0 in /home/wjbmattingly/anaconda3/lib/python3.9/site-packages (from requests) (2.0.4)\n",
      "Requirement already satisfied: certifi>=2017.4.17 in /home/wjbmattingly/anaconda3/lib/python3.9/site-packages (from requests) (2021.10.8)\n"
     ]
    }
   ],
   "source": [
    "!pip install requests"
   ]
  },
  {
   "cell_type": "markdown",
   "id": "13a7adeb-8033-4f7a-b019-eeb3ba30a4b7",
   "metadata": {},
   "source": [
    "If you have already installed a library, the output will look something like this above.\n",
    "\n",
    "For BeautifulSoup, we need to say pip install beautifulsoup4 (I will explain why later in this textbook.)"
   ]
  },
  {
   "cell_type": "code",
   "execution_count": 6,
   "id": "fd0e6b88-4b0d-4278-9821-dc2a27dc43ee",
   "metadata": {},
   "outputs": [
    {
     "name": "stdout",
     "output_type": "stream",
     "text": [
      "Collecting beautifulsoup4\n",
      "  Downloading beautifulsoup4-4.10.0-py3-none-any.whl (97 kB)\n",
      "\u001b[K     |████████████████████████████████| 97 kB 2.5 MB/s eta 0:00:011\n",
      "\u001b[?25hCollecting soupsieve>1.2\n",
      "  Downloading soupsieve-2.3.1-py3-none-any.whl (37 kB)\n",
      "Installing collected packages: soupsieve, beautifulsoup4\n",
      "Successfully installed beautifulsoup4-4.10.0 soupsieve-2.3.1\n"
     ]
    }
   ],
   "source": [
    "!pip install beautifulsoup4"
   ]
  },
  {
   "cell_type": "markdown",
   "id": "czech-hygiene",
   "metadata": {},
   "source": [
    "And that's it! You have installed 3 new Python libraries! We need to learn one last thing, though, before we conclude this chapter. We need to learn how to import libraries within a Python script."
   ]
  },
  {
   "cell_type": "markdown",
   "id": "80e6e310-e410-406c-8e23-3d33da10fc81",
   "metadata": {},
   "source": [
    "## How to Import a Library"
   ]
  },
  {
   "cell_type": "markdown",
   "id": "fea2e679-05cb-41d6-a628-f36fe7fa3398",
   "metadata": {},
   "source": [
    "To import a library, we use the command import library_name, like so:"
   ]
  },
  {
   "cell_type": "code",
   "execution_count": 8,
   "id": "1ea99fa2-0c89-478f-a512-d309f04f1d8e",
   "metadata": {},
   "outputs": [],
   "source": [
    "import requests"
   ]
  },
  {
   "cell_type": "markdown",
   "id": "85f931bf-2877-437e-9890-bf4c35bd0cb0",
   "metadata": {},
   "source": [
    "Sometimes, when we work with libraries, there is a certain Pythonic way to import the library. A classic case is pandas. With pandas, we import it \"as pd\". The \"as pd\" means that the name in the script will not be \"pandas\", rather \"pd\"."
   ]
  },
  {
   "cell_type": "code",
   "execution_count": 7,
   "id": "republican-flood",
   "metadata": {},
   "outputs": [],
   "source": [
    "import pandas as pd"
   ]
  },
  {
   "cell_type": "markdown",
   "id": "stone-participation",
   "metadata": {},
   "source": [
    "## Conclusion"
   ]
  },
  {
   "cell_type": "markdown",
   "id": "c5b0bac8-96b4-40fb-9fcb-d19f116f12af",
   "metadata": {},
   "source": [
    "That's all we need to cover in this chapter about libraries. You should feel a bit more comfortable about what libraries are, why they are useful, how to install them, and how to import them. As we continue through the final parts of this textbook, you will become more comfortable with libraries."
   ]
  }
 ],
 "metadata": {
  "kernelspec": {
   "display_name": "Python 3 (ipykernel)",
   "language": "python",
   "name": "python3"
  },
  "language_info": {
   "codemirror_mode": {
    "name": "ipython",
    "version": 3
   },
   "file_extension": ".py",
   "mimetype": "text/x-python",
   "name": "python",
   "nbconvert_exporter": "python",
   "pygments_lexer": "ipython3",
   "version": "3.9.7"
  }
 },
 "nbformat": 4,
 "nbformat_minor": 5
}
