{
 "cells": [
  {
   "cell_type": "code",
   "execution_count": 1,
   "id": "complex-engineer",
   "metadata": {},
   "outputs": [],
   "source": [
    "#Strings - any kind of text\n",
    "str1 = \"This is a string.\""
   ]
  },
  {
   "cell_type": "code",
   "execution_count": 2,
   "id": "duplicate-duncan",
   "metadata": {},
   "outputs": [
    {
     "name": "stdout",
     "output_type": "stream",
     "text": [
      "This is a string.\n"
     ]
    }
   ],
   "source": [
    "print (str1)"
   ]
  },
  {
   "cell_type": "code",
   "execution_count": 3,
   "id": "corporate-noise",
   "metadata": {},
   "outputs": [],
   "source": [
    "str2 = 'This is a string too.'"
   ]
  },
  {
   "cell_type": "code",
   "execution_count": 4,
   "id": "atomic-cornell",
   "metadata": {},
   "outputs": [
    {
     "name": "stdout",
     "output_type": "stream",
     "text": [
      "This is a string too.\n"
     ]
    }
   ],
   "source": [
    "print (str2)"
   ]
  },
  {
   "cell_type": "code",
   "execution_count": 11,
   "id": "white-theta",
   "metadata": {},
   "outputs": [
    {
     "ename": "SyntaxError",
     "evalue": "invalid syntax (<ipython-input-11-34cf070f294b>, line 1)",
     "output_type": "error",
     "traceback": [
      "\u001b[1;36m  File \u001b[1;32m\"<ipython-input-11-34cf070f294b>\"\u001b[1;36m, line \u001b[1;32m1\u001b[0m\n\u001b[1;33m    str3 = \"This is a \"bad\" example of a string\"\u001b[0m\n\u001b[1;37m                       ^\u001b[0m\n\u001b[1;31mSyntaxError\u001b[0m\u001b[1;31m:\u001b[0m invalid syntax\n"
     ]
    }
   ],
   "source": [
    "str3 = \"This is a \"bad\" example of a string\""
   ]
  },
  {
   "cell_type": "code",
   "execution_count": 10,
   "id": "terminal-settle",
   "metadata": {},
   "outputs": [
    {
     "name": "stdout",
     "output_type": "stream",
     "text": [
      "This is a \"bad\" example of a string\n"
     ]
    }
   ],
   "source": [
    "print (str3)"
   ]
  },
  {
   "cell_type": "code",
   "execution_count": 12,
   "id": "specific-fruit",
   "metadata": {},
   "outputs": [],
   "source": [
    "str4 = '''\n",
    "This is a verrry long string.\n",
    "\n",
    "'''"
   ]
  },
  {
   "cell_type": "code",
   "execution_count": 13,
   "id": "orange-grave",
   "metadata": {},
   "outputs": [
    {
     "name": "stdout",
     "output_type": "stream",
     "text": [
      "\n",
      "This is a verrry long string.\n",
      "\n",
      "\n"
     ]
    }
   ],
   "source": [
    "print (str4)"
   ]
  },
  {
   "cell_type": "code",
   "execution_count": 14,
   "id": "excellent-disposal",
   "metadata": {},
   "outputs": [],
   "source": [
    "#Numbers\n",
    "#Integers 1, 2, 3\n",
    "#Floats => Decimals .01 1.02"
   ]
  },
  {
   "cell_type": "code",
   "execution_count": 15,
   "id": "lonely-airport",
   "metadata": {},
   "outputs": [],
   "source": [
    "int1 = 1"
   ]
  },
  {
   "cell_type": "code",
   "execution_count": 16,
   "id": "stainless-formation",
   "metadata": {},
   "outputs": [
    {
     "name": "stdout",
     "output_type": "stream",
     "text": [
      "1\n"
     ]
    }
   ],
   "source": [
    "print (int1)"
   ]
  },
  {
   "cell_type": "code",
   "execution_count": 17,
   "id": "adult-scale",
   "metadata": {},
   "outputs": [],
   "source": [
    "float1 = 1.1"
   ]
  },
  {
   "cell_type": "code",
   "execution_count": 18,
   "id": "hispanic-evans",
   "metadata": {},
   "outputs": [
    {
     "name": "stdout",
     "output_type": "stream",
     "text": [
      "1.1\n"
     ]
    }
   ],
   "source": [
    "print (float1)"
   ]
  },
  {
   "cell_type": "code",
   "execution_count": 19,
   "id": "casual-expert",
   "metadata": {},
   "outputs": [],
   "source": [
    "#Boolean => True or False\n",
    "bool1 = True"
   ]
  },
  {
   "cell_type": "code",
   "execution_count": 20,
   "id": "visible-market",
   "metadata": {},
   "outputs": [
    {
     "name": "stdout",
     "output_type": "stream",
     "text": [
      "True\n"
     ]
    }
   ],
   "source": [
    "print (bool1)"
   ]
  },
  {
   "cell_type": "code",
   "execution_count": 22,
   "id": "intensive-design",
   "metadata": {},
   "outputs": [],
   "source": [
    "bool2 = True"
   ]
  },
  {
   "cell_type": "code",
   "execution_count": 23,
   "id": "employed-punch",
   "metadata": {},
   "outputs": [],
   "source": [
    "bool3 = False"
   ]
  },
  {
   "cell_type": "code",
   "execution_count": 24,
   "id": "small-providence",
   "metadata": {},
   "outputs": [
    {
     "name": "stdout",
     "output_type": "stream",
     "text": [
      "False\n"
     ]
    }
   ],
   "source": [
    "print (bool3)"
   ]
  },
  {
   "cell_type": "code",
   "execution_count": 26,
   "id": "handled-merchant",
   "metadata": {},
   "outputs": [],
   "source": [
    "bool4 = False"
   ]
  },
  {
   "cell_type": "code",
   "execution_count": 27,
   "id": "comic-overhead",
   "metadata": {},
   "outputs": [],
   "source": [
    "str6 = \"This is a new string.\""
   ]
  },
  {
   "cell_type": "code",
   "execution_count": 28,
   "id": "nutritional-federation",
   "metadata": {},
   "outputs": [
    {
     "name": "stdout",
     "output_type": "stream",
     "text": [
      "THIS IS A NEW STRING.\n"
     ]
    }
   ],
   "source": [
    "print (str6.upper())"
   ]
  },
  {
   "cell_type": "code",
   "execution_count": 29,
   "id": "outer-survey",
   "metadata": {},
   "outputs": [
    {
     "name": "stdout",
     "output_type": "stream",
     "text": [
      "this is a new string.\n"
     ]
    }
   ],
   "source": [
    "print (str6.lower())"
   ]
  },
  {
   "cell_type": "code",
   "execution_count": 30,
   "id": "informational-ladder",
   "metadata": {},
   "outputs": [],
   "source": [
    "str7 = \"william\""
   ]
  },
  {
   "cell_type": "code",
   "execution_count": 31,
   "id": "looking-antarctica",
   "metadata": {},
   "outputs": [
    {
     "name": "stdout",
     "output_type": "stream",
     "text": [
      "William\n"
     ]
    }
   ],
   "source": [
    "print (str7.capitalize())"
   ]
  },
  {
   "cell_type": "code",
   "execution_count": 32,
   "id": "loving-functionality",
   "metadata": {},
   "outputs": [],
   "source": [
    "str8 = \"My name is William Mattingly.\""
   ]
  },
  {
   "cell_type": "code",
   "execution_count": 35,
   "id": "dense-fruit",
   "metadata": {},
   "outputs": [
    {
     "name": "stdout",
     "output_type": "stream",
     "text": [
      "My name is William Mattingly\n"
     ]
    }
   ],
   "source": [
    "print (str8.replace(\".\", \"\"))"
   ]
  },
  {
   "cell_type": "code",
   "execution_count": 37,
   "id": "minimal-scheduling",
   "metadata": {},
   "outputs": [
    {
     "name": "stdout",
     "output_type": "stream",
     "text": [
      "My name is William Mattingly.\n"
     ]
    }
   ],
   "source": [
    "print (str8)"
   ]
  },
  {
   "cell_type": "code",
   "execution_count": 38,
   "id": "adapted-palestinian",
   "metadata": {},
   "outputs": [],
   "source": [
    "str9 = str8.replace(\".\", \"\")"
   ]
  },
  {
   "cell_type": "code",
   "execution_count": 39,
   "id": "adopted-trick",
   "metadata": {},
   "outputs": [
    {
     "name": "stdout",
     "output_type": "stream",
     "text": [
      "My name is William Mattingly\n"
     ]
    }
   ],
   "source": [
    "print (str9)"
   ]
  },
  {
   "cell_type": "code",
   "execution_count": 40,
   "id": "lightweight-whole",
   "metadata": {},
   "outputs": [],
   "source": [
    "str10 = str9.replace(\"My name is\", \"\")"
   ]
  },
  {
   "cell_type": "code",
   "execution_count": 42,
   "id": "built-acting",
   "metadata": {},
   "outputs": [
    {
     "name": "stdout",
     "output_type": "stream",
     "text": [
      "William Mattingly\n"
     ]
    }
   ],
   "source": [
    "print (str10.strip())"
   ]
  },
  {
   "cell_type": "code",
   "execution_count": 43,
   "id": "normal-extent",
   "metadata": {},
   "outputs": [
    {
     "name": "stdout",
     "output_type": "stream",
     "text": [
      "My name is William Mattingly\n"
     ]
    }
   ],
   "source": [
    "print (str9)"
   ]
  },
  {
   "cell_type": "code",
   "execution_count": 44,
   "id": "given-hazard",
   "metadata": {},
   "outputs": [
    {
     "name": "stdout",
     "output_type": "stream",
     "text": [
      "['My', 'name', 'is', 'William', 'Mattingly']\n"
     ]
    }
   ],
   "source": [
    "print (str9.split())"
   ]
  },
  {
   "cell_type": "code",
   "execution_count": 46,
   "id": "declared-motivation",
   "metadata": {},
   "outputs": [
    {
     "name": "stdout",
     "output_type": "stream",
     "text": [
      "William Mattingly\n"
     ]
    }
   ],
   "source": [
    "print (str9.split(\"My name is \")[1])"
   ]
  },
  {
   "cell_type": "code",
   "execution_count": 47,
   "id": "comparable-entrance",
   "metadata": {},
   "outputs": [],
   "source": [
    "#Pythonic => the standard way to do something in Python"
   ]
  },
  {
   "cell_type": "code",
   "execution_count": 48,
   "id": "structured-editor",
   "metadata": {},
   "outputs": [],
   "source": [
    "num1 = 1\n",
    "num2 = 2"
   ]
  },
  {
   "cell_type": "code",
   "execution_count": 49,
   "id": "found-expansion",
   "metadata": {},
   "outputs": [
    {
     "name": "stdout",
     "output_type": "stream",
     "text": [
      "3\n"
     ]
    }
   ],
   "source": [
    "print (num1+num2)"
   ]
  },
  {
   "cell_type": "code",
   "execution_count": 50,
   "id": "collective-spare",
   "metadata": {},
   "outputs": [
    {
     "name": "stdout",
     "output_type": "stream",
     "text": [
      "-1\n"
     ]
    }
   ],
   "source": [
    "print (num1-num2)"
   ]
  },
  {
   "cell_type": "code",
   "execution_count": 51,
   "id": "toxic-harvard",
   "metadata": {},
   "outputs": [
    {
     "name": "stdout",
     "output_type": "stream",
     "text": [
      "2\n"
     ]
    }
   ],
   "source": [
    "print (num1*num2)"
   ]
  },
  {
   "cell_type": "code",
   "execution_count": 52,
   "id": "convinced-arizona",
   "metadata": {},
   "outputs": [
    {
     "name": "stdout",
     "output_type": "stream",
     "text": [
      "0.5\n"
     ]
    }
   ],
   "source": [
    "print (num1/num2)"
   ]
  },
  {
   "cell_type": "code",
   "execution_count": 53,
   "id": "radical-housing",
   "metadata": {},
   "outputs": [
    {
     "name": "stdout",
     "output_type": "stream",
     "text": [
      "800\n"
     ]
    }
   ],
   "source": [
    "print (100*8)"
   ]
  },
  {
   "cell_type": "code",
   "execution_count": 54,
   "id": "incorporated-clinic",
   "metadata": {},
   "outputs": [
    {
     "name": "stdout",
     "output_type": "stream",
     "text": [
      "0.5\n"
     ]
    }
   ],
   "source": [
    "print (num1/num2)"
   ]
  },
  {
   "cell_type": "code",
   "execution_count": 55,
   "id": "declared-operations",
   "metadata": {},
   "outputs": [
    {
     "name": "stdout",
     "output_type": "stream",
     "text": [
      "0\n"
     ]
    }
   ],
   "source": [
    "print (num1//num2)"
   ]
  },
  {
   "cell_type": "code",
   "execution_count": 56,
   "id": "conscious-cleanup",
   "metadata": {},
   "outputs": [
    {
     "name": "stdout",
     "output_type": "stream",
     "text": [
      "2.5\n"
     ]
    }
   ],
   "source": [
    "print (5/2)"
   ]
  },
  {
   "cell_type": "code",
   "execution_count": 57,
   "id": "third-complement",
   "metadata": {},
   "outputs": [
    {
     "name": "stdout",
     "output_type": "stream",
     "text": [
      "2\n"
     ]
    }
   ],
   "source": [
    "print (5//2)"
   ]
  },
  {
   "cell_type": "code",
   "execution_count": null,
   "id": "regulated-gibraltar",
   "metadata": {},
   "outputs": [],
   "source": [
    "#< > =< =>  =="
   ]
  }
 ],
 "metadata": {
  "kernelspec": {
   "display_name": "Python 3",
   "language": "python",
   "name": "python3"
  },
  "language_info": {
   "codemirror_mode": {
    "name": "ipython",
    "version": 3
   },
   "file_extension": ".py",
   "mimetype": "text/x-python",
   "name": "python",
   "nbconvert_exporter": "python",
   "pygments_lexer": "ipython3",
   "version": "3.9.2"
  }
 },
 "nbformat": 4,
 "nbformat_minor": 5
}
