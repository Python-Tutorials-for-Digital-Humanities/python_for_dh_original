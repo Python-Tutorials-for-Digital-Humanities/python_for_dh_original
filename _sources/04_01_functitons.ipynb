{
 "cells": [
  {
   "cell_type": "markdown",
   "id": "honey-balloon",
   "metadata": {},
   "source": [
    "# <center>Functions</center>"
   ]
  },
  {
   "cell_type": "markdown",
   "id": "boolean-duplicate",
   "metadata": {},
   "source": [
    "<center>Dr. W.J.B. Mattingly</center>\n",
    "\n",
    "<center>Smithsonian Data Science Lab and United States Holocaust Memorial Museum</center>\n",
    "\n",
    "<center>January 2022</center>"
   ]
  },
  {
   "cell_type": "markdown",
   "id": "fifteen-porcelain",
   "metadata": {},
   "source": [
    "## Covered in this Chapter"
   ]
  },
  {
   "cell_type": "markdown",
   "id": "accepted-livestock",
   "metadata": {},
   "source": [
    "1) <br>\n",
    "2) <br>\n",
    "3) <br>"
   ]
  },
  {
   "cell_type": "markdown",
   "id": "quarterly-suite",
   "metadata": {},
   "source": [
    "## Introduction"
   ]
  },
  {
   "cell_type": "markdown",
   "id": "precise-apple",
   "metadata": {},
   "source": [
    "In this chapter, you will learn all about functions. You have already been exposed to several functions in this textbook, such as the print() function. My goal in this chapter is to teach you how to create your own functions.\n",
    "\n",
    "<b>Functions</b> exist in all programming languages. They allow you to write a set of code that can be used later in your program. They are essential because they allow you to not rewrite the same block of text over and over again. Good code is code that does not repeat. In other words, if your program has a task that it needs to do repetitively, then you should develop that code into a cleaned function.\n",
    "\n",
    "A function, as we will see has four parts:\n",
    "1. the name of the function\n",
    "2. the arguments passed to the function\n",
    "3. the code\n",
    "4. the returned piece of data (optional)"
   ]
  },
  {
   "cell_type": "markdown",
   "id": "activated-introduction",
   "metadata": {},
   "source": [
    "## Functions in Action"
   ]
  },
  {
   "cell_type": "markdown",
   "id": "measured-fundamentals",
   "metadata": {},
   "source": [
    "I think the best way to learn about functions is to see them in action before breaking down what is happening. Let's take a look at the code below."
   ]
  },
  {
   "cell_type": "code",
   "execution_count": 1,
   "id": "stupid-malawi",
   "metadata": {},
   "outputs": [],
   "source": [
    "def my_function(number):\n",
    "    x = number+1\n",
    "    return x"
   ]
  },
  {
   "cell_type": "markdown",
   "id": "novel-charity",
   "metadata": {},
   "source": [
    "In the above cell, I have told Python that I am creating a function by using the command \"def\". This is followed by the name of the function, \"my_function\". After this we see open and a close parentheses, between which sit the word \"number\". This is the argument that the function expects to take. This is then followed with our \":\", which, if you remember from the previous two chapters, means that the next block of text must be indented. Whatever is indented will belong to the function.\n",
    "\n",
    "The code of the function is \"x = number+1\". Before moving on, pause for a moment and think about what this function might do. Once you have an idea, proceed reading to the next paragraph.\n",
    "\n",
    "The final portion of the cell is \"return x\". This is the bit of code. This will return for the user the x object that we created temporarily in the function.\n",
    "\n",
    "Let's now call this function in the cell bellow to see how it works."
   ]
  },
  {
   "cell_type": "code",
   "execution_count": 3,
   "id": "breathing-relief",
   "metadata": {},
   "outputs": [],
   "source": [
    "result = my_function(1)"
   ]
  },
  {
   "cell_type": "markdown",
   "id": "brown-warren",
   "metadata": {},
   "source": [
    "In the code above, we have created a new object, \"result\". This will be the result of our function. Like all objects, it can be named whatever you like, save for the forbidden object names in Python.\n",
    "\n",
    "We then call the function, \"my_function\" and pass a single argument to it, an integer. In this case, 1.\n",
    "\n",
    "I am not going to print off \"result\" here in the textbook, rather I will print it off at the very bottom of this page. But please do not look down there just yet. Instead, I want you to take a moment and try and guess what result will be. Go ahead and try and recreate this code in your own notebook, or, if you are using this textbook with the built-in Binder environment, create a new cell below and print off \"result\".\n",
    "\n",
    "Did you guess correctly? If so, great. If not, that's okay. Why do you think your answer was wrong? Do you understand why? These are some of the core questions you should be asking yourself at this moment.\n",
    "\n",
    "Let's break down the function now from a logical point of view. The key piece of code is \"x = number+1\". This code tells Python to create a new object called \"x\". This will be equal to whatever the input argument, \"number\", is plus 1. If we give the function the number 1, then our output will be 2. Likewise, if we do this with 3, we will get 4. But what would happen if we tried to pass the string \"one\"?"
   ]
  },
  {
   "cell_type": "code",
   "execution_count": 5,
   "id": "optical-squad",
   "metadata": {},
   "outputs": [
    {
     "ename": "TypeError",
     "evalue": "can only concatenate str (not \"int\") to str",
     "output_type": "error",
     "traceback": [
      "\u001b[1;31m---------------------------------------------------------------------------\u001b[0m",
      "\u001b[1;31mTypeError\u001b[0m                                 Traceback (most recent call last)",
      "\u001b[1;32m<ipython-input-5-727ec5ed3632>\u001b[0m in \u001b[0;36m<module>\u001b[1;34m\u001b[0m\n\u001b[1;32m----> 1\u001b[1;33m \u001b[0mbad_result\u001b[0m \u001b[1;33m=\u001b[0m \u001b[0mmy_function\u001b[0m\u001b[1;33m(\u001b[0m\u001b[1;34m\"one\"\u001b[0m\u001b[1;33m)\u001b[0m\u001b[1;33m\u001b[0m\u001b[1;33m\u001b[0m\u001b[0m\n\u001b[0m",
      "\u001b[1;32m<ipython-input-1-52cfa1c566a4>\u001b[0m in \u001b[0;36mmy_function\u001b[1;34m(number)\u001b[0m\n\u001b[0;32m      1\u001b[0m \u001b[1;32mdef\u001b[0m \u001b[0mmy_function\u001b[0m\u001b[1;33m(\u001b[0m\u001b[0mnumber\u001b[0m\u001b[1;33m)\u001b[0m\u001b[1;33m:\u001b[0m\u001b[1;33m\u001b[0m\u001b[1;33m\u001b[0m\u001b[0m\n\u001b[1;32m----> 2\u001b[1;33m     \u001b[0mx\u001b[0m \u001b[1;33m=\u001b[0m \u001b[0mnumber\u001b[0m\u001b[1;33m+\u001b[0m\u001b[1;36m1\u001b[0m\u001b[1;33m\u001b[0m\u001b[1;33m\u001b[0m\u001b[0m\n\u001b[0m\u001b[0;32m      3\u001b[0m     \u001b[1;32mreturn\u001b[0m \u001b[1;33m(\u001b[0m\u001b[0mx\u001b[0m\u001b[1;33m)\u001b[0m\u001b[1;33m\u001b[0m\u001b[1;33m\u001b[0m\u001b[0m\n",
      "\u001b[1;31mTypeError\u001b[0m: can only concatenate str (not \"int\") to str"
     ]
    }
   ],
   "source": [
    "bad_result = my_function(\"one\")"
   ]
  },
  {
   "cell_type": "markdown",
   "id": "derived-primary",
   "metadata": {},
   "source": [
    "We receive an error. This error message allows us to debug the problem. It is a TypeError, meaning we tried to use the wrong object type. We know that the error occurs in line 2 of our cell, \"x = number+1\". Why do you think we received this error?\n",
    "\n",
    "If you said because \"one\" is a string and you cannot add a string by the integer 1, then you would be right. If we were writing this program for ourselves, we would know this and never try to pass a string to the function, but what if someone else is trying to use our code and does not know precisely what it is supposed to do? In Python, we can pass in some key information to help our users."
   ]
  },
  {
   "cell_type": "markdown",
   "id": "floral-screening",
   "metadata": {},
   "source": []
  },
  {
   "cell_type": "code",
   "execution_count": null,
   "id": "eight-behalf",
   "metadata": {},
   "outputs": [],
   "source": []
  },
  {
   "cell_type": "markdown",
   "id": "floral-trading",
   "metadata": {},
   "source": []
  },
  {
   "cell_type": "code",
   "execution_count": null,
   "id": "technological-bedroom",
   "metadata": {},
   "outputs": [],
   "source": []
  },
  {
   "cell_type": "markdown",
   "id": "round-momentum",
   "metadata": {},
   "source": [
    "## Answer for Result"
   ]
  },
  {
   "cell_type": "code",
   "execution_count": 4,
   "id": "junior-sewing",
   "metadata": {},
   "outputs": [
    {
     "name": "stdout",
     "output_type": "stream",
     "text": [
      "2\n"
     ]
    }
   ],
   "source": [
    "print (result)"
   ]
  },
  {
   "cell_type": "code",
   "execution_count": null,
   "id": "fleet-gauge",
   "metadata": {},
   "outputs": [],
   "source": []
  }
 ],
 "metadata": {
  "kernelspec": {
   "display_name": "Python 3",
   "language": "python",
   "name": "python3"
  },
  "language_info": {
   "codemirror_mode": {
    "name": "ipython",
    "version": 3
   },
   "file_extension": ".py",
   "mimetype": "text/x-python",
   "name": "python",
   "nbconvert_exporter": "python",
   "pygments_lexer": "ipython3",
   "version": "3.9.2"
  }
 },
 "nbformat": 4,
 "nbformat_minor": 5
}
