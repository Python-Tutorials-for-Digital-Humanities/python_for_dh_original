{
 "cells": [
  {
   "cell_type": "markdown",
   "id": "dominant-celebration",
   "metadata": {},
   "source": [
    "# <center>Extracting Tabular Data from HTML</center>"
   ]
  },
  {
   "cell_type": "markdown",
   "id": "muslim-citation",
   "metadata": {},
   "source": [
    "<center>Dr. W.J.B. Mattingly</center>\n",
    "\n",
    "<center>Smithsonian Data Science Lab and United States Holocaust Memorial Museum</center>\n",
    "\n",
    "<center>March 2022</center>"
   ]
  },
  {
   "cell_type": "markdown",
   "id": "subject-france",
   "metadata": {},
   "source": [
    "## Covered in this Chapter"
   ]
  },
  {
   "cell_type": "markdown",
   "id": "obvious-bones",
   "metadata": {},
   "source": [
    "1) Table Tags<br>\n",
    "2) TR Tags<br>\n",
    "3) TH and TD Tags<br>\n",
    "4) How to parse an HTML Table<br>"
   ]
  },
  {
   "cell_type": "markdown",
   "id": "addressed-giant",
   "metadata": {},
   "source": [
    "## Introduction"
   ]
  },
  {
   "cell_type": "markdown",
   "id": "dependent-greeting",
   "metadata": {},
   "source": [
    "In this chapter, we will put our skills to work! We will learn how to extract tabular data via requests and BeautifulSoup. We will work with a lot of the commands and methods we saw in the last chapter, but we will not be trying to extract p tags, rather tabular data from the same Wikipedia page. All of this will allow you to apply your skills to the final challenge of this textbook (introduced in the next chapter).\n",
    "\n",
    "First, let's import the same libraries as in the last chapter, requests and BeautifulSoup."
   ]
  },
  {
   "cell_type": "code",
   "execution_count": 1,
   "id": "regional-place",
   "metadata": {},
   "outputs": [],
   "source": [
    "import requests\n",
    "from bs4 import BeautifulSoup"
   ]
  },
  {
   "cell_type": "markdown",
   "id": "296a6fc8-5129-4431-8c42-23951eb9625b",
   "metadata": {},
   "source": [
    "Let's also go ahead and make the same string object, the url of the page we want to scrape."
   ]
  },
  {
   "cell_type": "code",
   "execution_count": 2,
   "id": "1aecbb1f-11c1-410b-8d00-d58857e9fb8a",
   "metadata": {},
   "outputs": [],
   "source": [
    "url = \"https://en.wikipedia.org/wiki/List_of_French_monarchs\""
   ]
  },
  {
   "cell_type": "markdown",
   "id": "palestinian-movement",
   "metadata": {},
   "source": [
    "Now, let's dive in!"
   ]
  },
  {
   "cell_type": "markdown",
   "id": "previous-physiology",
   "metadata": {},
   "source": [
    "## Finding the Tables on the Page"
   ]
  },
  {
   "cell_type": "markdown",
   "id": "black-frame",
   "metadata": {},
   "source": [
    "In the cell below, we will make the call to the Wikipedia server and convert the HTML content into a soup object as we saw in the last chapter."
   ]
  },
  {
   "cell_type": "code",
   "execution_count": 3,
   "id": "animal-governor",
   "metadata": {},
   "outputs": [],
   "source": [
    "s =  requests.get(url)\n",
    "soup = BeautifulSoup(s.content)"
   ]
  },
  {
   "cell_type": "markdown",
   "id": "7ad32720-4e19-44e3-9ef5-709650a1143e",
   "metadata": {},
   "source": [
    "Now that we have our soup object, we can start to parse it. Tables are often structured in HTML the same way across all sites. The main tag used is the table tag. On Wikipedia, there are multiple kinds of tables. The class we want is a table class called \"wikitable\". Let's go ahead and grab all these tables and print off how many we have on the page."
   ]
  },
  {
   "cell_type": "code",
   "execution_count": 7,
   "id": "140ed345-376b-435a-8c7d-d367e1bf95bc",
   "metadata": {},
   "outputs": [
    {
     "name": "stdout",
     "output_type": "stream",
     "text": [
      "17\n"
     ]
    }
   ],
   "source": [
    "tables = soup.find_all(\"table\", {\"class\": \"wikitable\"})\n",
    "print (len(tables))"
   ]
  },
  {
   "cell_type": "markdown",
   "id": "floral-antique",
   "metadata": {},
   "source": [
    "## Grabbing Rows of a Table"
   ]
  },
  {
   "cell_type": "markdown",
   "id": "hybrid-milwaukee",
   "metadata": {},
   "source": [
    "Excellent! Now that hwe have the tables, let's take a look at the first one's HTML."
   ]
  },
  {
   "cell_type": "code",
   "execution_count": 10,
   "id": "plain-chester",
   "metadata": {},
   "outputs": [
    {
     "name": "stdout",
     "output_type": "stream",
     "text": [
      "<table class=\"wikitable\" width=\"95%\">\n",
      "<tbody><tr>\n",
      "<th width=\"8%\">Portrait\n",
      "</th>\n",
      "<th width=\"20%\">Name\n",
      "</th>\n",
      "<th width=\"7%\">King from\n",
      "</th>\n",
      "<th width=\"7%\">King until\n",
      "</th>\n",
      "<th width=\"20%\">Relationship with predecessor(s)\n",
      "</th>\n",
      "<th width=\"13%\">Title\n",
      "</th></tr>\n",
      "<tr>\n",
      "<td align=\"center\"><a class=\"image\" href=\"/wiki/File:Biblioth%C3%A8que_nationale_de_France_-_Bible_de_Vivien_Ms._Latin_1_folio_423r_d%C3%A9tail_Le_comte_Vivien_offre_le_manuscrit_de_la_Bible_faite_%C3%A0_l%27abbaye_de_Saint-Martin_de_Tours_%C3%A0_Charles_le_Chauve.jpg\"><img alt=\"Bibliothèque nationale de France - Bible de Vivien Ms. Latin 1 folio 423r détail Le comte Vivien offre le manuscrit de la Bible faite à l'abbaye de Saint-Martin de Tours à Charles le Chauve.jpg\" data-file-height=\"2462\" data-file-width=\"2068\" decoding=\"async\" height=\"119\" src=\"//upload.wikimedia.org/wikipedia/commons/thumb/4/40/Biblioth%C3%A8que_nationale_de_France_-_Bible_de_Vivien_Ms._Latin_1_folio_423r_d%C3%A9tail_Le_comte_Vivien_offre_le_manuscrit_de_la_Bible_faite_%C3%A0_l%27abbaye_de_Saint-Martin_de_Tours_%C3%A0_Charles_le_Chauve.jpg/100px-thumbnail.jpg\" srcset=\"//upload.wikimedia.org/wikipedia/commons/thumb/4/40/Biblioth%C3%A8que_nationale_de_France_-_Bible_de_Vivien_Ms._Latin_1_folio_423r_d%C3%A9tail_Le_comte_Vivien_offre_le_manuscrit_de_la_Bible_faite_%C3%A0_l%27abbaye_de_Saint-Martin_de_Tours_%C3%A0_Charles_le_Chauve.jpg/150px-thumbnail.jpg 1.5x, //upload.wikimedia.org/wikipedia/commons/thumb/4/40/Biblioth%C3%A8que_nationale_de_France_-_Bible_de_Vivien_Ms._Latin_1_folio_423r_d%C3%A9tail_Le_comte_Vivien_offre_le_manuscrit_de_la_Bible_faite_%C3%A0_l%27abbaye_de_Saint-Martin_de_Tours_%C3%A0_Charles_le_Chauve.jpg/200px-thumbnail.jpg 2x\" width=\"100\"/></a>\n",
      "</td>\n",
      "<td align=\"center\"><a class=\"mw-redirect\" href=\"/wiki/Charles_II_the_Bald\" title=\"Charles II the Bald\">Charles II the Bald</a>\n",
      "</td>\n",
      "<td align=\"center\"><a href=\"/wiki/Treaty_of_Verdun\" title=\"Treaty of Verdun\">August 843</a><br/><small>(King of the Franks from 20 June 840)</small>\n",
      "</td>\n",
      "<td align=\"center\">6 October 877\n",
      "</td>\n",
      "<td> • Son of <a class=\"mw-redirect\" href=\"/wiki/Louis_I_the_Pious\" title=\"Louis I the Pious\">Louis I the Pious</a>\n",
      "</td>\n",
      "<td align=\"center\"><a class=\"mw-redirect\" href=\"/wiki/King_of_the_Franks\" title=\"King of the Franks\">King of the Franks</a><br/><a href=\"/wiki/Holy_Roman_Emperor\" title=\"Holy Roman Emperor\">Emperor of the Romans</a> (875–77)\n",
      "</td></tr>\n",
      "<tr>\n",
      "<td align=\"center\"><a class=\"image\" href=\"/wiki/File:Amiel_-_Louis_the_Stammerer.jpg\"><img alt=\"Amiel - Louis the Stammerer.jpg\" data-file-height=\"624\" data-file-width=\"504\" decoding=\"async\" height=\"124\" src=\"//upload.wikimedia.org/wikipedia/commons/thumb/c/cc/Amiel_-_Louis_the_Stammerer.jpg/100px-Amiel_-_Louis_the_Stammerer.jpg\" srcset=\"//upload.wikimedia.org/wikipedia/commons/thumb/c/cc/Amiel_-_Louis_the_Stammerer.jpg/150px-Amiel_-_Louis_the_Stammerer.jpg 1.5x, //upload.wikimedia.org/wikipedia/commons/thumb/c/cc/Amiel_-_Louis_the_Stammerer.jpg/200px-Amiel_-_Louis_the_Stammerer.jpg 2x\" width=\"100\"/></a>\n",
      "</td>\n",
      "<td align=\"center\"><a class=\"mw-redirect\" href=\"/wiki/Louis_II_the_Stammerer\" title=\"Louis II the Stammerer\">Louis II the Stammerer</a>\n",
      "</td>\n",
      "<td align=\"center\">6 October 877\n",
      "</td>\n",
      "<td align=\"center\">10 April 879\n",
      "</td>\n",
      "<td> • Son of Charles II the Bald\n",
      "</td>\n",
      "<td align=\"center\"><a class=\"mw-redirect\" href=\"/wiki/King_of_the_Franks\" title=\"King of the Franks\">King of the Franks</a>\n",
      "</td></tr>\n",
      "<tr>\n",
      "<td align=\"center\"><a class=\"image\" href=\"/wiki/File:Louis_III.jpg\"><img alt=\"Louis III.jpg\" data-file-height=\"471\" data-file-width=\"235\" decoding=\"async\" height=\"200\" src=\"//upload.wikimedia.org/wikipedia/commons/thumb/1/1e/Louis_III.jpg/100px-Louis_III.jpg\" srcset=\"//upload.wikimedia.org/wikipedia/commons/thumb/1/1e/Louis_III.jpg/150px-Louis_III.jpg 1.5x, //upload.wikimedia.org/wikipedia/commons/thumb/1/1e/Louis_III.jpg/200px-Louis_III.jpg 2x\" width=\"100\"/></a>\n",
      "</td>\n",
      "<td align=\"center\"><a href=\"/wiki/Louis_III_of_France\" title=\"Louis III of France\">Louis III</a>\n",
      "</td>\n",
      "<td align=\"center\">10 April 879\n",
      "</td>\n",
      "<td align=\"center\">5 August 882\n",
      "</td>\n",
      "<td> • Son of Louis II the Stammerer\n",
      "</td>\n",
      "<td align=\"center\"><a class=\"mw-redirect\" href=\"/wiki/King_of_the_Franks\" title=\"King of the Franks\">King of the Franks</a>\n",
      "</td></tr>\n",
      "<tr>\n",
      "<td align=\"center\"><a class=\"image\" href=\"/wiki/File:Carloman_II.jpg\"><img alt=\"Carloman II.jpg\" data-file-height=\"451\" data-file-width=\"182\" decoding=\"async\" height=\"248\" src=\"//upload.wikimedia.org/wikipedia/commons/thumb/e/e4/Carloman_II.jpg/100px-Carloman_II.jpg\" srcset=\"//upload.wikimedia.org/wikipedia/commons/thumb/e/e4/Carloman_II.jpg/150px-Carloman_II.jpg 1.5x, //upload.wikimedia.org/wikipedia/commons/e/e4/Carloman_II.jpg 2x\" width=\"100\"/></a>\n",
      "</td>\n",
      "<td align=\"center\"><a href=\"/wiki/Carloman_II\" title=\"Carloman II\">Carloman II</a>\n",
      "</td>\n",
      "<td align=\"center\">5 August 882\n",
      "</td>\n",
      "<td align=\"center\">6 December 884\n",
      "</td>\n",
      "<td> • Son of Louis II the Stammerer\n",
      "<p> • Younger brother of Louis III\n",
      "</p>\n",
      "</td>\n",
      "<td align=\"center\"><a class=\"mw-redirect\" href=\"/wiki/King_of_the_Franks\" title=\"King of the Franks\">King of the Franks</a>\n",
      "</td></tr>\n",
      "<tr>\n",
      "<td align=\"center\"><a class=\"image\" href=\"/wiki/File:Amiel_-_Charles_the_Fat.jpg\"><img alt=\"Amiel - Charles the Fat.jpg\" data-file-height=\"620\" data-file-width=\"496\" decoding=\"async\" height=\"125\" src=\"//upload.wikimedia.org/wikipedia/commons/thumb/2/29/Amiel_-_Charles_the_Fat.jpg/100px-Amiel_-_Charles_the_Fat.jpg\" srcset=\"//upload.wikimedia.org/wikipedia/commons/thumb/2/29/Amiel_-_Charles_the_Fat.jpg/150px-Amiel_-_Charles_the_Fat.jpg 1.5x, //upload.wikimedia.org/wikipedia/commons/thumb/2/29/Amiel_-_Charles_the_Fat.jpg/200px-Amiel_-_Charles_the_Fat.jpg 2x\" width=\"100\"/></a>\n",
      "</td>\n",
      "<td align=\"center\"><a href=\"/wiki/Charles_the_Fat\" title=\"Charles the Fat\">Charles the Fat</a>\n",
      "</td>\n",
      "<td align=\"center\">20 May 885\n",
      "</td>\n",
      "<td align=\"center\">13 January 888\n",
      "</td>\n",
      "<td> • Son of <a class=\"mw-redirect\" href=\"/wiki/Louis_II_the_German\" title=\"Louis II the German\">Louis II the German</a><br/> • Cousin once removed of Carloman II and Louis III<br/> • Grandson of Louis I the Pious\n",
      "</td>\n",
      "<td align=\"center\"><a class=\"mw-redirect\" href=\"/wiki/King_of_the_Franks\" title=\"King of the Franks\">King of the Franks</a><br/><a href=\"/wiki/Holy_Roman_Emperor\" title=\"Holy Roman Emperor\">Emperor of the Romans</a> (881–88)\n",
      "</td></tr></tbody></table>\n"
     ]
    }
   ],
   "source": [
    "first_table = tables[0]\n",
    "print (first_table)"
   ]
  },
  {
   "cell_type": "markdown",
   "id": "a5f3bf65-468d-4781-bca1-eb40f76b5473",
   "metadata": {},
   "source": [
    "A table is a combination of 2 things: rows and cells. Rows will almost always be \"tr\" tags. This stands for table row. Cells with either be th tags or td tags. The th tag stands for table header. This will usually be used in the first row that indicates the name of the column. The td tag stands for Table Data cell. These are the cells that start on the first row that contains data and continue on down until the table ends. Because tables are precise structurally, there will always be the same name of headers as there are columns of data. We can use this structure to our advantage.\n",
    "\n",
    "Let's find all the rows in the first table"
   ]
  },
  {
   "cell_type": "code",
   "execution_count": 12,
   "id": "fantastic-provincial",
   "metadata": {},
   "outputs": [],
   "source": [
    "rows = first_table.find_all(\"tr\")"
   ]
  },
  {
   "cell_type": "markdown",
   "id": "parallel-element",
   "metadata": {},
   "source": [
    "Excellent! Now, let's iterate over all the rows."
   ]
  },
  {
   "cell_type": "code",
   "execution_count": 14,
   "id": "headed-dollar",
   "metadata": {},
   "outputs": [
    {
     "name": "stdout",
     "output_type": "stream",
     "text": [
      "<tr>\n",
      "<th width=\"8%\">Portrait\n",
      "</th>\n",
      "<th width=\"20%\">Name\n",
      "</th>\n",
      "<th width=\"7%\">King from\n",
      "</th>\n",
      "<th width=\"7%\">King until\n",
      "</th>\n",
      "<th width=\"20%\">Relationship with predecessor(s)\n",
      "</th>\n",
      "<th width=\"13%\">Title\n",
      "</th></tr>\n",
      "<tr>\n",
      "<td align=\"center\"><a class=\"image\" href=\"/wiki/File:Biblioth%C3%A8que_nationale_de_France_-_Bible_de_Vivien_Ms._Latin_1_folio_423r_d%C3%A9tail_Le_comte_Vivien_offre_le_manuscrit_de_la_Bible_faite_%C3%A0_l%27abbaye_de_Saint-Martin_de_Tours_%C3%A0_Charles_le_Chauve.jpg\"><img alt=\"Bibliothèque nationale de France - Bible de Vivien Ms. Latin 1 folio 423r détail Le comte Vivien offre le manuscrit de la Bible faite à l'abbaye de Saint-Martin de Tours à Charles le Chauve.jpg\" data-file-height=\"2462\" data-file-width=\"2068\" decoding=\"async\" height=\"119\" src=\"//upload.wikimedia.org/wikipedia/commons/thumb/4/40/Biblioth%C3%A8que_nationale_de_France_-_Bible_de_Vivien_Ms._Latin_1_folio_423r_d%C3%A9tail_Le_comte_Vivien_offre_le_manuscrit_de_la_Bible_faite_%C3%A0_l%27abbaye_de_Saint-Martin_de_Tours_%C3%A0_Charles_le_Chauve.jpg/100px-thumbnail.jpg\" srcset=\"//upload.wikimedia.org/wikipedia/commons/thumb/4/40/Biblioth%C3%A8que_nationale_de_France_-_Bible_de_Vivien_Ms._Latin_1_folio_423r_d%C3%A9tail_Le_comte_Vivien_offre_le_manuscrit_de_la_Bible_faite_%C3%A0_l%27abbaye_de_Saint-Martin_de_Tours_%C3%A0_Charles_le_Chauve.jpg/150px-thumbnail.jpg 1.5x, //upload.wikimedia.org/wikipedia/commons/thumb/4/40/Biblioth%C3%A8que_nationale_de_France_-_Bible_de_Vivien_Ms._Latin_1_folio_423r_d%C3%A9tail_Le_comte_Vivien_offre_le_manuscrit_de_la_Bible_faite_%C3%A0_l%27abbaye_de_Saint-Martin_de_Tours_%C3%A0_Charles_le_Chauve.jpg/200px-thumbnail.jpg 2x\" width=\"100\"/></a>\n",
      "</td>\n",
      "<td align=\"center\"><a class=\"mw-redirect\" href=\"/wiki/Charles_II_the_Bald\" title=\"Charles II the Bald\">Charles II the Bald</a>\n",
      "</td>\n",
      "<td align=\"center\"><a href=\"/wiki/Treaty_of_Verdun\" title=\"Treaty of Verdun\">August 843</a><br/><small>(King of the Franks from 20 June 840)</small>\n",
      "</td>\n",
      "<td align=\"center\">6 October 877\n",
      "</td>\n",
      "<td> • Son of <a class=\"mw-redirect\" href=\"/wiki/Louis_I_the_Pious\" title=\"Louis I the Pious\">Louis I the Pious</a>\n",
      "</td>\n",
      "<td align=\"center\"><a class=\"mw-redirect\" href=\"/wiki/King_of_the_Franks\" title=\"King of the Franks\">King of the Franks</a><br/><a href=\"/wiki/Holy_Roman_Emperor\" title=\"Holy Roman Emperor\">Emperor of the Romans</a> (875–77)\n",
      "</td></tr>\n",
      "<tr>\n",
      "<td align=\"center\"><a class=\"image\" href=\"/wiki/File:Amiel_-_Louis_the_Stammerer.jpg\"><img alt=\"Amiel - Louis the Stammerer.jpg\" data-file-height=\"624\" data-file-width=\"504\" decoding=\"async\" height=\"124\" src=\"//upload.wikimedia.org/wikipedia/commons/thumb/c/cc/Amiel_-_Louis_the_Stammerer.jpg/100px-Amiel_-_Louis_the_Stammerer.jpg\" srcset=\"//upload.wikimedia.org/wikipedia/commons/thumb/c/cc/Amiel_-_Louis_the_Stammerer.jpg/150px-Amiel_-_Louis_the_Stammerer.jpg 1.5x, //upload.wikimedia.org/wikipedia/commons/thumb/c/cc/Amiel_-_Louis_the_Stammerer.jpg/200px-Amiel_-_Louis_the_Stammerer.jpg 2x\" width=\"100\"/></a>\n",
      "</td>\n",
      "<td align=\"center\"><a class=\"mw-redirect\" href=\"/wiki/Louis_II_the_Stammerer\" title=\"Louis II the Stammerer\">Louis II the Stammerer</a>\n",
      "</td>\n",
      "<td align=\"center\">6 October 877\n",
      "</td>\n",
      "<td align=\"center\">10 April 879\n",
      "</td>\n",
      "<td> • Son of Charles II the Bald\n",
      "</td>\n",
      "<td align=\"center\"><a class=\"mw-redirect\" href=\"/wiki/King_of_the_Franks\" title=\"King of the Franks\">King of the Franks</a>\n",
      "</td></tr>\n",
      "<tr>\n",
      "<td align=\"center\"><a class=\"image\" href=\"/wiki/File:Louis_III.jpg\"><img alt=\"Louis III.jpg\" data-file-height=\"471\" data-file-width=\"235\" decoding=\"async\" height=\"200\" src=\"//upload.wikimedia.org/wikipedia/commons/thumb/1/1e/Louis_III.jpg/100px-Louis_III.jpg\" srcset=\"//upload.wikimedia.org/wikipedia/commons/thumb/1/1e/Louis_III.jpg/150px-Louis_III.jpg 1.5x, //upload.wikimedia.org/wikipedia/commons/thumb/1/1e/Louis_III.jpg/200px-Louis_III.jpg 2x\" width=\"100\"/></a>\n",
      "</td>\n",
      "<td align=\"center\"><a href=\"/wiki/Louis_III_of_France\" title=\"Louis III of France\">Louis III</a>\n",
      "</td>\n",
      "<td align=\"center\">10 April 879\n",
      "</td>\n",
      "<td align=\"center\">5 August 882\n",
      "</td>\n",
      "<td> • Son of Louis II the Stammerer\n",
      "</td>\n",
      "<td align=\"center\"><a class=\"mw-redirect\" href=\"/wiki/King_of_the_Franks\" title=\"King of the Franks\">King of the Franks</a>\n",
      "</td></tr>\n",
      "<tr>\n",
      "<td align=\"center\"><a class=\"image\" href=\"/wiki/File:Carloman_II.jpg\"><img alt=\"Carloman II.jpg\" data-file-height=\"451\" data-file-width=\"182\" decoding=\"async\" height=\"248\" src=\"//upload.wikimedia.org/wikipedia/commons/thumb/e/e4/Carloman_II.jpg/100px-Carloman_II.jpg\" srcset=\"//upload.wikimedia.org/wikipedia/commons/thumb/e/e4/Carloman_II.jpg/150px-Carloman_II.jpg 1.5x, //upload.wikimedia.org/wikipedia/commons/e/e4/Carloman_II.jpg 2x\" width=\"100\"/></a>\n",
      "</td>\n",
      "<td align=\"center\"><a href=\"/wiki/Carloman_II\" title=\"Carloman II\">Carloman II</a>\n",
      "</td>\n",
      "<td align=\"center\">5 August 882\n",
      "</td>\n",
      "<td align=\"center\">6 December 884\n",
      "</td>\n",
      "<td> • Son of Louis II the Stammerer\n",
      "<p> • Younger brother of Louis III\n",
      "</p>\n",
      "</td>\n",
      "<td align=\"center\"><a class=\"mw-redirect\" href=\"/wiki/King_of_the_Franks\" title=\"King of the Franks\">King of the Franks</a>\n",
      "</td></tr>\n",
      "<tr>\n",
      "<td align=\"center\"><a class=\"image\" href=\"/wiki/File:Amiel_-_Charles_the_Fat.jpg\"><img alt=\"Amiel - Charles the Fat.jpg\" data-file-height=\"620\" data-file-width=\"496\" decoding=\"async\" height=\"125\" src=\"//upload.wikimedia.org/wikipedia/commons/thumb/2/29/Amiel_-_Charles_the_Fat.jpg/100px-Amiel_-_Charles_the_Fat.jpg\" srcset=\"//upload.wikimedia.org/wikipedia/commons/thumb/2/29/Amiel_-_Charles_the_Fat.jpg/150px-Amiel_-_Charles_the_Fat.jpg 1.5x, //upload.wikimedia.org/wikipedia/commons/thumb/2/29/Amiel_-_Charles_the_Fat.jpg/200px-Amiel_-_Charles_the_Fat.jpg 2x\" width=\"100\"/></a>\n",
      "</td>\n",
      "<td align=\"center\"><a href=\"/wiki/Charles_the_Fat\" title=\"Charles the Fat\">Charles the Fat</a>\n",
      "</td>\n",
      "<td align=\"center\">20 May 885\n",
      "</td>\n",
      "<td align=\"center\">13 January 888\n",
      "</td>\n",
      "<td> • Son of <a class=\"mw-redirect\" href=\"/wiki/Louis_II_the_German\" title=\"Louis II the German\">Louis II the German</a><br/> • Cousin once removed of Carloman II and Louis III<br/> • Grandson of Louis I the Pious\n",
      "</td>\n",
      "<td align=\"center\"><a class=\"mw-redirect\" href=\"/wiki/King_of_the_Franks\" title=\"King of the Franks\">King of the Franks</a><br/><a href=\"/wiki/Holy_Roman_Emperor\" title=\"Holy Roman Emperor\">Emperor of the Romans</a> (881–88)\n",
      "</td></tr>\n"
     ]
    }
   ],
   "source": [
    "for row in rows:\n",
    "    print (row)"
   ]
  },
  {
   "cell_type": "markdown",
   "id": "46c9c6ec-a1ef-4498-9232-bc9dfceafb18",
   "metadata": {},
   "source": [
    "We can see the precise same HTML that we saw above. Now that we can access the rows, let's try and access the first row of data."
   ]
  },
  {
   "cell_type": "markdown",
   "id": "cb7b8bcb-6ba5-4fe7-aee5-09c9f18c3a48",
   "metadata": {},
   "source": [
    "## Find Cells"
   ]
  },
  {
   "cell_type": "markdown",
   "id": "524794fb-2a68-486c-97ca-9ea68b058887",
   "metadata": {},
   "source": [
    "To do this, we will need to find each cell. Remember, on row 1, we are working with th tags because these are headers."
   ]
  },
  {
   "cell_type": "code",
   "execution_count": 15,
   "id": "53d12b8d-51b5-402f-a7ad-3c06ba1ca447",
   "metadata": {},
   "outputs": [
    {
     "name": "stdout",
     "output_type": "stream",
     "text": [
      "<tr>\n",
      "<th width=\"8%\">Portrait\n",
      "</th>\n",
      "<th width=\"20%\">Name\n",
      "</th>\n",
      "<th width=\"7%\">King from\n",
      "</th>\n",
      "<th width=\"7%\">King until\n",
      "</th>\n",
      "<th width=\"20%\">Relationship with predecessor(s)\n",
      "</th>\n",
      "<th width=\"13%\">Title\n",
      "</th></tr>\n"
     ]
    }
   ],
   "source": [
    "first_row = rows[0]\n",
    "print (first_row)"
   ]
  },
  {
   "cell_type": "markdown",
   "id": "c8323100-11da-4155-ac47-4c24b7e27973",
   "metadata": {},
   "source": [
    "Let's now try to find all the cells in the first row."
   ]
  },
  {
   "cell_type": "code",
   "execution_count": 25,
   "id": "dbd99af8-75ff-4d88-a735-b7d81ebf69e4",
   "metadata": {},
   "outputs": [
    {
     "name": "stdout",
     "output_type": "stream",
     "text": [
      "[<th width=\"8%\">Portrait\n",
      "</th>, <th width=\"20%\">Name\n",
      "</th>, <th width=\"7%\">King from\n",
      "</th>, <th width=\"7%\">King until\n",
      "</th>, <th width=\"20%\">Relationship with predecessor(s)\n",
      "</th>, <th width=\"13%\">Title\n",
      "</th>]\n"
     ]
    }
   ],
   "source": [
    "cells = first_row.find_all(\"th\")\n",
    "print (cells)"
   ]
  },
  {
   "cell_type": "markdown",
   "id": "dfac5f43-0ead-4e6f-b85d-8a76ee332531",
   "metadata": {},
   "source": [
    "We can iterate over these cells and print off their text. I am adding .strip() here to remove the leading whitespaces and line breaks."
   ]
  },
  {
   "cell_type": "code",
   "execution_count": 18,
   "id": "b9a877cc-b39f-4df6-8933-2cddea225314",
   "metadata": {},
   "outputs": [
    {
     "name": "stdout",
     "output_type": "stream",
     "text": [
      "Portrait\n",
      "Name\n",
      "King from\n",
      "King until\n",
      "Relationship with predecessor(s)\n",
      "Title\n"
     ]
    }
   ],
   "source": [
    "for cell in cells:\n",
    "    print (cell.text.strip())"
   ]
  },
  {
   "cell_type": "markdown",
   "id": "11ff0d08-0737-4361-9910-14426b99458a",
   "metadata": {},
   "source": [
    "## Iterating Across the Entire Table"
   ]
  },
  {
   "cell_type": "markdown",
   "id": "8802e6a1-92d6-434f-bdb8-39518a1c8edd",
   "metadata": {},
   "source": [
    "Now that we know how to grab all tables, all rows within a table, and all cells within a row, let's try and iterate over the entire first table. First, let's grab the headers."
   ]
  },
  {
   "cell_type": "code",
   "execution_count": 23,
   "id": "241d6d93-c60b-4103-bef4-10af59877710",
   "metadata": {},
   "outputs": [
    {
     "name": "stdout",
     "output_type": "stream",
     "text": [
      "Portrait\n",
      "Name\n",
      "King from\n",
      "King until\n",
      "Relationship with predecessor(s)\n",
      "Title\n"
     ]
    }
   ],
   "source": [
    "rows = first_table.find_all(\"tr\")\n",
    "for row in rows:\n",
    "    cells = row.find_all(\"th\")\n",
    "    for cell in cells:\n",
    "        print (cell.text.strip())"
   ]
  },
  {
   "cell_type": "markdown",
   "id": "e595b8a9-46f8-40de-8feb-b87a11d7e44d",
   "metadata": {},
   "source": [
    "Now that we know all the headers, explore all the table data cells which start on the next row."
   ]
  },
  {
   "cell_type": "code",
   "execution_count": 24,
   "id": "eeb72a0e-3023-4fb2-bb10-d07fcfb24cd1",
   "metadata": {},
   "outputs": [
    {
     "name": "stdout",
     "output_type": "stream",
     "text": [
      "\n",
      "Charles II the Bald\n",
      "August 843(King of the Franks from 20 June 840)\n",
      "6 October 877\n",
      "• Son of Louis I the Pious\n",
      "King of the FranksEmperor of the Romans (875–77)\n",
      "\n",
      "Louis II the Stammerer\n",
      "6 October 877\n",
      "10 April 879\n",
      "• Son of Charles II the Bald\n",
      "King of the Franks\n",
      "\n",
      "Louis III\n",
      "10 April 879\n",
      "5 August 882\n",
      "• Son of Louis II the Stammerer\n",
      "King of the Franks\n",
      "\n",
      "Carloman II\n",
      "5 August 882\n",
      "6 December 884\n",
      "• Son of Louis II the Stammerer\n",
      " • Younger brother of Louis III\n",
      "King of the Franks\n",
      "\n",
      "Charles the Fat\n",
      "20 May 885\n",
      "13 January 888\n",
      "• Son of Louis II the German • Cousin once removed of Carloman II and Louis III • Grandson of Louis I the Pious\n",
      "King of the FranksEmperor of the Romans (881–88)\n"
     ]
    }
   ],
   "source": [
    "rows = first_table.find_all(\"tr\")\n",
    "for row in rows:\n",
    "    cells = row.find_all(\"td\")\n",
    "    for cell in cells:\n",
    "        print (cell.text.strip())"
   ]
  },
  {
   "cell_type": "markdown",
   "id": "6a724624-867d-4693-961a-6ae3792dda08",
   "metadata": {},
   "source": [
    "Now that you know how to grab all of this data, it will be time to bring all of this together for your final task. In the next chapter, we will try and extract all this data into properly structured data that will be stored within Python, then parsed as a Pandas DataFrame, and finally saved as a .csv file."
   ]
  },
  {
   "cell_type": "markdown",
   "id": "c1e3058f-9113-49e3-b924-8c1bc57bb36c",
   "metadata": {},
   "source": [
    "## Other Options"
   ]
  },
  {
   "cell_type": "markdown",
   "id": "05f96cae-d6a7-42df-a71a-804a8e575d52",
   "metadata": {},
   "source": [
    "I want to emphasize that there are other, easier ways to do this task. As with all things in Python, there are multiple solutions to the same problem. Here is one potential solution with Pandas. Pandas has a .read_html() function that can take a url. It will return a list of all tables in an HTML document. Let's try that and take a look at the first table."
   ]
  },
  {
   "cell_type": "code",
   "execution_count": 1,
   "id": "211eba1b-7e30-4067-9a73-f6ae9d45ea58",
   "metadata": {},
   "outputs": [],
   "source": [
    "import pandas as pd"
   ]
  },
  {
   "cell_type": "code",
   "execution_count": 8,
   "id": "467e66b2-f28b-4801-b5d4-26ff6093d14b",
   "metadata": {},
   "outputs": [],
   "source": [
    "df = pd.read_html(url)[0]"
   ]
  },
  {
   "cell_type": "code",
   "execution_count": 9,
   "id": "da166d50-0c8b-43c9-82af-df7f6817fd38",
   "metadata": {},
   "outputs": [
    {
     "data": {
      "text/html": [
       "<div>\n",
       "<style scoped>\n",
       "    .dataframe tbody tr th:only-of-type {\n",
       "        vertical-align: middle;\n",
       "    }\n",
       "\n",
       "    .dataframe tbody tr th {\n",
       "        vertical-align: top;\n",
       "    }\n",
       "\n",
       "    .dataframe thead th {\n",
       "        text-align: right;\n",
       "    }\n",
       "</style>\n",
       "<table border=\"1\" class=\"dataframe\">\n",
       "  <thead>\n",
       "    <tr style=\"text-align: right;\">\n",
       "      <th></th>\n",
       "      <th>Portrait</th>\n",
       "      <th>Name</th>\n",
       "      <th>Start</th>\n",
       "      <th>End</th>\n",
       "      <th>Succession / Notes</th>\n",
       "      <th>Title</th>\n",
       "      <th>Ref.</th>\n",
       "    </tr>\n",
       "  </thead>\n",
       "  <tbody>\n",
       "    <tr>\n",
       "      <th>0</th>\n",
       "      <td>NaN</td>\n",
       "      <td>Charles II \"the Bald\"[b]</td>\n",
       "      <td>c. 10 August 843[c][i]</td>\n",
       "      <td>6 October 877</td>\n",
       "      <td>• Son of Louis I and grandson of Charlemagne (...</td>\n",
       "      <td>King of the Franks(840–77)Emperor of the Roman...</td>\n",
       "      <td>[7][8][9][10]</td>\n",
       "    </tr>\n",
       "    <tr>\n",
       "      <th>1</th>\n",
       "      <td>NaN</td>\n",
       "      <td>Louis II \"the Stammerer\"[d]</td>\n",
       "      <td>6 October 877[ii]</td>\n",
       "      <td>10 April 879</td>\n",
       "      <td>• Son of Charles the Bald</td>\n",
       "      <td>King of the Franks</td>\n",
       "      <td>[8][7][11]</td>\n",
       "    </tr>\n",
       "    <tr>\n",
       "      <th>2</th>\n",
       "      <td>NaN</td>\n",
       "      <td>Louis III</td>\n",
       "      <td>10 April 879[iii]</td>\n",
       "      <td>5 August 882</td>\n",
       "      <td>• Son of Louis the Stammerer</td>\n",
       "      <td>King of the Franks</td>\n",
       "      <td>[8][12][13]</td>\n",
       "    </tr>\n",
       "    <tr>\n",
       "      <th>3</th>\n",
       "      <td>NaN</td>\n",
       "      <td>Carloman II</td>\n",
       "      <td>10 April 879[iv]</td>\n",
       "      <td>12 December 884</td>\n",
       "      <td>• Son of Louis the Stammerer</td>\n",
       "      <td>King of the Franks</td>\n",
       "      <td>[8][7][13]</td>\n",
       "    </tr>\n",
       "    <tr>\n",
       "      <th>4</th>\n",
       "      <td>NaN</td>\n",
       "      <td>Charles (III) \"the Fat\"[e]</td>\n",
       "      <td>12 December 884[v]</td>\n",
       "      <td>13 January 888</td>\n",
       "      <td>• Son of Louis II the German • Cousin once rem...</td>\n",
       "      <td>King of East Francia(871–88)Emperor of the Rom...</td>\n",
       "      <td>[14][15]</td>\n",
       "    </tr>\n",
       "    <tr>\n",
       "      <th>5</th>\n",
       "      <td>NaN</td>\n",
       "      <td>Eudes(Robertians)</td>\n",
       "      <td>13 January 888[vi]</td>\n",
       "      <td>1 January 898</td>\n",
       "      <td>• Son of Robert the Strong • Rivaled by Charle...</td>\n",
       "      <td>King of the Franks</td>\n",
       "      <td>[16][11]</td>\n",
       "    </tr>\n",
       "    <tr>\n",
       "      <th>6</th>\n",
       "      <td>NaN</td>\n",
       "      <td>Charles III\"the Simple\"</td>\n",
       "      <td>1 January 898[vii]</td>\n",
       "      <td>29 June 922</td>\n",
       "      <td>• Posthumous son of Louis II • Deposed</td>\n",
       "      <td>King of the Franks</td>\n",
       "      <td>[8][7]</td>\n",
       "    </tr>\n",
       "    <tr>\n",
       "      <th>7</th>\n",
       "      <td>NaN</td>\n",
       "      <td>Robert I(Robertians)</td>\n",
       "      <td>29 June 922[viii]</td>\n",
       "      <td>15 June 923</td>\n",
       "      <td>• Son of Robert the Strong and younger brother...</td>\n",
       "      <td>King of the Franks</td>\n",
       "      <td>[17][11]</td>\n",
       "    </tr>\n",
       "    <tr>\n",
       "      <th>8</th>\n",
       "      <td>NaN</td>\n",
       "      <td>Rudolph(Bosonids)</td>\n",
       "      <td>15 June 923[ix]</td>\n",
       "      <td>14 January 936</td>\n",
       "      <td>• Son of Richard, Duke of Burgundy • Son-in-la...</td>\n",
       "      <td>King of the Franks</td>\n",
       "      <td>[8][7]</td>\n",
       "    </tr>\n",
       "    <tr>\n",
       "      <th>9</th>\n",
       "      <td>NaN</td>\n",
       "      <td>Louis IV\"d'Outremer\"</td>\n",
       "      <td>19 June 936[x]</td>\n",
       "      <td>10 September 954</td>\n",
       "      <td>• Son of Charles III the Simple</td>\n",
       "      <td>King of the Franks</td>\n",
       "      <td>[8][7]</td>\n",
       "    </tr>\n",
       "    <tr>\n",
       "      <th>10</th>\n",
       "      <td>NaN</td>\n",
       "      <td>Lothair[f]</td>\n",
       "      <td>10 September 954[xi]</td>\n",
       "      <td>2 March 986</td>\n",
       "      <td>• Son of Louis IV</td>\n",
       "      <td>King of the Franks</td>\n",
       "      <td>[8][18]</td>\n",
       "    </tr>\n",
       "    <tr>\n",
       "      <th>11</th>\n",
       "      <td>NaN</td>\n",
       "      <td>Louis V\"the Do-Nothing\"</td>\n",
       "      <td>2 March 986[xii]</td>\n",
       "      <td>22 May 987</td>\n",
       "      <td>• Son of Lothair</td>\n",
       "      <td>King of the Franks</td>\n",
       "      <td>[19][20]</td>\n",
       "    </tr>\n",
       "  </tbody>\n",
       "</table>\n",
       "</div>"
      ],
      "text/plain": [
       "    Portrait                         Name                   Start  \\\n",
       "0        NaN     Charles II \"the Bald\"[b]  c. 10 August 843[c][i]   \n",
       "1        NaN  Louis II \"the Stammerer\"[d]       6 October 877[ii]   \n",
       "2        NaN                    Louis III       10 April 879[iii]   \n",
       "3        NaN                  Carloman II        10 April 879[iv]   \n",
       "4        NaN   Charles (III) \"the Fat\"[e]      12 December 884[v]   \n",
       "5        NaN            Eudes(Robertians)      13 January 888[vi]   \n",
       "6        NaN      Charles III\"the Simple\"      1 January 898[vii]   \n",
       "7        NaN         Robert I(Robertians)       29 June 922[viii]   \n",
       "8        NaN            Rudolph(Bosonids)         15 June 923[ix]   \n",
       "9        NaN         Louis IV\"d'Outremer\"          19 June 936[x]   \n",
       "10       NaN                   Lothair[f]    10 September 954[xi]   \n",
       "11       NaN      Louis V\"the Do-Nothing\"        2 March 986[xii]   \n",
       "\n",
       "                 End                                 Succession / Notes  \\\n",
       "0      6 October 877  • Son of Louis I and grandson of Charlemagne (...   \n",
       "1       10 April 879                          • Son of Charles the Bald   \n",
       "2       5 August 882                       • Son of Louis the Stammerer   \n",
       "3    12 December 884                       • Son of Louis the Stammerer   \n",
       "4     13 January 888  • Son of Louis II the German • Cousin once rem...   \n",
       "5      1 January 898  • Son of Robert the Strong • Rivaled by Charle...   \n",
       "6        29 June 922             • Posthumous son of Louis II • Deposed   \n",
       "7        15 June 923  • Son of Robert the Strong and younger brother...   \n",
       "8     14 January 936  • Son of Richard, Duke of Burgundy • Son-in-la...   \n",
       "9   10 September 954                    • Son of Charles III the Simple   \n",
       "10       2 March 986                                  • Son of Louis IV   \n",
       "11        22 May 987                                   • Son of Lothair   \n",
       "\n",
       "                                                Title           Ref.  \n",
       "0   King of the Franks(840–77)Emperor of the Roman...  [7][8][9][10]  \n",
       "1                                  King of the Franks     [8][7][11]  \n",
       "2                                  King of the Franks    [8][12][13]  \n",
       "3                                  King of the Franks     [8][7][13]  \n",
       "4   King of East Francia(871–88)Emperor of the Rom...       [14][15]  \n",
       "5                                  King of the Franks       [16][11]  \n",
       "6                                  King of the Franks         [8][7]  \n",
       "7                                  King of the Franks       [17][11]  \n",
       "8                                  King of the Franks         [8][7]  \n",
       "9                                  King of the Franks         [8][7]  \n",
       "10                                 King of the Franks        [8][18]  \n",
       "11                                 King of the Franks       [19][20]  "
      ]
     },
     "execution_count": 9,
     "metadata": {},
     "output_type": "execute_result"
    }
   ],
   "source": [
    "df"
   ]
  },
  {
   "cell_type": "markdown",
   "id": "3b3d7e8a-8e5b-4a40-ac44-fc793aefd196",
   "metadata": {},
   "source": [
    "It's not bad. And for a quick result, this is great, but it is not perfect. Notice the brackets with the citations in the Start column and the circle at the lead of each string in the Succession column. We also likely do not need to know NaN for each Portrait column. In other words, while Pandas is a quick solution, it is good to know how to do a custom solution using requests and BeautifulSoup."
   ]
  },
  {
   "cell_type": "code",
   "execution_count": null,
   "id": "26832171-0843-425a-9bc4-24817707d181",
   "metadata": {},
   "outputs": [],
   "source": []
  }
 ],
 "metadata": {
  "kernelspec": {
   "display_name": "Python 3 (ipykernel)",
   "language": "python",
   "name": "python3"
  },
  "language_info": {
   "codemirror_mode": {
    "name": "ipython",
    "version": 3
   },
   "file_extension": ".py",
   "mimetype": "text/x-python",
   "name": "python",
   "nbconvert_exporter": "python",
   "pygments_lexer": "ipython3",
   "version": "3.9.7"
  }
 },
 "nbformat": 4,
 "nbformat_minor": 5
}
